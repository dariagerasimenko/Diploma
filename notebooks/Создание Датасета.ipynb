{
 "cells": [
  {
   "cell_type": "markdown",
   "metadata": {},
   "source": [
    "# Создание датасета"
   ]
  },
  {
   "cell_type": "code",
   "execution_count": 1,
   "metadata": {},
   "outputs": [],
   "source": [
    "import os\n",
    "import numpy as np\n",
    "import pandas as pd\n",
    "cwd = os.path.abspath('') \n",
    "files = os.listdir(cwd)"
   ]
  },
  {
   "cell_type": "code",
   "execution_count": 2,
   "metadata": {},
   "outputs": [
    {
     "data": {
      "text/plain": [
       "['Без названия.ipynb',\n",
       " 'Создание Датасета.ipynb',\n",
       " '.DS_Store',\n",
       " 'SBER_180101_211231.csv',\n",
       " 'разметка в deeppavlov.ipynb',\n",
       " 'stop_words.txt',\n",
       " 'YNDX_180101_211231.csv',\n",
       " 'graphs.ipynb',\n",
       " 'channel_messages.json',\n",
       " 'GAZP_180101_211231.csv',\n",
       " 'df_1 (1).csv',\n",
       " 'event_log.txt',\n",
       " 'result.csv',\n",
       " '.ipynb_checkpoints',\n",
       " 'ROSN_180101_211231.csv',\n",
       " 'VTBR_180101_211231.csv',\n",
       " 'аналитика полученных данных.ipynb']"
      ]
     },
     "execution_count": 2,
     "metadata": {},
     "output_type": "execute_result"
    }
   ],
   "source": [
    "files"
   ]
  },
  {
   "cell_type": "code",
   "execution_count": 42,
   "metadata": {},
   "outputs": [
    {
     "data": {
      "text/html": [
       "<div>\n",
       "<style scoped>\n",
       "    .dataframe tbody tr th:only-of-type {\n",
       "        vertical-align: middle;\n",
       "    }\n",
       "\n",
       "    .dataframe tbody tr th {\n",
       "        vertical-align: top;\n",
       "    }\n",
       "\n",
       "    .dataframe thead th {\n",
       "        text-align: right;\n",
       "    }\n",
       "</style>\n",
       "<table border=\"1\" class=\"dataframe\">\n",
       "  <thead>\n",
       "    <tr style=\"text-align: right;\">\n",
       "      <th></th>\n",
       "      <th>&lt;TICKER&gt;</th>\n",
       "      <th>&lt;PER&gt;</th>\n",
       "      <th>&lt;DATE&gt;</th>\n",
       "      <th>&lt;TIME&gt;</th>\n",
       "      <th>&lt;OPEN&gt;</th>\n",
       "      <th>&lt;HIGH&gt;</th>\n",
       "      <th>&lt;LOW&gt;</th>\n",
       "      <th>&lt;CLOSE&gt;</th>\n",
       "      <th>&lt;VOL&gt;</th>\n",
       "    </tr>\n",
       "  </thead>\n",
       "  <tbody>\n",
       "    <tr>\n",
       "      <th>0</th>\n",
       "      <td>SBER</td>\n",
       "      <td>10</td>\n",
       "      <td>20180103</td>\n",
       "      <td>10:10:00</td>\n",
       "      <td>226.88</td>\n",
       "      <td>230.00</td>\n",
       "      <td>226.35</td>\n",
       "      <td>226.93</td>\n",
       "      <td>1771920</td>\n",
       "    </tr>\n",
       "    <tr>\n",
       "      <th>1</th>\n",
       "      <td>SBER</td>\n",
       "      <td>10</td>\n",
       "      <td>20180103</td>\n",
       "      <td>10:20:00</td>\n",
       "      <td>227.01</td>\n",
       "      <td>227.29</td>\n",
       "      <td>226.71</td>\n",
       "      <td>227.06</td>\n",
       "      <td>802790</td>\n",
       "    </tr>\n",
       "    <tr>\n",
       "      <th>2</th>\n",
       "      <td>SBER</td>\n",
       "      <td>10</td>\n",
       "      <td>20180103</td>\n",
       "      <td>10:30:00</td>\n",
       "      <td>227.01</td>\n",
       "      <td>227.14</td>\n",
       "      <td>226.91</td>\n",
       "      <td>227.00</td>\n",
       "      <td>492810</td>\n",
       "    </tr>\n",
       "    <tr>\n",
       "      <th>3</th>\n",
       "      <td>SBER</td>\n",
       "      <td>10</td>\n",
       "      <td>20180103</td>\n",
       "      <td>10:40:00</td>\n",
       "      <td>227.04</td>\n",
       "      <td>228.73</td>\n",
       "      <td>227.00</td>\n",
       "      <td>228.64</td>\n",
       "      <td>977310</td>\n",
       "    </tr>\n",
       "    <tr>\n",
       "      <th>4</th>\n",
       "      <td>SBER</td>\n",
       "      <td>10</td>\n",
       "      <td>20180103</td>\n",
       "      <td>10:50:00</td>\n",
       "      <td>228.70</td>\n",
       "      <td>229.10</td>\n",
       "      <td>228.27</td>\n",
       "      <td>228.33</td>\n",
       "      <td>808090</td>\n",
       "    </tr>\n",
       "  </tbody>\n",
       "</table>\n",
       "</div>"
      ],
      "text/plain": [
       "  <TICKER>  <PER>    <DATE>    <TIME>  <OPEN>  <HIGH>   <LOW>  <CLOSE>  \\\n",
       "0     SBER     10  20180103  10:10:00  226.88  230.00  226.35   226.93   \n",
       "1     SBER     10  20180103  10:20:00  227.01  227.29  226.71   227.06   \n",
       "2     SBER     10  20180103  10:30:00  227.01  227.14  226.91   227.00   \n",
       "3     SBER     10  20180103  10:40:00  227.04  228.73  227.00   228.64   \n",
       "4     SBER     10  20180103  10:50:00  228.70  229.10  228.27   228.33   \n",
       "\n",
       "     <VOL>  \n",
       "0  1771920  \n",
       "1   802790  \n",
       "2   492810  \n",
       "3   977310  \n",
       "4   808090  "
      ]
     },
     "execution_count": 42,
     "metadata": {},
     "output_type": "execute_result"
    }
   ],
   "source": [
    "df = pd.DataFrame()\n",
    "for file in files:\n",
    "    if file in ['SBER_180101_211231.csv', 'YNDX_180101_211231.csv', 'GAZP_180101_211231.csv',\n",
    "                'ROSN_180101_211231.csv', 'VTBR_180101_211231.csv']:\n",
    "        df = df.append(pd.read_csv(file), ignore_index=True) \n",
    "df.head()"
   ]
  },
  {
   "cell_type": "code",
   "execution_count": 43,
   "metadata": {},
   "outputs": [],
   "source": [
    "messages = pd.io.json.read_json('channel_messages.json')"
   ]
  },
  {
   "cell_type": "code",
   "execution_count": 44,
   "metadata": {},
   "outputs": [],
   "source": [
    "messages['time'] = messages['date'].apply(lambda x: str(x)[-14:-6])"
   ]
  },
  {
   "cell_type": "code",
   "execution_count": 45,
   "metadata": {},
   "outputs": [],
   "source": [
    "messages['<DATE>'] = messages['date'].apply(lambda x: str(x)[:10].replace('-', ''))"
   ]
  },
  {
   "cell_type": "code",
   "execution_count": 46,
   "metadata": {},
   "outputs": [],
   "source": [
    "messages['<TIME>'] = messages['time'].apply(lambda x: str(x)[:4]+'0:00')"
   ]
  },
  {
   "cell_type": "code",
   "execution_count": 47,
   "metadata": {},
   "outputs": [],
   "source": [
    "df_1 = messages[['message','date', 'time', '<DATE>', '<TIME>']]"
   ]
  },
  {
   "cell_type": "code",
   "execution_count": 48,
   "metadata": {},
   "outputs": [
    {
     "name": "stderr",
     "output_type": "stream",
     "text": [
      "<ipython-input-48-2b8a1d2eb7a7>:1: SettingWithCopyWarning: \n",
      "A value is trying to be set on a copy of a slice from a DataFrame.\n",
      "Try using .loc[row_indexer,col_indexer] = value instead\n",
      "\n",
      "See the caveats in the documentation: http://pandas.pydata.org/pandas-docs/stable/user_guide/indexing.html#returning-a-view-versus-a-copy\n",
      "  df_1[\"message\"] = df_1[\"message\"].str.lower()\n"
     ]
    }
   ],
   "source": [
    "df_1[\"message\"] = df_1[\"message\"].str.lower()"
   ]
  },
  {
   "cell_type": "code",
   "execution_count": 49,
   "metadata": {
    "pycharm": {
     "name": "#%%\n"
    }
   },
   "outputs": [
    {
     "data": {
      "text/html": [
       "<div>\n",
       "<style scoped>\n",
       "    .dataframe tbody tr th:only-of-type {\n",
       "        vertical-align: middle;\n",
       "    }\n",
       "\n",
       "    .dataframe tbody tr th {\n",
       "        vertical-align: top;\n",
       "    }\n",
       "\n",
       "    .dataframe thead th {\n",
       "        text-align: right;\n",
       "    }\n",
       "</style>\n",
       "<table border=\"1\" class=\"dataframe\">\n",
       "  <thead>\n",
       "    <tr style=\"text-align: right;\">\n",
       "      <th></th>\n",
       "      <th>message</th>\n",
       "      <th>date</th>\n",
       "      <th>time</th>\n",
       "      <th>&lt;DATE&gt;</th>\n",
       "      <th>&lt;TIME&gt;</th>\n",
       "    </tr>\n",
       "  </thead>\n",
       "  <tbody>\n",
       "    <tr>\n",
       "      <th>0</th>\n",
       "      <td>🏁 итоги дня, 07.12\\n\\n🇷🇺 президент рф ждет от ...</td>\n",
       "      <td>2021-12-07 17:43:21+00:00</td>\n",
       "      <td>17:43:21</td>\n",
       "      <td>20211207</td>\n",
       "      <td>17:40:00</td>\n",
       "    </tr>\n",
       "    <tr>\n",
       "      <th>1</th>\n",
       "      <td></td>\n",
       "      <td>2021-12-07 15:42:17+00:00</td>\n",
       "      <td>15:42:17</td>\n",
       "      <td>20211207</td>\n",
       "      <td>15:40:00</td>\n",
       "    </tr>\n",
       "    <tr>\n",
       "      <th>2</th>\n",
       "      <td></td>\n",
       "      <td>2021-12-07 15:42:17+00:00</td>\n",
       "      <td>15:42:17</td>\n",
       "      <td>20211207</td>\n",
       "      <td>15:40:00</td>\n",
       "    </tr>\n",
       "    <tr>\n",
       "      <th>3</th>\n",
       "      <td></td>\n",
       "      <td>2021-12-07 15:42:16+00:00</td>\n",
       "      <td>15:42:16</td>\n",
       "      <td>20211207</td>\n",
       "      <td>15:40:00</td>\n",
       "    </tr>\n",
       "    <tr>\n",
       "      <th>4</th>\n",
       "      <td>в этом году мы добавили столько новых функций,...</td>\n",
       "      <td>2021-12-07 15:42:16+00:00</td>\n",
       "      <td>15:42:16</td>\n",
       "      <td>20211207</td>\n",
       "      <td>15:40:00</td>\n",
       "    </tr>\n",
       "    <tr>\n",
       "      <th>...</th>\n",
       "      <td>...</td>\n",
       "      <td>...</td>\n",
       "      <td>...</td>\n",
       "      <td>...</td>\n",
       "      <td>...</td>\n",
       "    </tr>\n",
       "    <tr>\n",
       "      <th>319197</th>\n",
       "      <td>в инстаграм вышла новая статья и правильном от...</td>\n",
       "      <td>2017-04-04 08:45:03+00:00</td>\n",
       "      <td>08:45:03</td>\n",
       "      <td>20170404</td>\n",
       "      <td>08:40:00</td>\n",
       "    </tr>\n",
       "    <tr>\n",
       "      <th>319198</th>\n",
       "      <td></td>\n",
       "      <td>2017-04-04 08:44:59+00:00</td>\n",
       "      <td>08:44:59</td>\n",
       "      <td>20170404</td>\n",
       "      <td>08:40:00</td>\n",
       "    </tr>\n",
       "    <tr>\n",
       "      <th>319199</th>\n",
       "      <td>стартуем! свежие посты, аналитика, интересные ...</td>\n",
       "      <td>2017-04-03 10:07:28+00:00</td>\n",
       "      <td>10:07:28</td>\n",
       "      <td>20170403</td>\n",
       "      <td>10:00:00</td>\n",
       "    </tr>\n",
       "    <tr>\n",
       "      <th>319200</th>\n",
       "      <td>NaN</td>\n",
       "      <td>2017-04-03 10:03:13+00:00</td>\n",
       "      <td>10:03:13</td>\n",
       "      <td>20170403</td>\n",
       "      <td>10:00:00</td>\n",
       "    </tr>\n",
       "    <tr>\n",
       "      <th>319201</th>\n",
       "      <td>NaN</td>\n",
       "      <td>2017-04-03 10:03:07+00:00</td>\n",
       "      <td>10:03:07</td>\n",
       "      <td>20170403</td>\n",
       "      <td>10:00:00</td>\n",
       "    </tr>\n",
       "  </tbody>\n",
       "</table>\n",
       "<p>319202 rows × 5 columns</p>\n",
       "</div>"
      ],
      "text/plain": [
       "                                                  message  \\\n",
       "0       🏁 итоги дня, 07.12\\n\\n🇷🇺 президент рф ждет от ...   \n",
       "1                                                           \n",
       "2                                                           \n",
       "3                                                           \n",
       "4       в этом году мы добавили столько новых функций,...   \n",
       "...                                                   ...   \n",
       "319197  в инстаграм вышла новая статья и правильном от...   \n",
       "319198                                                      \n",
       "319199  стартуем! свежие посты, аналитика, интересные ...   \n",
       "319200                                                NaN   \n",
       "319201                                                NaN   \n",
       "\n",
       "                            date      time    <DATE>    <TIME>  \n",
       "0      2021-12-07 17:43:21+00:00  17:43:21  20211207  17:40:00  \n",
       "1      2021-12-07 15:42:17+00:00  15:42:17  20211207  15:40:00  \n",
       "2      2021-12-07 15:42:17+00:00  15:42:17  20211207  15:40:00  \n",
       "3      2021-12-07 15:42:16+00:00  15:42:16  20211207  15:40:00  \n",
       "4      2021-12-07 15:42:16+00:00  15:42:16  20211207  15:40:00  \n",
       "...                          ...       ...       ...       ...  \n",
       "319197 2017-04-04 08:45:03+00:00  08:45:03  20170404  08:40:00  \n",
       "319198 2017-04-04 08:44:59+00:00  08:44:59  20170404  08:40:00  \n",
       "319199 2017-04-03 10:07:28+00:00  10:07:28  20170403  10:00:00  \n",
       "319200 2017-04-03 10:03:13+00:00  10:03:13  20170403  10:00:00  \n",
       "319201 2017-04-03 10:03:07+00:00  10:03:07  20170403  10:00:00  \n",
       "\n",
       "[319202 rows x 5 columns]"
      ]
     },
     "execution_count": 49,
     "metadata": {},
     "output_type": "execute_result"
    }
   ],
   "source": [
    "df_1"
   ]
  },
  {
   "cell_type": "code",
   "execution_count": 50,
   "metadata": {},
   "outputs": [
    {
     "name": "stderr",
     "output_type": "stream",
     "text": [
      "<ipython-input-50-d5168df81fd8>:1: SettingWithCopyWarning: \n",
      "A value is trying to be set on a copy of a slice from a DataFrame.\n",
      "Try using .loc[row_indexer,col_indexer] = value instead\n",
      "\n",
      "See the caveats in the documentation: http://pandas.pydata.org/pandas-docs/stable/user_guide/indexing.html#returning-a-view-versus-a-copy\n",
      "  df_1['YNDX'] = df_1.message.apply(lambda x: 'YNDX' if 'yndx' in str(x) or 'яндекс' in str(x) or\n"
     ]
    }
   ],
   "source": [
    "df_1['YNDX'] = df_1.message.apply(lambda x: 'YNDX' if 'yndx' in str(x) or 'яндекс' in str(x) or \n",
    "                                  'yandex' in str(x) else '')"
   ]
  },
  {
   "cell_type": "code",
   "execution_count": 51,
   "metadata": {},
   "outputs": [
    {
     "name": "stderr",
     "output_type": "stream",
     "text": [
      "<ipython-input-51-b7d90426dbdc>:1: SettingWithCopyWarning: \n",
      "A value is trying to be set on a copy of a slice from a DataFrame.\n",
      "Try using .loc[row_indexer,col_indexer] = value instead\n",
      "\n",
      "See the caveats in the documentation: http://pandas.pydata.org/pandas-docs/stable/user_guide/indexing.html#returning-a-view-versus-a-copy\n",
      "  df_1['SBER'] = df_1.message.apply(lambda x: 'SBER' if 'sber' in str(x) or 'сбер' in str(x) else '')\n"
     ]
    }
   ],
   "source": [
    "df_1['SBER'] = df_1.message.apply(lambda x: 'SBER' if 'sber' in str(x) or 'сбер' in str(x) else '')"
   ]
  },
  {
   "cell_type": "code",
   "execution_count": 52,
   "metadata": {},
   "outputs": [
    {
     "name": "stderr",
     "output_type": "stream",
     "text": [
      "<ipython-input-52-b23407c90e33>:1: SettingWithCopyWarning: \n",
      "A value is trying to be set on a copy of a slice from a DataFrame.\n",
      "Try using .loc[row_indexer,col_indexer] = value instead\n",
      "\n",
      "See the caveats in the documentation: http://pandas.pydata.org/pandas-docs/stable/user_guide/indexing.html#returning-a-view-versus-a-copy\n",
      "  df_1['GAZP'] = df_1.message.apply(lambda x: 'GAZP' if 'gazp' in str(x) or 'газп' in str(x) else '')\n"
     ]
    }
   ],
   "source": [
    "df_1['GAZP'] = df_1.message.apply(lambda x: 'GAZP' if 'gazp' in str(x) or 'газп' in str(x) else '')"
   ]
  },
  {
   "cell_type": "code",
   "execution_count": 53,
   "metadata": {},
   "outputs": [
    {
     "name": "stderr",
     "output_type": "stream",
     "text": [
      "<ipython-input-53-a894bce3b3da>:1: SettingWithCopyWarning: \n",
      "A value is trying to be set on a copy of a slice from a DataFrame.\n",
      "Try using .loc[row_indexer,col_indexer] = value instead\n",
      "\n",
      "See the caveats in the documentation: http://pandas.pydata.org/pandas-docs/stable/user_guide/indexing.html#returning-a-view-versus-a-copy\n",
      "  df_1['ROSN'] = df_1.message.apply(lambda x: 'ROSN' if 'rosn' in str(x) or 'росн' in str(x) else '')\n"
     ]
    }
   ],
   "source": [
    "df_1['ROSN'] = df_1.message.apply(lambda x: 'ROSN' if 'rosn' in str(x) or 'росн' in str(x) else '')"
   ]
  },
  {
   "cell_type": "code",
   "execution_count": 54,
   "metadata": {},
   "outputs": [
    {
     "name": "stderr",
     "output_type": "stream",
     "text": [
      "<ipython-input-54-f1784d2624fb>:1: SettingWithCopyWarning: \n",
      "A value is trying to be set on a copy of a slice from a DataFrame.\n",
      "Try using .loc[row_indexer,col_indexer] = value instead\n",
      "\n",
      "See the caveats in the documentation: http://pandas.pydata.org/pandas-docs/stable/user_guide/indexing.html#returning-a-view-versus-a-copy\n",
      "  df_1['VTBR'] = df_1.message.apply(lambda x: 'VTBR' if 'vtb' in str(x) or 'втб' in str(x) else '')\n"
     ]
    }
   ],
   "source": [
    "df_1['VTBR'] = df_1.message.apply(lambda x: 'VTBR' if 'vtb' in str(x) or 'втб' in str(x) else '')"
   ]
  },
  {
   "cell_type": "code",
   "execution_count": 55,
   "metadata": {},
   "outputs": [
    {
     "data": {
      "text/html": [
       "<div>\n",
       "<style scoped>\n",
       "    .dataframe tbody tr th:only-of-type {\n",
       "        vertical-align: middle;\n",
       "    }\n",
       "\n",
       "    .dataframe tbody tr th {\n",
       "        vertical-align: top;\n",
       "    }\n",
       "\n",
       "    .dataframe thead th {\n",
       "        text-align: right;\n",
       "    }\n",
       "</style>\n",
       "<table border=\"1\" class=\"dataframe\">\n",
       "  <thead>\n",
       "    <tr style=\"text-align: right;\">\n",
       "      <th></th>\n",
       "      <th>&lt;TICKER&gt;</th>\n",
       "      <th>&lt;PER&gt;</th>\n",
       "      <th>&lt;DATE&gt;</th>\n",
       "      <th>&lt;TIME&gt;</th>\n",
       "      <th>&lt;OPEN&gt;</th>\n",
       "      <th>&lt;HIGH&gt;</th>\n",
       "      <th>&lt;LOW&gt;</th>\n",
       "      <th>&lt;CLOSE&gt;</th>\n",
       "      <th>&lt;VOL&gt;</th>\n",
       "    </tr>\n",
       "  </thead>\n",
       "  <tbody>\n",
       "    <tr>\n",
       "      <th>0</th>\n",
       "      <td>SBER</td>\n",
       "      <td>10</td>\n",
       "      <td>20180103</td>\n",
       "      <td>10:10:00</td>\n",
       "      <td>226.880000</td>\n",
       "      <td>230.000000</td>\n",
       "      <td>226.350000</td>\n",
       "      <td>226.930000</td>\n",
       "      <td>1771920</td>\n",
       "    </tr>\n",
       "    <tr>\n",
       "      <th>1</th>\n",
       "      <td>SBER</td>\n",
       "      <td>10</td>\n",
       "      <td>20180103</td>\n",
       "      <td>10:20:00</td>\n",
       "      <td>227.010000</td>\n",
       "      <td>227.290000</td>\n",
       "      <td>226.710000</td>\n",
       "      <td>227.060000</td>\n",
       "      <td>802790</td>\n",
       "    </tr>\n",
       "    <tr>\n",
       "      <th>2</th>\n",
       "      <td>SBER</td>\n",
       "      <td>10</td>\n",
       "      <td>20180103</td>\n",
       "      <td>10:30:00</td>\n",
       "      <td>227.010000</td>\n",
       "      <td>227.140000</td>\n",
       "      <td>226.910000</td>\n",
       "      <td>227.000000</td>\n",
       "      <td>492810</td>\n",
       "    </tr>\n",
       "    <tr>\n",
       "      <th>3</th>\n",
       "      <td>SBER</td>\n",
       "      <td>10</td>\n",
       "      <td>20180103</td>\n",
       "      <td>10:40:00</td>\n",
       "      <td>227.040000</td>\n",
       "      <td>228.730000</td>\n",
       "      <td>227.000000</td>\n",
       "      <td>228.640000</td>\n",
       "      <td>977310</td>\n",
       "    </tr>\n",
       "    <tr>\n",
       "      <th>4</th>\n",
       "      <td>SBER</td>\n",
       "      <td>10</td>\n",
       "      <td>20180103</td>\n",
       "      <td>10:50:00</td>\n",
       "      <td>228.700000</td>\n",
       "      <td>229.100000</td>\n",
       "      <td>228.270000</td>\n",
       "      <td>228.330000</td>\n",
       "      <td>808090</td>\n",
       "    </tr>\n",
       "    <tr>\n",
       "      <th>...</th>\n",
       "      <td>...</td>\n",
       "      <td>...</td>\n",
       "      <td>...</td>\n",
       "      <td>...</td>\n",
       "      <td>...</td>\n",
       "      <td>...</td>\n",
       "      <td>...</td>\n",
       "      <td>...</td>\n",
       "      <td>...</td>\n",
       "    </tr>\n",
       "    <tr>\n",
       "      <th>326112</th>\n",
       "      <td>VTBR</td>\n",
       "      <td>10</td>\n",
       "      <td>20211230</td>\n",
       "      <td>23:10:00</td>\n",
       "      <td>0.048350</td>\n",
       "      <td>0.048350</td>\n",
       "      <td>0.048270</td>\n",
       "      <td>0.048300</td>\n",
       "      <td>190580000</td>\n",
       "    </tr>\n",
       "    <tr>\n",
       "      <th>326113</th>\n",
       "      <td>VTBR</td>\n",
       "      <td>10</td>\n",
       "      <td>20211230</td>\n",
       "      <td>23:20:00</td>\n",
       "      <td>0.048315</td>\n",
       "      <td>0.048315</td>\n",
       "      <td>0.048255</td>\n",
       "      <td>0.048300</td>\n",
       "      <td>135680000</td>\n",
       "    </tr>\n",
       "    <tr>\n",
       "      <th>326114</th>\n",
       "      <td>VTBR</td>\n",
       "      <td>10</td>\n",
       "      <td>20211230</td>\n",
       "      <td>23:30:00</td>\n",
       "      <td>0.048300</td>\n",
       "      <td>0.048310</td>\n",
       "      <td>0.048255</td>\n",
       "      <td>0.048290</td>\n",
       "      <td>78810000</td>\n",
       "    </tr>\n",
       "    <tr>\n",
       "      <th>326115</th>\n",
       "      <td>VTBR</td>\n",
       "      <td>10</td>\n",
       "      <td>20211230</td>\n",
       "      <td>23:40:00</td>\n",
       "      <td>0.048290</td>\n",
       "      <td>0.048300</td>\n",
       "      <td>0.048250</td>\n",
       "      <td>0.048300</td>\n",
       "      <td>97650000</td>\n",
       "    </tr>\n",
       "    <tr>\n",
       "      <th>326116</th>\n",
       "      <td>VTBR</td>\n",
       "      <td>10</td>\n",
       "      <td>20211230</td>\n",
       "      <td>23:50:00</td>\n",
       "      <td>0.048300</td>\n",
       "      <td>0.048300</td>\n",
       "      <td>0.048190</td>\n",
       "      <td>0.048195</td>\n",
       "      <td>347400000</td>\n",
       "    </tr>\n",
       "  </tbody>\n",
       "</table>\n",
       "<p>326117 rows × 9 columns</p>\n",
       "</div>"
      ],
      "text/plain": [
       "       <TICKER>  <PER>    <DATE>    <TIME>      <OPEN>      <HIGH>  \\\n",
       "0          SBER     10  20180103  10:10:00  226.880000  230.000000   \n",
       "1          SBER     10  20180103  10:20:00  227.010000  227.290000   \n",
       "2          SBER     10  20180103  10:30:00  227.010000  227.140000   \n",
       "3          SBER     10  20180103  10:40:00  227.040000  228.730000   \n",
       "4          SBER     10  20180103  10:50:00  228.700000  229.100000   \n",
       "...         ...    ...       ...       ...         ...         ...   \n",
       "326112     VTBR     10  20211230  23:10:00    0.048350    0.048350   \n",
       "326113     VTBR     10  20211230  23:20:00    0.048315    0.048315   \n",
       "326114     VTBR     10  20211230  23:30:00    0.048300    0.048310   \n",
       "326115     VTBR     10  20211230  23:40:00    0.048290    0.048300   \n",
       "326116     VTBR     10  20211230  23:50:00    0.048300    0.048300   \n",
       "\n",
       "             <LOW>     <CLOSE>      <VOL>  \n",
       "0       226.350000  226.930000    1771920  \n",
       "1       226.710000  227.060000     802790  \n",
       "2       226.910000  227.000000     492810  \n",
       "3       227.000000  228.640000     977310  \n",
       "4       228.270000  228.330000     808090  \n",
       "...            ...         ...        ...  \n",
       "326112    0.048270    0.048300  190580000  \n",
       "326113    0.048255    0.048300  135680000  \n",
       "326114    0.048255    0.048290   78810000  \n",
       "326115    0.048250    0.048300   97650000  \n",
       "326116    0.048190    0.048195  347400000  \n",
       "\n",
       "[326117 rows x 9 columns]"
      ]
     },
     "execution_count": 55,
     "metadata": {},
     "output_type": "execute_result"
    }
   ],
   "source": [
    "df"
   ]
  },
  {
   "cell_type": "code",
   "execution_count": 56,
   "metadata": {},
   "outputs": [],
   "source": [
    "df['date'] = pd.to_datetime(df['<DATE>'].apply(lambda x: f'{str(x)[:4]}-{str(x)[4:6]}-{str(x)[6:]}'))"
   ]
  },
  {
   "cell_type": "code",
   "execution_count": 57,
   "metadata": {},
   "outputs": [
    {
     "data": {
      "text/html": [
       "<div>\n",
       "<style scoped>\n",
       "    .dataframe tbody tr th:only-of-type {\n",
       "        vertical-align: middle;\n",
       "    }\n",
       "\n",
       "    .dataframe tbody tr th {\n",
       "        vertical-align: top;\n",
       "    }\n",
       "\n",
       "    .dataframe thead th {\n",
       "        text-align: right;\n",
       "    }\n",
       "</style>\n",
       "<table border=\"1\" class=\"dataframe\">\n",
       "  <thead>\n",
       "    <tr style=\"text-align: right;\">\n",
       "      <th></th>\n",
       "      <th>message</th>\n",
       "      <th>date</th>\n",
       "      <th>time</th>\n",
       "      <th>&lt;DATE&gt;</th>\n",
       "      <th>&lt;TIME&gt;</th>\n",
       "      <th>YNDX</th>\n",
       "      <th>SBER</th>\n",
       "      <th>GAZP</th>\n",
       "      <th>ROSN</th>\n",
       "      <th>VTBR</th>\n",
       "    </tr>\n",
       "  </thead>\n",
       "  <tbody>\n",
       "    <tr>\n",
       "      <th>0</th>\n",
       "      <td>🏁 итоги дня, 07.12\\n\\n🇷🇺 президент рф ждет от ...</td>\n",
       "      <td>2021-12-07 17:43:21+00:00</td>\n",
       "      <td>17:43:21</td>\n",
       "      <td>20211207</td>\n",
       "      <td>17:40:00</td>\n",
       "      <td></td>\n",
       "      <td></td>\n",
       "      <td></td>\n",
       "      <td>ROSN</td>\n",
       "      <td></td>\n",
       "    </tr>\n",
       "    <tr>\n",
       "      <th>1</th>\n",
       "      <td></td>\n",
       "      <td>2021-12-07 15:42:17+00:00</td>\n",
       "      <td>15:42:17</td>\n",
       "      <td>20211207</td>\n",
       "      <td>15:40:00</td>\n",
       "      <td></td>\n",
       "      <td></td>\n",
       "      <td></td>\n",
       "      <td></td>\n",
       "      <td></td>\n",
       "    </tr>\n",
       "    <tr>\n",
       "      <th>2</th>\n",
       "      <td></td>\n",
       "      <td>2021-12-07 15:42:17+00:00</td>\n",
       "      <td>15:42:17</td>\n",
       "      <td>20211207</td>\n",
       "      <td>15:40:00</td>\n",
       "      <td></td>\n",
       "      <td></td>\n",
       "      <td></td>\n",
       "      <td></td>\n",
       "      <td></td>\n",
       "    </tr>\n",
       "    <tr>\n",
       "      <th>3</th>\n",
       "      <td></td>\n",
       "      <td>2021-12-07 15:42:16+00:00</td>\n",
       "      <td>15:42:16</td>\n",
       "      <td>20211207</td>\n",
       "      <td>15:40:00</td>\n",
       "      <td></td>\n",
       "      <td></td>\n",
       "      <td></td>\n",
       "      <td></td>\n",
       "      <td></td>\n",
       "    </tr>\n",
       "    <tr>\n",
       "      <th>4</th>\n",
       "      <td>в этом году мы добавили столько новых функций,...</td>\n",
       "      <td>2021-12-07 15:42:16+00:00</td>\n",
       "      <td>15:42:16</td>\n",
       "      <td>20211207</td>\n",
       "      <td>15:40:00</td>\n",
       "      <td></td>\n",
       "      <td></td>\n",
       "      <td></td>\n",
       "      <td></td>\n",
       "      <td></td>\n",
       "    </tr>\n",
       "    <tr>\n",
       "      <th>...</th>\n",
       "      <td>...</td>\n",
       "      <td>...</td>\n",
       "      <td>...</td>\n",
       "      <td>...</td>\n",
       "      <td>...</td>\n",
       "      <td>...</td>\n",
       "      <td>...</td>\n",
       "      <td>...</td>\n",
       "      <td>...</td>\n",
       "      <td>...</td>\n",
       "    </tr>\n",
       "    <tr>\n",
       "      <th>319197</th>\n",
       "      <td>в инстаграм вышла новая статья и правильном от...</td>\n",
       "      <td>2017-04-04 08:45:03+00:00</td>\n",
       "      <td>08:45:03</td>\n",
       "      <td>20170404</td>\n",
       "      <td>08:40:00</td>\n",
       "      <td></td>\n",
       "      <td></td>\n",
       "      <td></td>\n",
       "      <td></td>\n",
       "      <td></td>\n",
       "    </tr>\n",
       "    <tr>\n",
       "      <th>319198</th>\n",
       "      <td></td>\n",
       "      <td>2017-04-04 08:44:59+00:00</td>\n",
       "      <td>08:44:59</td>\n",
       "      <td>20170404</td>\n",
       "      <td>08:40:00</td>\n",
       "      <td></td>\n",
       "      <td></td>\n",
       "      <td></td>\n",
       "      <td></td>\n",
       "      <td></td>\n",
       "    </tr>\n",
       "    <tr>\n",
       "      <th>319199</th>\n",
       "      <td>стартуем! свежие посты, аналитика, интересные ...</td>\n",
       "      <td>2017-04-03 10:07:28+00:00</td>\n",
       "      <td>10:07:28</td>\n",
       "      <td>20170403</td>\n",
       "      <td>10:00:00</td>\n",
       "      <td></td>\n",
       "      <td></td>\n",
       "      <td></td>\n",
       "      <td></td>\n",
       "      <td></td>\n",
       "    </tr>\n",
       "    <tr>\n",
       "      <th>319200</th>\n",
       "      <td>NaN</td>\n",
       "      <td>2017-04-03 10:03:13+00:00</td>\n",
       "      <td>10:03:13</td>\n",
       "      <td>20170403</td>\n",
       "      <td>10:00:00</td>\n",
       "      <td></td>\n",
       "      <td></td>\n",
       "      <td></td>\n",
       "      <td></td>\n",
       "      <td></td>\n",
       "    </tr>\n",
       "    <tr>\n",
       "      <th>319201</th>\n",
       "      <td>NaN</td>\n",
       "      <td>2017-04-03 10:03:07+00:00</td>\n",
       "      <td>10:03:07</td>\n",
       "      <td>20170403</td>\n",
       "      <td>10:00:00</td>\n",
       "      <td></td>\n",
       "      <td></td>\n",
       "      <td></td>\n",
       "      <td></td>\n",
       "      <td></td>\n",
       "    </tr>\n",
       "  </tbody>\n",
       "</table>\n",
       "<p>319202 rows × 10 columns</p>\n",
       "</div>"
      ],
      "text/plain": [
       "                                                  message  \\\n",
       "0       🏁 итоги дня, 07.12\\n\\n🇷🇺 президент рф ждет от ...   \n",
       "1                                                           \n",
       "2                                                           \n",
       "3                                                           \n",
       "4       в этом году мы добавили столько новых функций,...   \n",
       "...                                                   ...   \n",
       "319197  в инстаграм вышла новая статья и правильном от...   \n",
       "319198                                                      \n",
       "319199  стартуем! свежие посты, аналитика, интересные ...   \n",
       "319200                                                NaN   \n",
       "319201                                                NaN   \n",
       "\n",
       "                            date      time    <DATE>    <TIME> YNDX SBER GAZP  \\\n",
       "0      2021-12-07 17:43:21+00:00  17:43:21  20211207  17:40:00                  \n",
       "1      2021-12-07 15:42:17+00:00  15:42:17  20211207  15:40:00                  \n",
       "2      2021-12-07 15:42:17+00:00  15:42:17  20211207  15:40:00                  \n",
       "3      2021-12-07 15:42:16+00:00  15:42:16  20211207  15:40:00                  \n",
       "4      2021-12-07 15:42:16+00:00  15:42:16  20211207  15:40:00                  \n",
       "...                          ...       ...       ...       ...  ...  ...  ...   \n",
       "319197 2017-04-04 08:45:03+00:00  08:45:03  20170404  08:40:00                  \n",
       "319198 2017-04-04 08:44:59+00:00  08:44:59  20170404  08:40:00                  \n",
       "319199 2017-04-03 10:07:28+00:00  10:07:28  20170403  10:00:00                  \n",
       "319200 2017-04-03 10:03:13+00:00  10:03:13  20170403  10:00:00                  \n",
       "319201 2017-04-03 10:03:07+00:00  10:03:07  20170403  10:00:00                  \n",
       "\n",
       "        ROSN VTBR  \n",
       "0       ROSN       \n",
       "1                  \n",
       "2                  \n",
       "3                  \n",
       "4                  \n",
       "...      ...  ...  \n",
       "319197             \n",
       "319198             \n",
       "319199             \n",
       "319200             \n",
       "319201             \n",
       "\n",
       "[319202 rows x 10 columns]"
      ]
     },
     "execution_count": 57,
     "metadata": {},
     "output_type": "execute_result"
    }
   ],
   "source": [
    "df_1"
   ]
  },
  {
   "cell_type": "code",
   "execution_count": 58,
   "metadata": {
    "pycharm": {
     "name": "#%%\n"
    }
   },
   "outputs": [
    {
     "data": {
      "text/plain": [
       "'2021-12-07 '"
      ]
     },
     "execution_count": 58,
     "metadata": {},
     "output_type": "execute_result"
    }
   ],
   "source": [
    "x = '2021-12-07 06:40:32+00:00'\n",
    "x[:-14]"
   ]
  },
  {
   "cell_type": "code",
   "execution_count": 59,
   "metadata": {
    "pycharm": {
     "name": "#%%\n"
    }
   },
   "outputs": [
    {
     "name": "stderr",
     "output_type": "stream",
     "text": [
      "<ipython-input-59-b9ea2f798d86>:1: SettingWithCopyWarning: \n",
      "A value is trying to be set on a copy of a slice from a DataFrame.\n",
      "Try using .loc[row_indexer,col_indexer] = value instead\n",
      "\n",
      "See the caveats in the documentation: http://pandas.pydata.org/pandas-docs/stable/user_guide/indexing.html#returning-a-view-versus-a-copy\n",
      "  df_1['date'] = df_1['date'].apply(lambda x: str(x)[:-14])+df_1['<TIME>']\n"
     ]
    }
   ],
   "source": [
    "df_1['date'] = df_1['date'].apply(lambda x: str(x)[:-14])+df_1['<TIME>']"
   ]
  },
  {
   "cell_type": "code",
   "execution_count": 60,
   "metadata": {
    "pycharm": {
     "name": "#%%\n"
    }
   },
   "outputs": [],
   "source": [
    "df['date'] = df['<DATE>'].apply(lambda x: f'{str(x)[:4]}-{str(x)[4:6]}-{str(x)[6:]}')"
   ]
  },
  {
   "cell_type": "code",
   "execution_count": 61,
   "metadata": {
    "pycharm": {
     "name": "#%%\n"
    }
   },
   "outputs": [],
   "source": [
    "df['date'] = df['date'].apply(lambda x: str(x)) + ' ' + df['<TIME>'].apply(lambda x: str(x))"
   ]
  },
  {
   "cell_type": "code",
   "execution_count": 62,
   "metadata": {
    "pycharm": {
     "name": "#%%\n"
    }
   },
   "outputs": [],
   "source": [
    "df['date'] = pd.to_datetime(df['date'])"
   ]
  },
  {
   "cell_type": "code",
   "execution_count": 63,
   "metadata": {
    "pycharm": {
     "name": "#%%\n"
    }
   },
   "outputs": [
    {
     "name": "stderr",
     "output_type": "stream",
     "text": [
      "<ipython-input-63-9b034641e858>:1: SettingWithCopyWarning: \n",
      "A value is trying to be set on a copy of a slice from a DataFrame.\n",
      "Try using .loc[row_indexer,col_indexer] = value instead\n",
      "\n",
      "See the caveats in the documentation: http://pandas.pydata.org/pandas-docs/stable/user_guide/indexing.html#returning-a-view-versus-a-copy\n",
      "  df_1['date'] = pd.to_datetime(df_1['date'])\n"
     ]
    }
   ],
   "source": [
    "df_1['date'] = pd.to_datetime(df_1['date'])"
   ]
  },
  {
   "cell_type": "code",
   "execution_count": 64,
   "metadata": {
    "pycharm": {
     "name": "#%%\n"
    }
   },
   "outputs": [
    {
     "name": "stderr",
     "output_type": "stream",
     "text": [
      "<ipython-input-64-28e58a89d131>:1: SettingWithCopyWarning: \n",
      "A value is trying to be set on a copy of a slice from a DataFrame.\n",
      "Try using .loc[row_indexer,col_indexer] = value instead\n",
      "\n",
      "See the caveats in the documentation: http://pandas.pydata.org/pandas-docs/stable/user_guide/indexing.html#returning-a-view-versus-a-copy\n",
      "  df_1['comb'] = df_1['YNDX']+' '+df_1['SBER']+ ' '+df_1['GAZP']+' '+df_1['ROSN']+' '+df_1['VTBR']\n",
      "<ipython-input-64-28e58a89d131>:2: SettingWithCopyWarning: \n",
      "A value is trying to be set on a copy of a slice from a DataFrame.\n",
      "Try using .loc[row_indexer,col_indexer] = value instead\n",
      "\n",
      "See the caveats in the documentation: http://pandas.pydata.org/pandas-docs/stable/user_guide/indexing.html#returning-a-view-versus-a-copy\n",
      "  df_1['comp'] = df_1['comb'].apply(lambda x: list(x.split()))\n"
     ]
    }
   ],
   "source": [
    "df_1['comb'] = df_1['YNDX']+' '+df_1['SBER']+ ' '+df_1['GAZP']+' '+df_1['ROSN']+' '+df_1['VTBR']\n",
    "df_1['comp'] = df_1['comb'].apply(lambda x: list(x.split()))"
   ]
  },
  {
   "cell_type": "code",
   "execution_count": 65,
   "metadata": {
    "pycharm": {
     "name": "#%%\n"
    }
   },
   "outputs": [
    {
     "data": {
      "text/html": [
       "<div>\n",
       "<style scoped>\n",
       "    .dataframe tbody tr th:only-of-type {\n",
       "        vertical-align: middle;\n",
       "    }\n",
       "\n",
       "    .dataframe tbody tr th {\n",
       "        vertical-align: top;\n",
       "    }\n",
       "\n",
       "    .dataframe thead th {\n",
       "        text-align: right;\n",
       "    }\n",
       "</style>\n",
       "<table border=\"1\" class=\"dataframe\">\n",
       "  <thead>\n",
       "    <tr style=\"text-align: right;\">\n",
       "      <th></th>\n",
       "      <th>message</th>\n",
       "      <th>date</th>\n",
       "      <th>time</th>\n",
       "      <th>&lt;DATE&gt;</th>\n",
       "      <th>&lt;TIME&gt;</th>\n",
       "      <th>YNDX</th>\n",
       "      <th>SBER</th>\n",
       "      <th>GAZP</th>\n",
       "      <th>ROSN</th>\n",
       "      <th>VTBR</th>\n",
       "      <th>comb</th>\n",
       "      <th>comp</th>\n",
       "    </tr>\n",
       "  </thead>\n",
       "  <tbody>\n",
       "    <tr>\n",
       "      <th>0</th>\n",
       "      <td>🏁 итоги дня, 07.12\\n\\n🇷🇺 президент рф ждет от ...</td>\n",
       "      <td>2021-12-07 17:40:00</td>\n",
       "      <td>17:43:21</td>\n",
       "      <td>20211207</td>\n",
       "      <td>17:40:00</td>\n",
       "      <td></td>\n",
       "      <td></td>\n",
       "      <td></td>\n",
       "      <td>ROSN</td>\n",
       "      <td></td>\n",
       "      <td>ROSN</td>\n",
       "      <td>[ROSN]</td>\n",
       "    </tr>\n",
       "    <tr>\n",
       "      <th>1</th>\n",
       "      <td></td>\n",
       "      <td>2021-12-07 15:40:00</td>\n",
       "      <td>15:42:17</td>\n",
       "      <td>20211207</td>\n",
       "      <td>15:40:00</td>\n",
       "      <td></td>\n",
       "      <td></td>\n",
       "      <td></td>\n",
       "      <td></td>\n",
       "      <td></td>\n",
       "      <td></td>\n",
       "      <td>[]</td>\n",
       "    </tr>\n",
       "    <tr>\n",
       "      <th>2</th>\n",
       "      <td></td>\n",
       "      <td>2021-12-07 15:40:00</td>\n",
       "      <td>15:42:17</td>\n",
       "      <td>20211207</td>\n",
       "      <td>15:40:00</td>\n",
       "      <td></td>\n",
       "      <td></td>\n",
       "      <td></td>\n",
       "      <td></td>\n",
       "      <td></td>\n",
       "      <td></td>\n",
       "      <td>[]</td>\n",
       "    </tr>\n",
       "    <tr>\n",
       "      <th>3</th>\n",
       "      <td></td>\n",
       "      <td>2021-12-07 15:40:00</td>\n",
       "      <td>15:42:16</td>\n",
       "      <td>20211207</td>\n",
       "      <td>15:40:00</td>\n",
       "      <td></td>\n",
       "      <td></td>\n",
       "      <td></td>\n",
       "      <td></td>\n",
       "      <td></td>\n",
       "      <td></td>\n",
       "      <td>[]</td>\n",
       "    </tr>\n",
       "    <tr>\n",
       "      <th>4</th>\n",
       "      <td>в этом году мы добавили столько новых функций,...</td>\n",
       "      <td>2021-12-07 15:40:00</td>\n",
       "      <td>15:42:16</td>\n",
       "      <td>20211207</td>\n",
       "      <td>15:40:00</td>\n",
       "      <td></td>\n",
       "      <td></td>\n",
       "      <td></td>\n",
       "      <td></td>\n",
       "      <td></td>\n",
       "      <td></td>\n",
       "      <td>[]</td>\n",
       "    </tr>\n",
       "    <tr>\n",
       "      <th>...</th>\n",
       "      <td>...</td>\n",
       "      <td>...</td>\n",
       "      <td>...</td>\n",
       "      <td>...</td>\n",
       "      <td>...</td>\n",
       "      <td>...</td>\n",
       "      <td>...</td>\n",
       "      <td>...</td>\n",
       "      <td>...</td>\n",
       "      <td>...</td>\n",
       "      <td>...</td>\n",
       "      <td>...</td>\n",
       "    </tr>\n",
       "    <tr>\n",
       "      <th>319197</th>\n",
       "      <td>в инстаграм вышла новая статья и правильном от...</td>\n",
       "      <td>2017-04-04 08:40:00</td>\n",
       "      <td>08:45:03</td>\n",
       "      <td>20170404</td>\n",
       "      <td>08:40:00</td>\n",
       "      <td></td>\n",
       "      <td></td>\n",
       "      <td></td>\n",
       "      <td></td>\n",
       "      <td></td>\n",
       "      <td></td>\n",
       "      <td>[]</td>\n",
       "    </tr>\n",
       "    <tr>\n",
       "      <th>319198</th>\n",
       "      <td></td>\n",
       "      <td>2017-04-04 08:40:00</td>\n",
       "      <td>08:44:59</td>\n",
       "      <td>20170404</td>\n",
       "      <td>08:40:00</td>\n",
       "      <td></td>\n",
       "      <td></td>\n",
       "      <td></td>\n",
       "      <td></td>\n",
       "      <td></td>\n",
       "      <td></td>\n",
       "      <td>[]</td>\n",
       "    </tr>\n",
       "    <tr>\n",
       "      <th>319199</th>\n",
       "      <td>стартуем! свежие посты, аналитика, интересные ...</td>\n",
       "      <td>2017-04-03 10:00:00</td>\n",
       "      <td>10:07:28</td>\n",
       "      <td>20170403</td>\n",
       "      <td>10:00:00</td>\n",
       "      <td></td>\n",
       "      <td></td>\n",
       "      <td></td>\n",
       "      <td></td>\n",
       "      <td></td>\n",
       "      <td></td>\n",
       "      <td>[]</td>\n",
       "    </tr>\n",
       "    <tr>\n",
       "      <th>319200</th>\n",
       "      <td>NaN</td>\n",
       "      <td>2017-04-03 10:00:00</td>\n",
       "      <td>10:03:13</td>\n",
       "      <td>20170403</td>\n",
       "      <td>10:00:00</td>\n",
       "      <td></td>\n",
       "      <td></td>\n",
       "      <td></td>\n",
       "      <td></td>\n",
       "      <td></td>\n",
       "      <td></td>\n",
       "      <td>[]</td>\n",
       "    </tr>\n",
       "    <tr>\n",
       "      <th>319201</th>\n",
       "      <td>NaN</td>\n",
       "      <td>2017-04-03 10:00:00</td>\n",
       "      <td>10:03:07</td>\n",
       "      <td>20170403</td>\n",
       "      <td>10:00:00</td>\n",
       "      <td></td>\n",
       "      <td></td>\n",
       "      <td></td>\n",
       "      <td></td>\n",
       "      <td></td>\n",
       "      <td></td>\n",
       "      <td>[]</td>\n",
       "    </tr>\n",
       "  </tbody>\n",
       "</table>\n",
       "<p>319202 rows × 12 columns</p>\n",
       "</div>"
      ],
      "text/plain": [
       "                                                  message                date  \\\n",
       "0       🏁 итоги дня, 07.12\\n\\n🇷🇺 президент рф ждет от ... 2021-12-07 17:40:00   \n",
       "1                                                         2021-12-07 15:40:00   \n",
       "2                                                         2021-12-07 15:40:00   \n",
       "3                                                         2021-12-07 15:40:00   \n",
       "4       в этом году мы добавили столько новых функций,... 2021-12-07 15:40:00   \n",
       "...                                                   ...                 ...   \n",
       "319197  в инстаграм вышла новая статья и правильном от... 2017-04-04 08:40:00   \n",
       "319198                                                    2017-04-04 08:40:00   \n",
       "319199  стартуем! свежие посты, аналитика, интересные ... 2017-04-03 10:00:00   \n",
       "319200                                                NaN 2017-04-03 10:00:00   \n",
       "319201                                                NaN 2017-04-03 10:00:00   \n",
       "\n",
       "            time    <DATE>    <TIME> YNDX SBER GAZP  ROSN VTBR      comb  \\\n",
       "0       17:43:21  20211207  17:40:00                 ROSN          ROSN    \n",
       "1       15:42:17  20211207  15:40:00                                       \n",
       "2       15:42:17  20211207  15:40:00                                       \n",
       "3       15:42:16  20211207  15:40:00                                       \n",
       "4       15:42:16  20211207  15:40:00                                       \n",
       "...          ...       ...       ...  ...  ...  ...   ...  ...       ...   \n",
       "319197  08:45:03  20170404  08:40:00                                       \n",
       "319198  08:44:59  20170404  08:40:00                                       \n",
       "319199  10:07:28  20170403  10:00:00                                       \n",
       "319200  10:03:13  20170403  10:00:00                                       \n",
       "319201  10:03:07  20170403  10:00:00                                       \n",
       "\n",
       "          comp  \n",
       "0       [ROSN]  \n",
       "1           []  \n",
       "2           []  \n",
       "3           []  \n",
       "4           []  \n",
       "...        ...  \n",
       "319197      []  \n",
       "319198      []  \n",
       "319199      []  \n",
       "319200      []  \n",
       "319201      []  \n",
       "\n",
       "[319202 rows x 12 columns]"
      ]
     },
     "execution_count": 65,
     "metadata": {},
     "output_type": "execute_result"
    }
   ],
   "source": [
    "df_1"
   ]
  },
  {
   "cell_type": "code",
   "execution_count": 104,
   "metadata": {},
   "outputs": [
    {
     "name": "stdout",
     "output_type": "stream",
     "text": [
      "YNDX\n",
      "        315502\n",
      "YNDX      3700\n",
      "Name: YNDX, dtype: int64\n",
      "__________\n",
      "SBER\n",
      "        308924\n",
      "SBER     10278\n",
      "Name: SBER, dtype: int64\n",
      "__________\n",
      "GAZP\n",
      "        307688\n",
      "GAZP     11514\n",
      "Name: GAZP, dtype: int64\n",
      "__________\n",
      "ROSN\n",
      "        314780\n",
      "ROSN      4422\n",
      "Name: ROSN, dtype: int64\n",
      "__________\n",
      "VTBR\n",
      "        313364\n",
      "VTBR      5838\n",
      "Name: VTBR, dtype: int64\n",
      "__________\n"
     ]
    }
   ],
   "source": [
    "for i in df_1[['YNDX', 'SBER', 'GAZP', 'ROSN', 'VTBR']].columns:\n",
    "    print(i)\n",
    "    print(df_1[i].value_counts())\n",
    "    print('_'*10)"
   ]
  },
  {
   "cell_type": "code",
   "execution_count": 66,
   "metadata": {
    "pycharm": {
     "name": "#%%\n"
    }
   },
   "outputs": [],
   "source": [
    "result = pd.merge(df[['<TICKER>','<OPEN>', '<HIGH>', '<LOW>', '<CLOSE>', '<VOL>', 'date']],\n",
    "                  df_1[['message', 'date']], on=['date'], how = 'left') #where TICKER in company"
   ]
  },
  {
   "cell_type": "code",
   "execution_count": 67,
   "metadata": {
    "pycharm": {
     "name": "#%%\n"
    }
   },
   "outputs": [
    {
     "data": {
      "text/html": [
       "<div>\n",
       "<style scoped>\n",
       "    .dataframe tbody tr th:only-of-type {\n",
       "        vertical-align: middle;\n",
       "    }\n",
       "\n",
       "    .dataframe tbody tr th {\n",
       "        vertical-align: top;\n",
       "    }\n",
       "\n",
       "    .dataframe thead th {\n",
       "        text-align: right;\n",
       "    }\n",
       "</style>\n",
       "<table border=\"1\" class=\"dataframe\">\n",
       "  <thead>\n",
       "    <tr style=\"text-align: right;\">\n",
       "      <th></th>\n",
       "      <th>&lt;TICKER&gt;</th>\n",
       "      <th>&lt;OPEN&gt;</th>\n",
       "      <th>&lt;HIGH&gt;</th>\n",
       "      <th>&lt;LOW&gt;</th>\n",
       "      <th>&lt;CLOSE&gt;</th>\n",
       "      <th>&lt;VOL&gt;</th>\n",
       "      <th>date</th>\n",
       "      <th>message</th>\n",
       "    </tr>\n",
       "  </thead>\n",
       "  <tbody>\n",
       "    <tr>\n",
       "      <th>0</th>\n",
       "      <td>SBER</td>\n",
       "      <td>226.880000</td>\n",
       "      <td>230.000000</td>\n",
       "      <td>226.350000</td>\n",
       "      <td>226.930000</td>\n",
       "      <td>1771920</td>\n",
       "      <td>2018-01-03 10:10:00</td>\n",
       "      <td>NaN</td>\n",
       "    </tr>\n",
       "    <tr>\n",
       "      <th>1</th>\n",
       "      <td>SBER</td>\n",
       "      <td>227.010000</td>\n",
       "      <td>227.290000</td>\n",
       "      <td>226.710000</td>\n",
       "      <td>227.060000</td>\n",
       "      <td>802790</td>\n",
       "      <td>2018-01-03 10:20:00</td>\n",
       "      <td>NaN</td>\n",
       "    </tr>\n",
       "    <tr>\n",
       "      <th>2</th>\n",
       "      <td>SBER</td>\n",
       "      <td>227.010000</td>\n",
       "      <td>227.140000</td>\n",
       "      <td>226.910000</td>\n",
       "      <td>227.000000</td>\n",
       "      <td>492810</td>\n",
       "      <td>2018-01-03 10:30:00</td>\n",
       "      <td>политика, православие, нефть, алмазы… межпромб...</td>\n",
       "    </tr>\n",
       "    <tr>\n",
       "      <th>3</th>\n",
       "      <td>SBER</td>\n",
       "      <td>227.010000</td>\n",
       "      <td>227.140000</td>\n",
       "      <td>226.910000</td>\n",
       "      <td>227.000000</td>\n",
       "      <td>492810</td>\n",
       "      <td>2018-01-03 10:30:00</td>\n",
       "      <td>а это шикарная старая статья-калькулятор, кото...</td>\n",
       "    </tr>\n",
       "    <tr>\n",
       "      <th>4</th>\n",
       "      <td>SBER</td>\n",
       "      <td>227.010000</td>\n",
       "      <td>227.140000</td>\n",
       "      <td>226.910000</td>\n",
       "      <td>227.000000</td>\n",
       "      <td>492810</td>\n",
       "      <td>2018-01-03 10:30:00</td>\n",
       "      <td></td>\n",
       "    </tr>\n",
       "    <tr>\n",
       "      <th>...</th>\n",
       "      <td>...</td>\n",
       "      <td>...</td>\n",
       "      <td>...</td>\n",
       "      <td>...</td>\n",
       "      <td>...</td>\n",
       "      <td>...</td>\n",
       "      <td>...</td>\n",
       "      <td>...</td>\n",
       "    </tr>\n",
       "    <tr>\n",
       "      <th>853864</th>\n",
       "      <td>VTBR</td>\n",
       "      <td>0.048350</td>\n",
       "      <td>0.048350</td>\n",
       "      <td>0.048270</td>\n",
       "      <td>0.048300</td>\n",
       "      <td>190580000</td>\n",
       "      <td>2021-12-30 23:10:00</td>\n",
       "      <td>NaN</td>\n",
       "    </tr>\n",
       "    <tr>\n",
       "      <th>853865</th>\n",
       "      <td>VTBR</td>\n",
       "      <td>0.048315</td>\n",
       "      <td>0.048315</td>\n",
       "      <td>0.048255</td>\n",
       "      <td>0.048300</td>\n",
       "      <td>135680000</td>\n",
       "      <td>2021-12-30 23:20:00</td>\n",
       "      <td>NaN</td>\n",
       "    </tr>\n",
       "    <tr>\n",
       "      <th>853866</th>\n",
       "      <td>VTBR</td>\n",
       "      <td>0.048300</td>\n",
       "      <td>0.048310</td>\n",
       "      <td>0.048255</td>\n",
       "      <td>0.048290</td>\n",
       "      <td>78810000</td>\n",
       "      <td>2021-12-30 23:30:00</td>\n",
       "      <td>NaN</td>\n",
       "    </tr>\n",
       "    <tr>\n",
       "      <th>853867</th>\n",
       "      <td>VTBR</td>\n",
       "      <td>0.048290</td>\n",
       "      <td>0.048300</td>\n",
       "      <td>0.048250</td>\n",
       "      <td>0.048300</td>\n",
       "      <td>97650000</td>\n",
       "      <td>2021-12-30 23:40:00</td>\n",
       "      <td>NaN</td>\n",
       "    </tr>\n",
       "    <tr>\n",
       "      <th>853868</th>\n",
       "      <td>VTBR</td>\n",
       "      <td>0.048300</td>\n",
       "      <td>0.048300</td>\n",
       "      <td>0.048190</td>\n",
       "      <td>0.048195</td>\n",
       "      <td>347400000</td>\n",
       "      <td>2021-12-30 23:50:00</td>\n",
       "      <td>NaN</td>\n",
       "    </tr>\n",
       "  </tbody>\n",
       "</table>\n",
       "<p>853869 rows × 8 columns</p>\n",
       "</div>"
      ],
      "text/plain": [
       "       <TICKER>      <OPEN>      <HIGH>       <LOW>     <CLOSE>      <VOL>  \\\n",
       "0          SBER  226.880000  230.000000  226.350000  226.930000    1771920   \n",
       "1          SBER  227.010000  227.290000  226.710000  227.060000     802790   \n",
       "2          SBER  227.010000  227.140000  226.910000  227.000000     492810   \n",
       "3          SBER  227.010000  227.140000  226.910000  227.000000     492810   \n",
       "4          SBER  227.010000  227.140000  226.910000  227.000000     492810   \n",
       "...         ...         ...         ...         ...         ...        ...   \n",
       "853864     VTBR    0.048350    0.048350    0.048270    0.048300  190580000   \n",
       "853865     VTBR    0.048315    0.048315    0.048255    0.048300  135680000   \n",
       "853866     VTBR    0.048300    0.048310    0.048255    0.048290   78810000   \n",
       "853867     VTBR    0.048290    0.048300    0.048250    0.048300   97650000   \n",
       "853868     VTBR    0.048300    0.048300    0.048190    0.048195  347400000   \n",
       "\n",
       "                      date                                            message  \n",
       "0      2018-01-03 10:10:00                                                NaN  \n",
       "1      2018-01-03 10:20:00                                                NaN  \n",
       "2      2018-01-03 10:30:00  политика, православие, нефть, алмазы… межпромб...  \n",
       "3      2018-01-03 10:30:00  а это шикарная старая статья-калькулятор, кото...  \n",
       "4      2018-01-03 10:30:00                                                     \n",
       "...                    ...                                                ...  \n",
       "853864 2021-12-30 23:10:00                                                NaN  \n",
       "853865 2021-12-30 23:20:00                                                NaN  \n",
       "853866 2021-12-30 23:30:00                                                NaN  \n",
       "853867 2021-12-30 23:40:00                                                NaN  \n",
       "853868 2021-12-30 23:50:00                                                NaN  \n",
       "\n",
       "[853869 rows x 8 columns]"
      ]
     },
     "execution_count": 67,
     "metadata": {},
     "output_type": "execute_result"
    }
   ],
   "source": [
    "result"
   ]
  },
  {
   "cell_type": "code",
   "execution_count": 68,
   "metadata": {},
   "outputs": [],
   "source": [
    "result.to_csv('result.csv')"
   ]
  },
  {
   "cell_type": "code",
   "execution_count": 3,
   "metadata": {},
   "outputs": [],
   "source": [
    "result = pd.read_csv('result.csv')"
   ]
  },
  {
   "cell_type": "markdown",
   "metadata": {},
   "source": [
    "# NER"
   ]
  },
  {
   "cell_type": "markdown",
   "metadata": {
    "pycharm": {
     "name": "#%%\n"
    }
   },
   "source": [
    "## Hugging face"
   ]
  },
  {
   "cell_type": "code",
   "execution_count": 17,
   "metadata": {
    "collapsed": true
   },
   "outputs": [
    {
     "data": {
      "application/vnd.jupyter.widget-view+json": {
       "model_id": "86bef71d2f57497c9c03e24ad730b2a0",
       "version_major": 2,
       "version_minor": 0
      },
      "text/plain": [
       "HBox(children=(HTML(value='Downloading'), FloatProgress(value=0.0, max=24.0), HTML(value='')))"
      ]
     },
     "metadata": {},
     "output_type": "display_data"
    },
    {
     "name": "stdout",
     "output_type": "stream",
     "text": [
      "\n"
     ]
    },
    {
     "data": {
      "application/vnd.jupyter.widget-view+json": {
       "model_id": "31572ad1666649cb9ab8ea7613fdf55c",
       "version_major": 2,
       "version_minor": 0
      },
      "text/plain": [
       "HBox(children=(HTML(value='Downloading'), FloatProgress(value=0.0, max=642.0), HTML(value='')))"
      ]
     },
     "metadata": {},
     "output_type": "display_data"
    },
    {
     "name": "stdout",
     "output_type": "stream",
     "text": [
      "\n"
     ]
    },
    {
     "data": {
      "application/vnd.jupyter.widget-view+json": {
       "model_id": "bb4213997f7e4fc7bcf97ba9affb4dff",
       "version_major": 2,
       "version_minor": 0
      },
      "text/plain": [
       "HBox(children=(HTML(value='Downloading'), FloatProgress(value=0.0, max=1649718.0), HTML(value='')))"
      ]
     },
     "metadata": {},
     "output_type": "display_data"
    },
    {
     "name": "stdout",
     "output_type": "stream",
     "text": [
      "\n"
     ]
    },
    {
     "data": {
      "application/vnd.jupyter.widget-view+json": {
       "model_id": "007466437ed8484cb790213e7cd94c7e",
       "version_major": 2,
       "version_minor": 0
      },
      "text/plain": [
       "HBox(children=(HTML(value='Downloading'), FloatProgress(value=0.0, max=112.0), HTML(value='')))"
      ]
     },
     "metadata": {},
     "output_type": "display_data"
    },
    {
     "name": "stdout",
     "output_type": "stream",
     "text": [
      "\n"
     ]
    },
    {
     "data": {
      "application/vnd.jupyter.widget-view+json": {
       "model_id": "58b5414db9a64b238604e1ab0530bb90",
       "version_major": 2,
       "version_minor": 0
      },
      "text/plain": [
       "HBox(children=(HTML(value='Downloading'), FloatProgress(value=0.0, max=711456784.0), HTML(value='')))"
      ]
     },
     "metadata": {},
     "output_type": "display_data"
    },
    {
     "name": "stdout",
     "output_type": "stream",
     "text": [
      "\n"
     ]
    },
    {
     "name": "stderr",
     "output_type": "stream",
     "text": [
      "Some weights of BertForTokenClassification were not initialized from the model checkpoint at DeepPavlov/rubert-base-cased-sentence and are newly initialized: ['classifier.bias', 'classifier.weight']\n",
      "You should probably TRAIN this model on a down-stream task to be able to use it for predictions and inference.\n",
      "Asking to truncate to max_length but no maximum length is provided and the model has no predefined maximum length. Default to no truncation.\n"
     ]
    },
    {
     "name": "stdout",
     "output_type": "stream",
     "text": [
      "[{'entity': 'LABEL_1', 'score': 0.68306834, 'index': 1, 'word': 'в', 'start': 0, 'end': 1}, {'entity': 'LABEL_1', 'score': 0.65727, 'index': 2, 'word': 'этом', 'start': 2, 'end': 6}, {'entity': 'LABEL_1', 'score': 0.62865734, 'index': 3, 'word': 'году', 'start': 7, 'end': 11}, {'entity': 'LABEL_1', 'score': 0.67955726, 'index': 4, 'word': 'мы', 'start': 12, 'end': 14}, {'entity': 'LABEL_1', 'score': 0.6798762, 'index': 5, 'word': 'добавили', 'start': 15, 'end': 23}, {'entity': 'LABEL_1', 'score': 0.64550066, 'index': 6, 'word': 'столько', 'start': 24, 'end': 31}, {'entity': 'LABEL_1', 'score': 0.6617518, 'index': 7, 'word': 'новых', 'start': 32, 'end': 37}, {'entity': 'LABEL_1', 'score': 0.6582626, 'index': 8, 'word': 'функций', 'start': 38, 'end': 45}]\n"
     ]
    }
   ],
   "source": [
    "from transformers import AutoTokenizer, AutoModelForTokenClassification\n",
    "from transformers import pipeline\n",
    "\n",
    "tokenizer = AutoTokenizer.from_pretrained(\"DeepPavlov/rubert-base-cased-sentence\")\n",
    "model = AutoModelForTokenClassification.from_pretrained(\"DeepPavlov/rubert-base-cased-sentence\")\n",
    "\n",
    "nlp = pipeline(\"ner\", model=model, tokenizer=tokenizer)\n",
    "example = \"в этом году мы добавили столько новых функций\"\n",
    "\n",
    "ner_results = nlp(example)\n",
    "print(ner_results)"
   ]
  },
  {
   "cell_type": "code",
   "execution_count": 33,
   "metadata": {
    "collapsed": true
   },
   "outputs": [
    {
     "name": "stdout",
     "output_type": "stream",
     "text": [
      "Collecting torch\n",
      "  Downloading torch-1.10.2-cp38-none-macosx_10_9_x86_64.whl (147.2 MB)\n",
      "\u001b[2K     \u001b[90m━━━━━━━━━━━━━━━━━━━━━━━━━━━━━━━━━━━━━━━\u001b[0m \u001b[32m147.2/147.2 MB\u001b[0m \u001b[31m5.9 MB/s\u001b[0m eta \u001b[36m0:00:00\u001b[0m00:01\u001b[0m00:01\u001b[0m\n",
      "\u001b[?25hCollecting torchvision\n",
      "  Downloading torchvision-0.11.3-cp38-cp38-macosx_10_9_x86_64.whl (1.2 MB)\n",
      "\u001b[2K     \u001b[90m━━━━━━━━━━━━━━━━━━━━━━━━━━━━━━━━━━━━━━━━\u001b[0m \u001b[32m1.2/1.2 MB\u001b[0m \u001b[31m6.6 MB/s\u001b[0m eta \u001b[36m0:00:00\u001b[0m00:01\u001b[0m00:01\u001b[0m\n",
      "\u001b[?25hRequirement already satisfied: typing-extensions in /Users/dariagerasimenko/opt/anaconda3/lib/python3.8/site-packages (from torch) (3.7.4.3)\n",
      "Requirement already satisfied: numpy in /Users/dariagerasimenko/opt/anaconda3/lib/python3.8/site-packages (from torchvision) (1.18.0)\n",
      "Requirement already satisfied: pillow!=8.3.0,>=5.3.0 in /Users/dariagerasimenko/opt/anaconda3/lib/python3.8/site-packages (from torchvision) (8.0.1)\n",
      "Installing collected packages: torch, torchvision\n",
      "Successfully installed torch-1.10.2 torchvision-0.11.3\n",
      "Note: you may need to restart the kernel to use updated packages.\n"
     ]
    }
   ],
   "source": [
    "pip install torch torchvision"
   ]
  },
  {
   "cell_type": "code",
   "execution_count": 12,
   "metadata": {},
   "outputs": [
    {
     "name": "stdout",
     "output_type": "stream",
     "text": [
      "3.8.5\n"
     ]
    }
   ],
   "source": [
    "from platform import python_version\n",
    "\n",
    "print(python_version())"
   ]
  },
  {
   "cell_type": "code",
   "execution_count": 13,
   "metadata": {},
   "outputs": [
    {
     "ename": "SyntaxError",
     "evalue": "invalid syntax (<ipython-input-13-5d8c0f3df8e1>, line 1)",
     "output_type": "error",
     "traceback": [
      "\u001b[0;36m  File \u001b[0;32m\"<ipython-input-13-5d8c0f3df8e1>\"\u001b[0;36m, line \u001b[0;32m1\u001b[0m\n\u001b[0;31m    venv env\u001b[0m\n\u001b[0m         ^\u001b[0m\n\u001b[0;31mSyntaxError\u001b[0m\u001b[0;31m:\u001b[0m invalid syntax\n"
     ]
    }
   ],
   "source": []
  },
  {
   "cell_type": "code",
   "execution_count": 10,
   "metadata": {
    "collapsed": true
   },
   "outputs": [
    {
     "name": "stdout",
     "output_type": "stream",
     "text": [
      "Collecting deeppavlov\n",
      "  Using cached deeppavlov-0.17.2-py3-none-any.whl (880 kB)\n",
      "Requirement already satisfied: pydantic==1.3 in /Users/dariagerasimenko/opt/anaconda3/lib/python3.8/site-packages (from deeppavlov) (1.3)\n",
      "Requirement already satisfied: numpy==1.18.0 in /Users/dariagerasimenko/opt/anaconda3/lib/python3.8/site-packages (from deeppavlov) (1.18.0)\n",
      "Collecting Cython==0.29.14\n",
      "  Using cached Cython-0.29.14-cp38-cp38-macosx_10_9_x86_64.whl\n",
      "Collecting tqdm==4.62.0\n",
      "  Using cached tqdm-4.62.0-py2.py3-none-any.whl (76 kB)\n",
      "Requirement already satisfied: nltk==3.4.5 in /Users/dariagerasimenko/opt/anaconda3/lib/python3.8/site-packages (from deeppavlov) (3.4.5)\n",
      "Requirement already satisfied: pytz==2019.1 in /Users/dariagerasimenko/opt/anaconda3/lib/python3.8/site-packages (from deeppavlov) (2019.1)\n",
      "Collecting prometheus-client==0.7.1\n",
      "  Using cached prometheus_client-0.7.1-py3-none-any.whl\n",
      "Requirement already satisfied: scipy==1.4.1 in /Users/dariagerasimenko/opt/anaconda3/lib/python3.8/site-packages (from deeppavlov) (1.4.1)\n",
      "Collecting requests==2.22.0\n",
      "  Using cached requests-2.22.0-py2.py3-none-any.whl (57 kB)\n",
      "Requirement already satisfied: aio-pika==6.4.1 in /Users/dariagerasimenko/opt/anaconda3/lib/python3.8/site-packages (from deeppavlov) (6.4.1)\n",
      "Requirement already satisfied: click==7.1.2 in /Users/dariagerasimenko/opt/anaconda3/lib/python3.8/site-packages (from deeppavlov) (7.1.2)\n",
      "Collecting pytelegrambotapi==3.6.7\n",
      "  Using cached pyTelegramBotAPI-3.6.7-py3-none-any.whl\n",
      "Requirement already satisfied: h5py==2.10.0 in /Users/dariagerasimenko/opt/anaconda3/lib/python3.8/site-packages (from deeppavlov) (2.10.0)\n",
      "Requirement already satisfied: pyopenssl==19.1.0 in /Users/dariagerasimenko/opt/anaconda3/lib/python3.8/site-packages (from deeppavlov) (19.1.0)\n",
      "Collecting ruamel.yaml==0.15.100\n",
      "  Using cached ruamel.yaml-0.15.100-cp38-cp38-macosx_10_9_x86_64.whl\n",
      "Collecting fastapi==0.47.1\n",
      "  Using cached fastapi-0.47.1-py3-none-any.whl (43 kB)\n",
      "Collecting overrides==2.7.0\n",
      "  Using cached overrides-2.7.0-py3-none-any.whl\n",
      "Collecting sacremoses==0.0.35\n",
      "  Using cached sacremoses-0.0.35-py3-none-any.whl\n",
      "Requirement already satisfied: uvicorn==0.11.7 in /Users/dariagerasimenko/opt/anaconda3/lib/python3.8/site-packages (from deeppavlov) (0.11.7)\n",
      "Requirement already satisfied: pymorphy2-dicts-ru in /Users/dariagerasimenko/opt/anaconda3/lib/python3.8/site-packages (from deeppavlov) (2.4.417127.4579844)\n",
      "Requirement already satisfied: uvloop==0.14.0 in /Users/dariagerasimenko/opt/anaconda3/lib/python3.8/site-packages (from deeppavlov) (0.14.0)\n",
      "Collecting scikit-learn==0.21.2\n",
      "  Using cached scikit-learn-0.21.2.tar.gz (12.2 MB)\n",
      "  Preparing metadata (setup.py) ... \u001b[?25ldone\n",
      "\u001b[?25hRequirement already satisfied: rusenttokenize==0.0.5 in /Users/dariagerasimenko/opt/anaconda3/lib/python3.8/site-packages (from deeppavlov) (0.0.5)\n",
      "Collecting filelock==3.0.12\n",
      "  Using cached filelock-3.0.12-py3-none-any.whl (7.6 kB)\n",
      "Collecting pymorphy2==0.8\n",
      "  Using cached pymorphy2-0.8-py2.py3-none-any.whl (46 kB)\n",
      "Requirement already satisfied: pandas==0.25.3 in /Users/dariagerasimenko/opt/anaconda3/lib/python3.8/site-packages (from deeppavlov) (0.25.3)\n",
      "Requirement already satisfied: aiormq<4,>=3.2.0 in /Users/dariagerasimenko/opt/anaconda3/lib/python3.8/site-packages (from aio-pika==6.4.1->deeppavlov) (3.3.1)\n",
      "Requirement already satisfied: yarl in /Users/dariagerasimenko/opt/anaconda3/lib/python3.8/site-packages (from aio-pika==6.4.1->deeppavlov) (1.7.2)\n",
      "Collecting starlette<=0.12.9,>=0.12.9\n",
      "  Using cached starlette-0.12.9-py3-none-any.whl\n",
      "Requirement already satisfied: six in /Users/dariagerasimenko/opt/anaconda3/lib/python3.8/site-packages (from h5py==2.10.0->deeppavlov) (1.15.0)\n",
      "Requirement already satisfied: python-dateutil>=2.6.1 in /Users/dariagerasimenko/opt/anaconda3/lib/python3.8/site-packages (from pandas==0.25.3->deeppavlov) (2.8.1)\n",
      "Collecting dawg-python>=0.7\n",
      "  Using cached DAWG_Python-0.7.2-py2.py3-none-any.whl (11 kB)\n",
      "Collecting docopt>=0.6\n",
      "  Using cached docopt-0.6.2-py2.py3-none-any.whl\n",
      "Collecting pymorphy2-dicts<3.0,>=2.4\n",
      "  Using cached pymorphy2_dicts-2.4.393442.3710985-py2.py3-none-any.whl (7.1 MB)\n",
      "Requirement already satisfied: cryptography>=2.8 in /Users/dariagerasimenko/opt/anaconda3/lib/python3.8/site-packages (from pyopenssl==19.1.0->deeppavlov) (3.1.1)\n",
      "Requirement already satisfied: chardet<3.1.0,>=3.0.2 in /Users/dariagerasimenko/opt/anaconda3/lib/python3.8/site-packages (from requests==2.22.0->deeppavlov) (3.0.4)\n",
      "Requirement already satisfied: certifi>=2017.4.17 in /Users/dariagerasimenko/opt/anaconda3/lib/python3.8/site-packages (from requests==2.22.0->deeppavlov) (2020.6.20)\n",
      "Requirement already satisfied: urllib3!=1.25.0,!=1.25.1,<1.26,>=1.21.1 in /Users/dariagerasimenko/opt/anaconda3/lib/python3.8/site-packages (from requests==2.22.0->deeppavlov) (1.25.11)\n",
      "Requirement already satisfied: idna<2.9,>=2.5 in /Users/dariagerasimenko/opt/anaconda3/lib/python3.8/site-packages (from requests==2.22.0->deeppavlov) (2.8)\n",
      "Requirement already satisfied: joblib in /Users/dariagerasimenko/opt/anaconda3/lib/python3.8/site-packages (from sacremoses==0.0.35->deeppavlov) (0.17.0)\n",
      "Requirement already satisfied: h11<0.10,>=0.8 in /Users/dariagerasimenko/opt/anaconda3/lib/python3.8/site-packages (from uvicorn==0.11.7->deeppavlov) (0.9.0)\n",
      "Requirement already satisfied: websockets==8.* in /Users/dariagerasimenko/opt/anaconda3/lib/python3.8/site-packages (from uvicorn==0.11.7->deeppavlov) (8.1)\n",
      "Requirement already satisfied: httptools==0.1.* in /Users/dariagerasimenko/opt/anaconda3/lib/python3.8/site-packages (from uvicorn==0.11.7->deeppavlov) (0.1.2)\n",
      "Requirement already satisfied: pamqp==2.3.0 in /Users/dariagerasimenko/opt/anaconda3/lib/python3.8/site-packages (from aiormq<4,>=3.2.0->aio-pika==6.4.1->deeppavlov) (2.3.0)\n",
      "Requirement already satisfied: cffi!=1.11.3,>=1.8 in /Users/dariagerasimenko/opt/anaconda3/lib/python3.8/site-packages (from cryptography>=2.8->pyopenssl==19.1.0->deeppavlov) (1.14.3)\n",
      "Requirement already satisfied: multidict>=4.0 in /Users/dariagerasimenko/opt/anaconda3/lib/python3.8/site-packages (from yarl->aio-pika==6.4.1->deeppavlov) (6.0.2)\n",
      "Requirement already satisfied: pycparser in /Users/dariagerasimenko/opt/anaconda3/lib/python3.8/site-packages (from cffi!=1.11.3,>=1.8->cryptography>=2.8->pyopenssl==19.1.0->deeppavlov) (2.20)\n",
      "Building wheels for collected packages: scikit-learn\n",
      "  Building wheel for scikit-learn (setup.py) ... \u001b[?25lerror\n",
      "  \u001b[1;31merror\u001b[0m: \u001b[1msubprocess-exited-with-error\u001b[0m\n",
      "  \n",
      "  \u001b[31m×\u001b[0m \u001b[32mpython setup.py bdist_wheel\u001b[0m did not run successfully.\n",
      "  \u001b[31m│\u001b[0m exit code: \u001b[1;36m1\u001b[0m\n",
      "  \u001b[31m╰─>\u001b[0m \u001b[31m[66 lines of output]\u001b[0m\n",
      "  \u001b[31m   \u001b[0m Partial import of sklearn during the build process.\n",
      "  \u001b[31m   \u001b[0m blas_opt_info:\n",
      "  \u001b[31m   \u001b[0m blas_mkl_info:\n",
      "  \u001b[31m   \u001b[0m customize UnixCCompiler\n",
      "  \u001b[31m   \u001b[0m   FOUND:\n",
      "  \u001b[31m   \u001b[0m     libraries = ['mkl_rt', 'pthread']\n",
      "  \u001b[31m   \u001b[0m     library_dirs = ['/Users/dariagerasimenko/opt/anaconda3/lib']\n",
      "  \u001b[31m   \u001b[0m     define_macros = [('SCIPY_MKL_H', None), ('HAVE_CBLAS', None)]\n",
      "  \u001b[31m   \u001b[0m     include_dirs = ['/usr/local/include', '/Users/dariagerasimenko/opt/anaconda3/include']\n",
      "  \u001b[31m   \u001b[0m \n",
      "  \u001b[31m   \u001b[0m   FOUND:\n",
      "  \u001b[31m   \u001b[0m     libraries = ['mkl_rt', 'pthread']\n",
      "  \u001b[31m   \u001b[0m     library_dirs = ['/Users/dariagerasimenko/opt/anaconda3/lib']\n",
      "  \u001b[31m   \u001b[0m     define_macros = [('SCIPY_MKL_H', None), ('HAVE_CBLAS', None)]\n",
      "  \u001b[31m   \u001b[0m     include_dirs = ['/usr/local/include', '/Users/dariagerasimenko/opt/anaconda3/include']\n",
      "  \u001b[31m   \u001b[0m \n",
      "  \u001b[31m   \u001b[0m C compiler: gcc -Wno-unused-result -Wsign-compare -Wunreachable-code -DNDEBUG -g -fwrapv -O3 -Wall -Wstrict-prototypes -I/Users/dariagerasimenko/opt/anaconda3/include -arch x86_64 -I/Users/dariagerasimenko/opt/anaconda3/include -arch x86_64\n",
      "  \u001b[31m   \u001b[0m \n",
      "  \u001b[31m   \u001b[0m compile options: '-c'\n",
      "  \u001b[31m   \u001b[0m extra options: '-fopenmp'\n",
      "  \u001b[31m   \u001b[0m gcc: test_openmp.c\n",
      "  \u001b[31m   \u001b[0m clang: error: unsupported option '-fopenmp'\n",
      "  \u001b[31m   \u001b[0m Traceback (most recent call last):\n",
      "  \u001b[31m   \u001b[0m   File \"<string>\", line 2, in <module>\n",
      "  \u001b[31m   \u001b[0m   File \"<pip-setuptools-caller>\", line 34, in <module>\n",
      "  \u001b[31m   \u001b[0m   File \"/private/var/folders/tj/mygg4hy97bv7rmxs1y58d1800000gn/T/pip-install-7zwuz3mw/scikit-learn_c2c67cab6cce4c9b8ccd65f1a886972f/setup.py\", line 290, in <module>\n",
      "  \u001b[31m   \u001b[0m     setup_package()\n",
      "  \u001b[31m   \u001b[0m   File \"/private/var/folders/tj/mygg4hy97bv7rmxs1y58d1800000gn/T/pip-install-7zwuz3mw/scikit-learn_c2c67cab6cce4c9b8ccd65f1a886972f/setup.py\", line 286, in setup_package\n",
      "  \u001b[31m   \u001b[0m     setup(**metadata)\n",
      "  \u001b[31m   \u001b[0m   File \"/Users/dariagerasimenko/opt/anaconda3/lib/python3.8/site-packages/numpy/distutils/core.py\", line 137, in setup\n",
      "  \u001b[31m   \u001b[0m     config = configuration()\n",
      "  \u001b[31m   \u001b[0m   File \"/private/var/folders/tj/mygg4hy97bv7rmxs1y58d1800000gn/T/pip-install-7zwuz3mw/scikit-learn_c2c67cab6cce4c9b8ccd65f1a886972f/setup.py\", line 174, in configuration\n",
      "  \u001b[31m   \u001b[0m     config.add_subpackage('sklearn')\n",
      "  \u001b[31m   \u001b[0m   File \"/Users/dariagerasimenko/opt/anaconda3/lib/python3.8/site-packages/numpy/distutils/misc_util.py\", line 1033, in add_subpackage\n",
      "  \u001b[31m   \u001b[0m     config_list = self.get_subpackage(subpackage_name, subpackage_path,\n",
      "  \u001b[31m   \u001b[0m   File \"/Users/dariagerasimenko/opt/anaconda3/lib/python3.8/site-packages/numpy/distutils/misc_util.py\", line 999, in get_subpackage\n",
      "  \u001b[31m   \u001b[0m     config = self._get_configuration_from_setup_py(\n",
      "  \u001b[31m   \u001b[0m   File \"/Users/dariagerasimenko/opt/anaconda3/lib/python3.8/site-packages/numpy/distutils/misc_util.py\", line 941, in _get_configuration_from_setup_py\n",
      "  \u001b[31m   \u001b[0m     config = setup_module.configuration(*args)\n",
      "  \u001b[31m   \u001b[0m   File \"sklearn/setup.py\", line 80, in configuration\n",
      "  \u001b[31m   \u001b[0m     maybe_cythonize_extensions(top_path, config)\n",
      "  \u001b[31m   \u001b[0m   File \"/private/var/folders/tj/mygg4hy97bv7rmxs1y58d1800000gn/T/pip-install-7zwuz3mw/scikit-learn_c2c67cab6cce4c9b8ccd65f1a886972f/sklearn/_build_utils/__init__.py\", line 68, in maybe_cythonize_extensions\n",
      "  \u001b[31m   \u001b[0m     with_openmp = check_openmp_support()\n",
      "  \u001b[31m   \u001b[0m   File \"/private/var/folders/tj/mygg4hy97bv7rmxs1y58d1800000gn/T/pip-install-7zwuz3mw/scikit-learn_c2c67cab6cce4c9b8ccd65f1a886972f/sklearn/_build_utils/openmp_helpers.py\", line 140, in check_openmp_support\n",
      "  \u001b[31m   \u001b[0m     raise CompileError(err_message)\n",
      "  \u001b[31m   \u001b[0m distutils.errors.CompileError:\n",
      "  \u001b[31m   \u001b[0m                     ***\n",
      "  \u001b[31m   \u001b[0m \n",
      "  \u001b[31m   \u001b[0m It seems that scikit-learn cannot be built with OpenMP support.\n",
      "  \u001b[31m   \u001b[0m \n",
      "  \u001b[31m   \u001b[0m - Make sure you have followed the installation instructions:\n",
      "  \u001b[31m   \u001b[0m \n",
      "  \u001b[31m   \u001b[0m     https://scikit-learn.org/dev/developers/advanced_installation.html\n",
      "  \u001b[31m   \u001b[0m \n",
      "  \u001b[31m   \u001b[0m - If your compiler supports OpenMP but the build still fails, please\n",
      "  \u001b[31m   \u001b[0m   submit a bug report at:\n",
      "  \u001b[31m   \u001b[0m \n",
      "  \u001b[31m   \u001b[0m     https://github.com/scikit-learn/scikit-learn/issues\n",
      "  \u001b[31m   \u001b[0m \n",
      "  \u001b[31m   \u001b[0m - If you want to build scikit-learn without OpenMP support, you can set\n",
      "  \u001b[31m   \u001b[0m   the environment variable SKLEARN_NO_OPENMP and rerun the build\n",
      "  \u001b[31m   \u001b[0m   command. Note however that some estimators will run in sequential\n",
      "  \u001b[31m   \u001b[0m   mode and their `n_jobs` parameter will have no effect anymore.\n",
      "  \u001b[31m   \u001b[0m \n",
      "  \u001b[31m   \u001b[0m                     ***\n",
      "  \u001b[31m   \u001b[0m \n",
      "  \u001b[31m   \u001b[0m \u001b[31m[end of output]\u001b[0m\n",
      "  \n",
      "  \u001b[1;35mnote\u001b[0m: This error originates from a subprocess, and is likely not a problem with pip.\n",
      "\u001b[31m  ERROR: Failed building wheel for scikit-learn\u001b[0m\u001b[31m\n",
      "\u001b[0m\u001b[?25h  Running setup.py clean for scikit-learn\n"
     ]
    },
    {
     "name": "stdout",
     "output_type": "stream",
     "text": [
      "Failed to build scikit-learn\n",
      "Installing collected packages: ruamel.yaml, pymorphy2-dicts, prometheus-client, overrides, filelock, docopt, dawg-python, tqdm, starlette, requests, pymorphy2, Cython, scikit-learn, sacremoses, pytelegrambotapi, fastapi, deeppavlov\n",
      "  Attempting uninstall: ruamel.yaml\n",
      "    Found existing installation: ruamel_yaml 0.15.87\n",
      "\u001b[31mERROR: Cannot uninstall 'ruamel_yaml'. It is a distutils installed project and thus we cannot accurately determine which files belong to it which would lead to only a partial uninstall.\u001b[0m\u001b[31m\n",
      "\u001b[0mNote: you may need to restart the kernel to use updated packages.\n"
     ]
    }
   ],
   "source": [
    "pip install deeppavlov"
   ]
  },
  {
   "cell_type": "code",
   "execution_count": 6,
   "metadata": {
    "collapsed": true
   },
   "outputs": [
    {
     "ename": "ModuleNotFoundError",
     "evalue": "No module named 'deeppavlov'",
     "output_type": "error",
     "traceback": [
      "\u001b[0;31m---------------------------------------------------------------------------\u001b[0m",
      "\u001b[0;31mModuleNotFoundError\u001b[0m                       Traceback (most recent call last)",
      "\u001b[0;32m<ipython-input-6-3b7c75885602>\u001b[0m in \u001b[0;36m<module>\u001b[0;34m\u001b[0m\n\u001b[0;32m----> 1\u001b[0;31m \u001b[0;32mfrom\u001b[0m \u001b[0mdeeppavlov\u001b[0m \u001b[0;32mimport\u001b[0m \u001b[0mbuild_model\u001b[0m\u001b[0;34m,\u001b[0m \u001b[0mconfigs\u001b[0m\u001b[0;34m\u001b[0m\u001b[0;34m\u001b[0m\u001b[0m\n\u001b[0m\u001b[1;32m      2\u001b[0m \u001b[0;34m\u001b[0m\u001b[0m\n\u001b[1;32m      3\u001b[0m \u001b[0mner_model\u001b[0m \u001b[0;34m=\u001b[0m \u001b[0mbuild_model\u001b[0m\u001b[0;34m(\u001b[0m\u001b[0mconfigs\u001b[0m\u001b[0;34m.\u001b[0m\u001b[0mner\u001b[0m\u001b[0;34m.\u001b[0m\u001b[0mner_rus\u001b[0m \u001b[0;34m,\u001b[0m \u001b[0mdownload\u001b[0m\u001b[0;34m=\u001b[0m\u001b[0;32mTrue\u001b[0m\u001b[0;34m)\u001b[0m\u001b[0;34m\u001b[0m\u001b[0;34m\u001b[0m\u001b[0m\n\u001b[1;32m      4\u001b[0m \u001b[0mner_model\u001b[0m\u001b[0;34m(\u001b[0m\u001b[0;34m[\u001b[0m\u001b[0;34m'Компания « Андэк » , специализирующаяся на решениях для обеспечения безопасности бизнеса , сообщила о том , что Вячеслав Максимов , заместитель генерального директора компании , возглавил направление по оптимизации процессов управления информационной безопасностью '\u001b[0m\u001b[0;34m]\u001b[0m\u001b[0;34m)\u001b[0m\u001b[0;34m\u001b[0m\u001b[0;34m\u001b[0m\u001b[0m\n",
      "\u001b[0;31mModuleNotFoundError\u001b[0m: No module named 'deeppavlov'"
     ]
    }
   ],
   "source": [
    "from deeppavlov import build_model, configs\n",
    "\n",
    "ner_model = build_model(configs.ner.ner_rus , download=True)\n",
    "ner_model(['Компания « Андэк » , специализирующаяся на решениях для обеспечения безопасности бизнеса , сообщила о том , что Вячеслав Максимов , заместитель генерального директора компании , возглавил направление по оптимизации процессов управления информационной безопасностью '])"
   ]
  },
  {
   "cell_type": "markdown",
   "metadata": {},
   "source": [
    "## Обработка"
   ]
  },
  {
   "cell_type": "code",
   "execution_count": 33,
   "metadata": {},
   "outputs": [],
   "source": [
    "#data = result.copy()"
   ]
  },
  {
   "cell_type": "code",
   "execution_count": 69,
   "metadata": {},
   "outputs": [],
   "source": [
    "data = pd.read_csv('df_1 (1).csv')"
   ]
  },
  {
   "cell_type": "code",
   "execution_count": 70,
   "metadata": {},
   "outputs": [
    {
     "data": {
      "text/html": [
       "<div>\n",
       "<style scoped>\n",
       "    .dataframe tbody tr th:only-of-type {\n",
       "        vertical-align: middle;\n",
       "    }\n",
       "\n",
       "    .dataframe tbody tr th {\n",
       "        vertical-align: top;\n",
       "    }\n",
       "\n",
       "    .dataframe thead th {\n",
       "        text-align: right;\n",
       "    }\n",
       "</style>\n",
       "<table border=\"1\" class=\"dataframe\">\n",
       "  <thead>\n",
       "    <tr style=\"text-align: right;\">\n",
       "      <th></th>\n",
       "      <th>&lt;TICKER&gt;</th>\n",
       "      <th>&lt;OPEN&gt;</th>\n",
       "      <th>&lt;HIGH&gt;</th>\n",
       "      <th>&lt;CLOSE&gt;</th>\n",
       "      <th>&lt;VOL&gt;</th>\n",
       "      <th>date</th>\n",
       "      <th>message</th>\n",
       "      <th>Разметка</th>\n",
       "    </tr>\n",
       "  </thead>\n",
       "  <tbody>\n",
       "    <tr>\n",
       "      <th>0</th>\n",
       "      <td>SBER</td>\n",
       "      <td>226.88</td>\n",
       "      <td>230.00</td>\n",
       "      <td>226.93</td>\n",
       "      <td>1771920</td>\n",
       "      <td>2018-01-03 10:10:00</td>\n",
       "      <td>NaN</td>\n",
       "      <td>[[['nan']], [['B-LOC']]]</td>\n",
       "    </tr>\n",
       "    <tr>\n",
       "      <th>1</th>\n",
       "      <td>SBER</td>\n",
       "      <td>227.01</td>\n",
       "      <td>227.29</td>\n",
       "      <td>227.06</td>\n",
       "      <td>802790</td>\n",
       "      <td>2018-01-03 10:20:00</td>\n",
       "      <td>NaN</td>\n",
       "      <td>[[['nan']], [['B-LOC']]]</td>\n",
       "    </tr>\n",
       "    <tr>\n",
       "      <th>2</th>\n",
       "      <td>SBER</td>\n",
       "      <td>227.01</td>\n",
       "      <td>227.14</td>\n",
       "      <td>227.00</td>\n",
       "      <td>492810</td>\n",
       "      <td>2018-01-03 10:30:00</td>\n",
       "      <td>политика, православие, нефть, алмазы… межпромб...</td>\n",
       "      <td>[[['политика', ',', 'православие', ',', 'нефть...</td>\n",
       "    </tr>\n",
       "    <tr>\n",
       "      <th>3</th>\n",
       "      <td>SBER</td>\n",
       "      <td>227.01</td>\n",
       "      <td>227.14</td>\n",
       "      <td>227.00</td>\n",
       "      <td>492810</td>\n",
       "      <td>2018-01-03 10:30:00</td>\n",
       "      <td>а это шикарная старая статья-калькулятор, кото...</td>\n",
       "      <td>[[['а', 'это', 'шикарная', 'старая', 'статья-к...</td>\n",
       "    </tr>\n",
       "    <tr>\n",
       "      <th>4</th>\n",
       "      <td>SBER</td>\n",
       "      <td>227.01</td>\n",
       "      <td>227.14</td>\n",
       "      <td>227.00</td>\n",
       "      <td>492810</td>\n",
       "      <td>2018-01-03 10:30:00</td>\n",
       "      <td>NaN</td>\n",
       "      <td>[[['nan']], [['B-LOC']]]</td>\n",
       "    </tr>\n",
       "    <tr>\n",
       "      <th>...</th>\n",
       "      <td>...</td>\n",
       "      <td>...</td>\n",
       "      <td>...</td>\n",
       "      <td>...</td>\n",
       "      <td>...</td>\n",
       "      <td>...</td>\n",
       "      <td>...</td>\n",
       "      <td>...</td>\n",
       "    </tr>\n",
       "    <tr>\n",
       "      <th>9995</th>\n",
       "      <td>SBER</td>\n",
       "      <td>208.66</td>\n",
       "      <td>209.87</td>\n",
       "      <td>209.50</td>\n",
       "      <td>915530</td>\n",
       "      <td>2018-06-28 13:20:00</td>\n",
       "      <td>тунец и порноиндустрия: как блокчейн использую...</td>\n",
       "      <td>[[['тунец', 'и', 'порноиндустрия', ':', 'как',...</td>\n",
       "    </tr>\n",
       "    <tr>\n",
       "      <th>9996</th>\n",
       "      <td>SBER</td>\n",
       "      <td>209.50</td>\n",
       "      <td>209.53</td>\n",
       "      <td>209.14</td>\n",
       "      <td>571610</td>\n",
       "      <td>2018-06-28 13:30:00</td>\n",
       "      <td>⚠️рынки ем - аргентина\\nпродолжается треш в ар...</td>\n",
       "      <td>[[['⚠️рынки', 'ем', '-', 'аргентина', 'продолж...</td>\n",
       "    </tr>\n",
       "    <tr>\n",
       "      <th>9997</th>\n",
       "      <td>SBER</td>\n",
       "      <td>209.50</td>\n",
       "      <td>209.53</td>\n",
       "      <td>209.14</td>\n",
       "      <td>571610</td>\n",
       "      <td>2018-06-28 13:30:00</td>\n",
       "      <td>чтобы бесплатно узнать, где ваша кредитная ист...</td>\n",
       "      <td>[[['чтобы', 'бесплатно', 'узнать', ',', 'где',...</td>\n",
       "    </tr>\n",
       "    <tr>\n",
       "      <th>9998</th>\n",
       "      <td>SBER</td>\n",
       "      <td>209.13</td>\n",
       "      <td>209.43</td>\n",
       "      <td>209.13</td>\n",
       "      <td>306200</td>\n",
       "      <td>2018-06-28 13:40:00</td>\n",
       "      <td>крипто - биржи - facebook\\nfacebook может купи...</td>\n",
       "      <td>[[['крипто', '-', 'биржи', '-', 'facebook', 'f...</td>\n",
       "    </tr>\n",
       "    <tr>\n",
       "      <th>9999</th>\n",
       "      <td>SBER</td>\n",
       "      <td>209.13</td>\n",
       "      <td>209.26</td>\n",
       "      <td>209.18</td>\n",
       "      <td>203950</td>\n",
       "      <td>2018-06-28 13:50:00</td>\n",
       "      <td>NaN</td>\n",
       "      <td>[[['nan']], [['B-LOC']]]</td>\n",
       "    </tr>\n",
       "  </tbody>\n",
       "</table>\n",
       "<p>10000 rows × 8 columns</p>\n",
       "</div>"
      ],
      "text/plain": [
       "     <TICKER>  <OPEN>  <HIGH>  <CLOSE>    <VOL>                 date  \\\n",
       "0        SBER  226.88  230.00   226.93  1771920  2018-01-03 10:10:00   \n",
       "1        SBER  227.01  227.29   227.06   802790  2018-01-03 10:20:00   \n",
       "2        SBER  227.01  227.14   227.00   492810  2018-01-03 10:30:00   \n",
       "3        SBER  227.01  227.14   227.00   492810  2018-01-03 10:30:00   \n",
       "4        SBER  227.01  227.14   227.00   492810  2018-01-03 10:30:00   \n",
       "...       ...     ...     ...      ...      ...                  ...   \n",
       "9995     SBER  208.66  209.87   209.50   915530  2018-06-28 13:20:00   \n",
       "9996     SBER  209.50  209.53   209.14   571610  2018-06-28 13:30:00   \n",
       "9997     SBER  209.50  209.53   209.14   571610  2018-06-28 13:30:00   \n",
       "9998     SBER  209.13  209.43   209.13   306200  2018-06-28 13:40:00   \n",
       "9999     SBER  209.13  209.26   209.18   203950  2018-06-28 13:50:00   \n",
       "\n",
       "                                                message  \\\n",
       "0                                                   NaN   \n",
       "1                                                   NaN   \n",
       "2     политика, православие, нефть, алмазы… межпромб...   \n",
       "3     а это шикарная старая статья-калькулятор, кото...   \n",
       "4                                                   NaN   \n",
       "...                                                 ...   \n",
       "9995  тунец и порноиндустрия: как блокчейн использую...   \n",
       "9996  ⚠️рынки ем - аргентина\\nпродолжается треш в ар...   \n",
       "9997  чтобы бесплатно узнать, где ваша кредитная ист...   \n",
       "9998  крипто - биржи - facebook\\nfacebook может купи...   \n",
       "9999                                                NaN   \n",
       "\n",
       "                                               Разметка  \n",
       "0                              [[['nan']], [['B-LOC']]]  \n",
       "1                              [[['nan']], [['B-LOC']]]  \n",
       "2     [[['политика', ',', 'православие', ',', 'нефть...  \n",
       "3     [[['а', 'это', 'шикарная', 'старая', 'статья-к...  \n",
       "4                              [[['nan']], [['B-LOC']]]  \n",
       "...                                                 ...  \n",
       "9995  [[['тунец', 'и', 'порноиндустрия', ':', 'как',...  \n",
       "9996  [[['⚠️рынки', 'ем', '-', 'аргентина', 'продолж...  \n",
       "9997  [[['чтобы', 'бесплатно', 'узнать', ',', 'где',...  \n",
       "9998  [[['крипто', '-', 'биржи', '-', 'facebook', 'f...  \n",
       "9999                           [[['nan']], [['B-LOC']]]  \n",
       "\n",
       "[10000 rows x 8 columns]"
      ]
     },
     "execution_count": 70,
     "metadata": {},
     "output_type": "execute_result"
    }
   ],
   "source": [
    "data = data[['<TICKER>', '<OPEN>', '<HIGH>', '<CLOSE>', '<VOL>', 'date', 'message', 'Разметка']]\n",
    "data"
   ]
  },
  {
   "cell_type": "code",
   "execution_count": 71,
   "metadata": {},
   "outputs": [],
   "source": [
    "x = data['Разметка'].iloc[72]"
   ]
  },
  {
   "cell_type": "code",
   "execution_count": 72,
   "metadata": {},
   "outputs": [
    {
     "data": {
      "text/plain": [
       "<TICKER>     object\n",
       "<OPEN>      float64\n",
       "<HIGH>      float64\n",
       "<CLOSE>     float64\n",
       "<VOL>         int64\n",
       "date         object\n",
       "message      object\n",
       "Разметка     object\n",
       "dtype: object"
      ]
     },
     "execution_count": 72,
     "metadata": {},
     "output_type": "execute_result"
    }
   ],
   "source": [
    "data.dtypes"
   ]
  },
  {
   "cell_type": "markdown",
   "metadata": {},
   "source": [
    "## TF_IDF"
   ]
  },
  {
   "cell_type": "code",
   "execution_count": 73,
   "metadata": {},
   "outputs": [
    {
     "name": "stdout",
     "output_type": "stream",
     "text": [
      "Requirement already satisfied: num2words in /Users/dariagerasimenko/opt/anaconda3/lib/python3.8/site-packages (0.5.10)\n",
      "Requirement already satisfied: docopt>=0.6.2 in /Users/dariagerasimenko/opt/anaconda3/lib/python3.8/site-packages (from num2words) (0.6.2)\n",
      "Note: you may need to restart the kernel to use updated packages.\n"
     ]
    }
   ],
   "source": [
    "pip install num2words"
   ]
  },
  {
   "cell_type": "code",
   "execution_count": 74,
   "metadata": {},
   "outputs": [
    {
     "ename": "AttributeError",
     "evalue": "'TfidfVectorizer' object has no attribute 'get_feature_names_out'",
     "output_type": "error",
     "traceback": [
      "\u001b[0;31m---------------------------------------------------------------------------\u001b[0m",
      "\u001b[0;31mAttributeError\u001b[0m                            Traceback (most recent call last)",
      "\u001b[0;32m<ipython-input-74-c84e98f18622>\u001b[0m in \u001b[0;36m<module>\u001b[0;34m\u001b[0m\n\u001b[1;32m      8\u001b[0m \u001b[0mvectorizer\u001b[0m \u001b[0;34m=\u001b[0m \u001b[0mTfidfVectorizer\u001b[0m\u001b[0;34m(\u001b[0m\u001b[0;34m)\u001b[0m\u001b[0;34m\u001b[0m\u001b[0;34m\u001b[0m\u001b[0m\n\u001b[1;32m      9\u001b[0m \u001b[0mX\u001b[0m \u001b[0;34m=\u001b[0m \u001b[0mvectorizer\u001b[0m\u001b[0;34m.\u001b[0m\u001b[0mfit_transform\u001b[0m\u001b[0;34m(\u001b[0m\u001b[0mcorpus\u001b[0m\u001b[0;34m)\u001b[0m\u001b[0;34m\u001b[0m\u001b[0;34m\u001b[0m\u001b[0m\n\u001b[0;32m---> 10\u001b[0;31m \u001b[0mvectorizer\u001b[0m\u001b[0;34m.\u001b[0m\u001b[0mget_feature_names_out\u001b[0m\u001b[0;34m(\u001b[0m\u001b[0;34m)\u001b[0m\u001b[0;34m\u001b[0m\u001b[0;34m\u001b[0m\u001b[0m\n\u001b[0m",
      "\u001b[0;31mAttributeError\u001b[0m: 'TfidfVectorizer' object has no attribute 'get_feature_names_out'"
     ]
    }
   ],
   "source": [
    "from sklearn.feature_extraction.text import TfidfVectorizer\n",
    "corpus = [\n",
    "    'This is the first document.',\n",
    "     'This document is the second document.',\n",
    "    'And this is the third one.',\n",
    "    'Is this the first document?',\n",
    "]\n",
    "vectorizer = TfidfVectorizer()\n",
    "X = vectorizer.fit_transform(corpus)\n",
    "vectorizer.get_feature_names_out()"
   ]
  },
  {
   "cell_type": "code",
   "execution_count": 5,
   "metadata": {},
   "outputs": [
    {
     "ename": "NameError",
     "evalue": "name 'data' is not defined",
     "output_type": "error",
     "traceback": [
      "\u001b[0;31m---------------------------------------------------------------------------\u001b[0m",
      "\u001b[0;31mNameError\u001b[0m                                 Traceback (most recent call last)",
      "\u001b[0;32m<ipython-input-5-670953cc8c7b>\u001b[0m in \u001b[0;36m<module>\u001b[0;34m\u001b[0m\n\u001b[0;32m----> 1\u001b[0;31m \u001b[0mcorpus\u001b[0m \u001b[0;34m=\u001b[0m \u001b[0;34m' '\u001b[0m\u001b[0;34m.\u001b[0m\u001b[0mjoin\u001b[0m\u001b[0;34m(\u001b[0m\u001b[0mlist\u001b[0m\u001b[0;34m(\u001b[0m\u001b[0mdata\u001b[0m\u001b[0;34m[\u001b[0m\u001b[0;34m'message'\u001b[0m\u001b[0;34m]\u001b[0m\u001b[0;34m.\u001b[0m\u001b[0mapply\u001b[0m\u001b[0;34m(\u001b[0m\u001b[0;32mlambda\u001b[0m \u001b[0mx\u001b[0m\u001b[0;34m:\u001b[0m \u001b[0mstr\u001b[0m\u001b[0;34m(\u001b[0m\u001b[0mx\u001b[0m\u001b[0;34m)\u001b[0m\u001b[0;34m)\u001b[0m\u001b[0;34m)\u001b[0m\u001b[0;34m)\u001b[0m\u001b[0;34m\u001b[0m\u001b[0;34m\u001b[0m\u001b[0m\n\u001b[0m",
      "\u001b[0;31mNameError\u001b[0m: name 'data' is not defined"
     ]
    }
   ],
   "source": [
    "corpus = ' '.join(list(data['message'].apply(lambda x: str(x))))"
   ]
  },
  {
   "cell_type": "code",
   "execution_count": 80,
   "metadata": {},
   "outputs": [
    {
     "data": {
      "text/html": [
       "<div>\n",
       "<style scoped>\n",
       "    .dataframe tbody tr th:only-of-type {\n",
       "        vertical-align: middle;\n",
       "    }\n",
       "\n",
       "    .dataframe tbody tr th {\n",
       "        vertical-align: top;\n",
       "    }\n",
       "\n",
       "    .dataframe thead th {\n",
       "        text-align: right;\n",
       "    }\n",
       "</style>\n",
       "<table border=\"1\" class=\"dataframe\">\n",
       "  <thead>\n",
       "    <tr style=\"text-align: right;\">\n",
       "      <th></th>\n",
       "      <th>0</th>\n",
       "    </tr>\n",
       "  </thead>\n",
       "  <tbody>\n",
       "    <tr>\n",
       "      <th>0</th>\n",
       "      <td>c</td>\n",
       "    </tr>\n",
       "    <tr>\n",
       "      <th>1</th>\n",
       "      <td>а</td>\n",
       "    </tr>\n",
       "    <tr>\n",
       "      <th>2</th>\n",
       "      <td>алло</td>\n",
       "    </tr>\n",
       "    <tr>\n",
       "      <th>3</th>\n",
       "      <td>без</td>\n",
       "    </tr>\n",
       "    <tr>\n",
       "      <th>4</th>\n",
       "      <td>белый</td>\n",
       "    </tr>\n",
       "    <tr>\n",
       "      <th>...</th>\n",
       "      <td>...</td>\n",
       "    </tr>\n",
       "    <tr>\n",
       "      <th>554</th>\n",
       "      <td>этому</td>\n",
       "    </tr>\n",
       "    <tr>\n",
       "      <th>555</th>\n",
       "      <td>этот</td>\n",
       "    </tr>\n",
       "    <tr>\n",
       "      <th>556</th>\n",
       "      <td>эту</td>\n",
       "    </tr>\n",
       "    <tr>\n",
       "      <th>557</th>\n",
       "      <td>я</td>\n",
       "    </tr>\n",
       "    <tr>\n",
       "      <th>558</th>\n",
       "      <td>являюсь</td>\n",
       "    </tr>\n",
       "  </tbody>\n",
       "</table>\n",
       "<p>559 rows × 1 columns</p>\n",
       "</div>"
      ],
      "text/plain": [
       "           0\n",
       "0          c\n",
       "1          а\n",
       "2       алло\n",
       "3        без\n",
       "4      белый\n",
       "..       ...\n",
       "554    этому\n",
       "555     этот\n",
       "556      эту\n",
       "557        я\n",
       "558  являюсь\n",
       "\n",
       "[559 rows x 1 columns]"
      ]
     },
     "execution_count": 80,
     "metadata": {},
     "output_type": "execute_result"
    }
   ],
   "source": [
    "stopwords_ru"
   ]
  },
  {
   "cell_type": "code",
   "execution_count": 6,
   "metadata": {},
   "outputs": [],
   "source": [
    "import os\n",
    "import requests\n",
    "from pathlib import Path\n",
    "import nltk\n",
    "from nltk import sent_tokenize, word_tokenize, regexp_tokenize\n",
    "from nltk.corpus import stopwords\n",
    "import pymorphy2\n",
    "from collections import Counter\n",
    "\n",
    "\n",
    "stopwords_ru = pd.read_csv(\"stop_words.txt\", header = None)\n",
    "\n",
    "\n",
    "def normalize_tokens(tokens):\n",
    "    morph = pymorphy2.MorphAnalyzer()\n",
    "    return [morph.parse(tok)[0].normal_form for tok in tokens]\n",
    "\n",
    "\n",
    "def remove_stopwords(tokens, stopwords=None, min_length=4):\n",
    "    if not stopwords:\n",
    "        return tokens\n",
    "    stopwords = set(stopwords)\n",
    "    tokens = [tok\n",
    "              for tok in tokens\n",
    "              if tok not in stopwords and len(tok) >= min_length]\n",
    "    return tokens\n",
    "\n",
    "\n",
    "def tokenize_n_lemmatize(\n",
    "    text, stopwords=None, normalize=True, \n",
    "    regexp=r'(?u)\\b\\w{4,}\\b'):\n",
    "    words = [w for sent in sent_tokenize(text)\n",
    "             for w in regexp_tokenize(sent, regexp)]\n",
    "    if normalize:\n",
    "        words = normalize_tokens(words)\n",
    "    if stopwords:\n",
    "        words = remove_stopwords(words, stopwords)\n",
    "    return words\n",
    "\n",
    "#stopwords_ru = list(stopwords_ru)\n",
    "\n",
    "#text = corpus\n",
    "#words = tokenize_n_lemmatize(text, stopwords=stopwords_ru)"
   ]
  },
  {
   "cell_type": "code",
   "execution_count": 7,
   "metadata": {},
   "outputs": [],
   "source": [
    "stopwords_ru = pd.read_csv(\"stop_words.txt\", header = None)\n",
    "stopwords_ru = list(stopwords_ru)"
   ]
  },
  {
   "cell_type": "code",
   "execution_count": 83,
   "metadata": {},
   "outputs": [],
   "source": [
    "from collections import Counter"
   ]
  },
  {
   "cell_type": "code",
   "execution_count": 90,
   "metadata": {},
   "outputs": [
    {
     "data": {
      "text/plain": [
       "247187"
      ]
     },
     "execution_count": 90,
     "metadata": {},
     "output_type": "execute_result"
    }
   ],
   "source": [
    "#qty = sum(d.values())\n",
    "qty = sum(Counter(words).values())\n",
    "qty"
   ]
  },
  {
   "cell_type": "code",
   "execution_count": 128,
   "metadata": {},
   "outputs": [
    {
     "data": {
      "text/plain": [
       "[('https', 2894),\n",
       " ('быть', 2296),\n",
       " ('банк', 1850),\n",
       " ('компания', 1576),\n",
       " ('млрд', 1552),\n",
       " ('который', 1449),\n",
       " ('акция', 1383),\n",
       " ('markettwits', 1373),\n",
       " ('рубль', 1356),\n",
       " ('рынок', 1312),\n",
       " ('россия', 1260),\n",
       " ('мочь', 1229),\n",
       " ('свой', 1114),\n",
       " ('нефть', 950),\n",
       " ('криптовалюта', 934),\n",
       " ('весь', 918),\n",
       " ('2018', 866),\n",
       " ('новый', 835),\n",
       " ('если', 770),\n",
       " ('человек', 742)]"
      ]
     },
     "execution_count": 128,
     "metadata": {},
     "output_type": "execute_result"
    }
   ],
   "source": [
    "Counter(words).most_common(20)"
   ]
  },
  {
   "cell_type": "code",
   "execution_count": 91,
   "metadata": {},
   "outputs": [],
   "source": [
    "k = list(Counter(words).keys())\n",
    "\n",
    "v = np.array(list(Counter(words).values()))/qty\n",
    "d = [k, list(v)]\n",
    "zip_iterator = zip(k,list(v) )\n",
    "\n",
    "di = dict(zip_iterator)"
   ]
  },
  {
   "cell_type": "code",
   "execution_count": 92,
   "metadata": {},
   "outputs": [],
   "source": [
    "x = data['message'].iloc[1]"
   ]
  },
  {
   "cell_type": "code",
   "execution_count": 93,
   "metadata": {},
   "outputs": [],
   "source": [
    "def tfidf(x):\n",
    "    y = tokenize_n_lemmatize(x, stopwords=stopwords_ru)\n",
    "    z=[]\n",
    "    for i in y: \n",
    "        z.append(di.get(i))\n",
    "    return [y, z]"
   ]
  },
  {
   "cell_type": "code",
   "execution_count": 94,
   "metadata": {},
   "outputs": [
    {
     "data": {
      "text/plain": [
       "[[], []]"
      ]
     },
     "execution_count": 94,
     "metadata": {},
     "output_type": "execute_result"
    }
   ],
   "source": [
    "tfidf(str(x))"
   ]
  },
  {
   "cell_type": "code",
   "execution_count": null,
   "metadata": {},
   "outputs": [],
   "source": [
    "data_1 = data.head()"
   ]
  },
  {
   "cell_type": "code",
   "execution_count": 95,
   "metadata": {},
   "outputs": [],
   "source": [
    "data['TF_IDF'] = data['message'].apply(lambda x: tfidf(str(x)))"
   ]
  },
  {
   "cell_type": "code",
   "execution_count": 96,
   "metadata": {},
   "outputs": [
    {
     "data": {
      "text/html": [
       "<div>\n",
       "<style scoped>\n",
       "    .dataframe tbody tr th:only-of-type {\n",
       "        vertical-align: middle;\n",
       "    }\n",
       "\n",
       "    .dataframe tbody tr th {\n",
       "        vertical-align: top;\n",
       "    }\n",
       "\n",
       "    .dataframe thead th {\n",
       "        text-align: right;\n",
       "    }\n",
       "</style>\n",
       "<table border=\"1\" class=\"dataframe\">\n",
       "  <thead>\n",
       "    <tr style=\"text-align: right;\">\n",
       "      <th></th>\n",
       "      <th>&lt;TICKER&gt;</th>\n",
       "      <th>&lt;OPEN&gt;</th>\n",
       "      <th>&lt;HIGH&gt;</th>\n",
       "      <th>&lt;CLOSE&gt;</th>\n",
       "      <th>&lt;VOL&gt;</th>\n",
       "      <th>date</th>\n",
       "      <th>message</th>\n",
       "      <th>Разметка</th>\n",
       "      <th>TF_IDF</th>\n",
       "    </tr>\n",
       "  </thead>\n",
       "  <tbody>\n",
       "    <tr>\n",
       "      <th>0</th>\n",
       "      <td>SBER</td>\n",
       "      <td>226.88</td>\n",
       "      <td>230.00</td>\n",
       "      <td>226.93</td>\n",
       "      <td>1771920</td>\n",
       "      <td>2018-01-03 10:10:00</td>\n",
       "      <td>NaN</td>\n",
       "      <td>[[['nan']], [['B-LOC']]]</td>\n",
       "      <td>[[], []]</td>\n",
       "    </tr>\n",
       "    <tr>\n",
       "      <th>1</th>\n",
       "      <td>SBER</td>\n",
       "      <td>227.01</td>\n",
       "      <td>227.29</td>\n",
       "      <td>227.06</td>\n",
       "      <td>802790</td>\n",
       "      <td>2018-01-03 10:20:00</td>\n",
       "      <td>NaN</td>\n",
       "      <td>[[['nan']], [['B-LOC']]]</td>\n",
       "      <td>[[], []]</td>\n",
       "    </tr>\n",
       "    <tr>\n",
       "      <th>2</th>\n",
       "      <td>SBER</td>\n",
       "      <td>227.01</td>\n",
       "      <td>227.14</td>\n",
       "      <td>227.00</td>\n",
       "      <td>492810</td>\n",
       "      <td>2018-01-03 10:30:00</td>\n",
       "      <td>политика, православие, нефть, алмазы… межпромб...</td>\n",
       "      <td>[[['политика', ',', 'православие', ',', 'нефть...</td>\n",
       "      <td>[[политика, православие, нефть, алмаз, межпром...</td>\n",
       "    </tr>\n",
       "    <tr>\n",
       "      <th>3</th>\n",
       "      <td>SBER</td>\n",
       "      <td>227.01</td>\n",
       "      <td>227.14</td>\n",
       "      <td>227.00</td>\n",
       "      <td>492810</td>\n",
       "      <td>2018-01-03 10:30:00</td>\n",
       "      <td>а это шикарная старая статья-калькулятор, кото...</td>\n",
       "      <td>[[['а', 'это', 'шикарная', 'старая', 'статья-к...</td>\n",
       "      <td>[[шикарный, старый, статья, калькулятор, котор...</td>\n",
       "    </tr>\n",
       "    <tr>\n",
       "      <th>4</th>\n",
       "      <td>SBER</td>\n",
       "      <td>227.01</td>\n",
       "      <td>227.14</td>\n",
       "      <td>227.00</td>\n",
       "      <td>492810</td>\n",
       "      <td>2018-01-03 10:30:00</td>\n",
       "      <td>NaN</td>\n",
       "      <td>[[['nan']], [['B-LOC']]]</td>\n",
       "      <td>[[], []]</td>\n",
       "    </tr>\n",
       "    <tr>\n",
       "      <th>...</th>\n",
       "      <td>...</td>\n",
       "      <td>...</td>\n",
       "      <td>...</td>\n",
       "      <td>...</td>\n",
       "      <td>...</td>\n",
       "      <td>...</td>\n",
       "      <td>...</td>\n",
       "      <td>...</td>\n",
       "      <td>...</td>\n",
       "    </tr>\n",
       "    <tr>\n",
       "      <th>9995</th>\n",
       "      <td>SBER</td>\n",
       "      <td>208.66</td>\n",
       "      <td>209.87</td>\n",
       "      <td>209.50</td>\n",
       "      <td>915530</td>\n",
       "      <td>2018-06-28 13:20:00</td>\n",
       "      <td>тунец и порноиндустрия: как блокчейн использую...</td>\n",
       "      <td>[[['тунец', 'и', 'порноиндустрия', ':', 'как',...</td>\n",
       "      <td>[[тунец, порноиндустрия, блокчейн, использоват...</td>\n",
       "    </tr>\n",
       "    <tr>\n",
       "      <th>9996</th>\n",
       "      <td>SBER</td>\n",
       "      <td>209.50</td>\n",
       "      <td>209.53</td>\n",
       "      <td>209.14</td>\n",
       "      <td>571610</td>\n",
       "      <td>2018-06-28 13:30:00</td>\n",
       "      <td>⚠️рынки ем - аргентина\\nпродолжается треш в ар...</td>\n",
       "      <td>[[['⚠️рынки', 'ем', '-', 'аргентина', 'продолж...</td>\n",
       "      <td>[[рынок, аргентина, продолжаться, треш, аргент...</td>\n",
       "    </tr>\n",
       "    <tr>\n",
       "      <th>9997</th>\n",
       "      <td>SBER</td>\n",
       "      <td>209.50</td>\n",
       "      <td>209.53</td>\n",
       "      <td>209.14</td>\n",
       "      <td>571610</td>\n",
       "      <td>2018-06-28 13:30:00</td>\n",
       "      <td>чтобы бесплатно узнать, где ваша кредитная ист...</td>\n",
       "      <td>[[['чтобы', 'бесплатно', 'узнать', ',', 'где',...</td>\n",
       "      <td>[[чтобы, бесплатно, узнать, кредитный, история...</td>\n",
       "    </tr>\n",
       "    <tr>\n",
       "      <th>9998</th>\n",
       "      <td>SBER</td>\n",
       "      <td>209.13</td>\n",
       "      <td>209.43</td>\n",
       "      <td>209.13</td>\n",
       "      <td>306200</td>\n",
       "      <td>2018-06-28 13:40:00</td>\n",
       "      <td>крипто - биржи - facebook\\nfacebook может купи...</td>\n",
       "      <td>[[['крипто', '-', 'биржи', '-', 'facebook', 'f...</td>\n",
       "      <td>[[криптый, биржа, facebook, facebook, мочь, ку...</td>\n",
       "    </tr>\n",
       "    <tr>\n",
       "      <th>9999</th>\n",
       "      <td>SBER</td>\n",
       "      <td>209.13</td>\n",
       "      <td>209.26</td>\n",
       "      <td>209.18</td>\n",
       "      <td>203950</td>\n",
       "      <td>2018-06-28 13:50:00</td>\n",
       "      <td>NaN</td>\n",
       "      <td>[[['nan']], [['B-LOC']]]</td>\n",
       "      <td>[[], []]</td>\n",
       "    </tr>\n",
       "  </tbody>\n",
       "</table>\n",
       "<p>10000 rows × 9 columns</p>\n",
       "</div>"
      ],
      "text/plain": [
       "     <TICKER>  <OPEN>  <HIGH>  <CLOSE>    <VOL>                 date  \\\n",
       "0        SBER  226.88  230.00   226.93  1771920  2018-01-03 10:10:00   \n",
       "1        SBER  227.01  227.29   227.06   802790  2018-01-03 10:20:00   \n",
       "2        SBER  227.01  227.14   227.00   492810  2018-01-03 10:30:00   \n",
       "3        SBER  227.01  227.14   227.00   492810  2018-01-03 10:30:00   \n",
       "4        SBER  227.01  227.14   227.00   492810  2018-01-03 10:30:00   \n",
       "...       ...     ...     ...      ...      ...                  ...   \n",
       "9995     SBER  208.66  209.87   209.50   915530  2018-06-28 13:20:00   \n",
       "9996     SBER  209.50  209.53   209.14   571610  2018-06-28 13:30:00   \n",
       "9997     SBER  209.50  209.53   209.14   571610  2018-06-28 13:30:00   \n",
       "9998     SBER  209.13  209.43   209.13   306200  2018-06-28 13:40:00   \n",
       "9999     SBER  209.13  209.26   209.18   203950  2018-06-28 13:50:00   \n",
       "\n",
       "                                                message  \\\n",
       "0                                                   NaN   \n",
       "1                                                   NaN   \n",
       "2     политика, православие, нефть, алмазы… межпромб...   \n",
       "3     а это шикарная старая статья-калькулятор, кото...   \n",
       "4                                                   NaN   \n",
       "...                                                 ...   \n",
       "9995  тунец и порноиндустрия: как блокчейн использую...   \n",
       "9996  ⚠️рынки ем - аргентина\\nпродолжается треш в ар...   \n",
       "9997  чтобы бесплатно узнать, где ваша кредитная ист...   \n",
       "9998  крипто - биржи - facebook\\nfacebook может купи...   \n",
       "9999                                                NaN   \n",
       "\n",
       "                                               Разметка  \\\n",
       "0                              [[['nan']], [['B-LOC']]]   \n",
       "1                              [[['nan']], [['B-LOC']]]   \n",
       "2     [[['политика', ',', 'православие', ',', 'нефть...   \n",
       "3     [[['а', 'это', 'шикарная', 'старая', 'статья-к...   \n",
       "4                              [[['nan']], [['B-LOC']]]   \n",
       "...                                                 ...   \n",
       "9995  [[['тунец', 'и', 'порноиндустрия', ':', 'как',...   \n",
       "9996  [[['⚠️рынки', 'ем', '-', 'аргентина', 'продолж...   \n",
       "9997  [[['чтобы', 'бесплатно', 'узнать', ',', 'где',...   \n",
       "9998  [[['крипто', '-', 'биржи', '-', 'facebook', 'f...   \n",
       "9999                           [[['nan']], [['B-LOC']]]   \n",
       "\n",
       "                                                 TF_IDF  \n",
       "0                                              [[], []]  \n",
       "1                                              [[], []]  \n",
       "2     [[политика, православие, нефть, алмаз, межпром...  \n",
       "3     [[шикарный, старый, статья, калькулятор, котор...  \n",
       "4                                              [[], []]  \n",
       "...                                                 ...  \n",
       "9995  [[тунец, порноиндустрия, блокчейн, использоват...  \n",
       "9996  [[рынок, аргентина, продолжаться, треш, аргент...  \n",
       "9997  [[чтобы, бесплатно, узнать, кредитный, история...  \n",
       "9998  [[криптый, биржа, facebook, facebook, мочь, ку...  \n",
       "9999                                           [[], []]  \n",
       "\n",
       "[10000 rows x 9 columns]"
      ]
     },
     "execution_count": 96,
     "metadata": {},
     "output_type": "execute_result"
    }
   ],
   "source": [
    "data"
   ]
  },
  {
   "cell_type": "code",
   "execution_count": 114,
   "metadata": {},
   "outputs": [],
   "source": [
    "ff = pd.DataFrame(np.array(d).transpose(), columns = ['word', 'frequency'])"
   ]
  },
  {
   "cell_type": "code",
   "execution_count": 122,
   "metadata": {},
   "outputs": [],
   "source": [
    "ff = ff.sort_values(by = ['frequency'])"
   ]
  },
  {
   "cell_type": "code",
   "execution_count": 126,
   "metadata": {},
   "outputs": [],
   "source": [
    "graph = ff.head(30)"
   ]
  },
  {
   "cell_type": "code",
   "execution_count": 127,
   "metadata": {},
   "outputs": [
    {
     "data": {
      "image/png": "[encoded data removed]",
      "text/plain": [
       "<Figure size 432x288 with 1 Axes>"
      ]
     },
     "metadata": {},
     "output_type": "display_data"
    }
   ],
   "source": [
    "import seaborn as sns\n",
    "sns.set_theme(style=\"whitegrid\")\n",
    "tips = graph\n",
    "ax = sns.lineplot(x=\"word\", y=\"frequency\", data=tips)"
   ]
  },
  {
   "cell_type": "markdown",
   "metadata": {},
   "source": [
    "### Для всей выборки"
   ]
  },
  {
   "cell_type": "code",
   "execution_count": 8,
   "metadata": {},
   "outputs": [],
   "source": [
    "corpus_all = ' '.join(list(result['message'].apply(lambda x: str(x))))\n",
    "text_all = corpus_all\n",
    "words_all = tokenize_n_lemmatize(text_all, stopwords=stopwords_ru)\n",
    "qty_all = sum(Counter(words_all).values())\n",
    "k_all = list(Counter(words_all).keys())\n",
    "\n",
    "v_all = np.array(list(Counter(words_all).values()))/qty_all\n",
    "d_all = [k_all, list(v_all)]\n",
    "zip_iterator = zip(k_all,list(v_all) )\n",
    "\n",
    "di_all = dict(zip_iterator)"
   ]
  },
  {
   "cell_type": "code",
   "execution_count": 10,
   "metadata": {},
   "outputs": [],
   "source": [
    "x = Counter(words_all).most_common(20)"
   ]
  },
  {
   "cell_type": "code",
   "execution_count": 11,
   "metadata": {},
   "outputs": [],
   "source": [
    "x_1 = np.array(x)"
   ]
  },
  {
   "cell_type": "code",
   "execution_count": 14,
   "metadata": {},
   "outputs": [],
   "source": [
    "x_2 = x_1.transpose()"
   ]
  },
  {
   "cell_type": "code",
   "execution_count": 17,
   "metadata": {},
   "outputs": [
    {
     "data": {
      "text/plain": [
       "array(['195175', '192057', '191351', '146450', '135073', '126940',\n",
       "       '124633', '117400', '102275', '97868', '94715', '92915', '90092',\n",
       "       '88533', '85204', '70402', '66148', '63740', '60610', '58875'],\n",
       "      dtype='<U8')"
      ]
     },
     "execution_count": 17,
     "metadata": {},
     "output_type": "execute_result"
    }
   ],
   "source": [
    "x_2[1]"
   ]
  },
  {
   "cell_type": "code",
   "execution_count": 30,
   "metadata": {},
   "outputs": [
    {
     "name": "stdout",
     "output_type": "stream",
     "text": [
      "Populating the interactive namespace from numpy and matplotlib\n"
     ]
    }
   ],
   "source": [
    "import pandas as pd\n",
    "import numpy as np\n",
    "from matplotlib import pyplot as plt\n",
    "from matplotlib.pyplot import figure\n",
    "import seaborn as sns\n",
    "%pylab inline"
   ]
  },
  {
   "cell_type": "code",
   "execution_count": 25,
   "metadata": {},
   "outputs": [
    {
     "data": {
      "text/plain": [
       "array([0.0084404 , 0.00830556, 0.00827503, 0.00633327, 0.00584127,\n",
       "       0.00548955, 0.00538979, 0.00507699, 0.00442291, 0.00423233,\n",
       "       0.00409598, 0.00401813, 0.00389605, 0.00382863, 0.00368467,\n",
       "       0.00304455, 0.00286059, 0.00275645, 0.0026211 , 0.00254607])"
      ]
     },
     "execution_count": 25,
     "metadata": {},
     "output_type": "execute_result"
    }
   ],
   "source": [
    "x_2[1].astype(int)/qty_all"
   ]
  },
  {
   "cell_type": "code",
   "execution_count": 32,
   "metadata": {},
   "outputs": [
    {
     "data": {
      "image/png": "[encoded data removed]",
      "text/plain": [
       "<Figure size 640x480 with 1 Axes>"
      ]
     },
     "metadata": {
      "needs_background": "light"
     },
     "output_type": "display_data"
    }
   ],
   "source": [
    "figure(figsize=(8, 6), dpi=80)\n",
    "x = x_2[0]\n",
    "y = x_2[1].astype(int)/qty_all\n",
    "plt.title('Топ-20 слов в корпусе')\n",
    "plt.xlabel('Слово')\n",
    "plt.ylabel('Частота')\n",
    "plt.xticks(rotation=90)\n",
    "_ = plt.bar(x, y)\n",
    "plt.grid()"
   ]
  },
  {
   "cell_type": "code",
   "execution_count": 147,
   "metadata": {},
   "outputs": [],
   "source": [
    "def tfidf_all(x):\n",
    "    y = tokenize_n_lemmatize(x, stopwords=stopwords_ru)\n",
    "    z=[]\n",
    "    for i in y: \n",
    "        z.append(di_all.get(i))\n",
    "    return [y, z]"
   ]
  },
  {
   "cell_type": "code",
   "execution_count": null,
   "metadata": {},
   "outputs": [],
   "source": [
    "result['TF_IDF'] = result['message'].apply(lambda x: tfidf_all(str(x)))"
   ]
  },
  {
   "cell_type": "code",
   "execution_count": null,
   "metadata": {},
   "outputs": [],
   "source": []
  }
 ],
 "metadata": {
  "kernelspec": {
   "display_name": "Python 3",
   "language": "python",
   "name": "python3"
  },
  "language_info": {
   "codemirror_mode": {
    "name": "ipython",
    "version": 3
   },
   "file_extension": ".py",
   "mimetype": "text/x-python",
   "name": "python",
   "nbconvert_exporter": "python",
   "pygments_lexer": "ipython3",
   "version": "3.8.5"
  }
 },
 "nbformat": 4,
 "nbformat_minor": 4
}
