{
 "cells": [
  {
   "cell_type": "markdown",
   "metadata": {},
   "source": [
    "# Создание датасета"
   ]
  },
  {
   "cell_type": "code",
   "execution_count": 1,
   "metadata": {},
   "outputs": [],
   "source": [
    "import os\n",
    "import pandas as pd\n",
    "cwd = os.path.abspath('') \n",
    "files = os.listdir(cwd)"
   ]
  },
  {
   "cell_type": "code",
   "execution_count": 2,
   "metadata": {},
   "outputs": [
    {
     "data": {
      "text/plain": "['Создание Датасета.ipynb',\n 'Untitled1.ipynb',\n '.DS_Store',\n 'Untitled.ipynb',\n 'SBER_180101_211231.csv',\n 'YNDX_180101_211231.csv',\n 'graphs.ipynb',\n 'channel_messages.json',\n 'GAZP_180101_211231.csv',\n 'event_log.txt',\n '.ipynb_checkpoints',\n 'ROSN_180101_211231.csv',\n 'VTBR_180101_211231.csv',\n 'аналитика полученных данных.ipynb']"
     },
     "execution_count": 2,
     "metadata": {},
     "output_type": "execute_result"
    }
   ],
   "source": [
    "files"
   ]
  },
  {
   "cell_type": "code",
   "execution_count": 3,
   "metadata": {},
   "outputs": [
    {
     "data": {
      "text/plain": "  <TICKER>  <PER>    <DATE>    <TIME>  <OPEN>  <HIGH>   <LOW>  <CLOSE>  \\\n0     SBER     10  20180103  10:10:00  226.88  230.00  226.35   226.93   \n1     SBER     10  20180103  10:20:00  227.01  227.29  226.71   227.06   \n2     SBER     10  20180103  10:30:00  227.01  227.14  226.91   227.00   \n3     SBER     10  20180103  10:40:00  227.04  228.73  227.00   228.64   \n4     SBER     10  20180103  10:50:00  228.70  229.10  228.27   228.33   \n\n     <VOL>  \n0  1771920  \n1   802790  \n2   492810  \n3   977310  \n4   808090  ",
      "text/html": "<div>\n<style scoped>\n    .dataframe tbody tr th:only-of-type {\n        vertical-align: middle;\n    }\n\n    .dataframe tbody tr th {\n        vertical-align: top;\n    }\n\n    .dataframe thead th {\n        text-align: right;\n    }\n</style>\n<table border=\"1\" class=\"dataframe\">\n  <thead>\n    <tr style=\"text-align: right;\">\n      <th></th>\n      <th>&lt;TICKER&gt;</th>\n      <th>&lt;PER&gt;</th>\n      <th>&lt;DATE&gt;</th>\n      <th>&lt;TIME&gt;</th>\n      <th>&lt;OPEN&gt;</th>\n      <th>&lt;HIGH&gt;</th>\n      <th>&lt;LOW&gt;</th>\n      <th>&lt;CLOSE&gt;</th>\n      <th>&lt;VOL&gt;</th>\n    </tr>\n  </thead>\n  <tbody>\n    <tr>\n      <th>0</th>\n      <td>SBER</td>\n      <td>10</td>\n      <td>20180103</td>\n      <td>10:10:00</td>\n      <td>226.88</td>\n      <td>230.00</td>\n      <td>226.35</td>\n      <td>226.93</td>\n      <td>1771920</td>\n    </tr>\n    <tr>\n      <th>1</th>\n      <td>SBER</td>\n      <td>10</td>\n      <td>20180103</td>\n      <td>10:20:00</td>\n      <td>227.01</td>\n      <td>227.29</td>\n      <td>226.71</td>\n      <td>227.06</td>\n      <td>802790</td>\n    </tr>\n    <tr>\n      <th>2</th>\n      <td>SBER</td>\n      <td>10</td>\n      <td>20180103</td>\n      <td>10:30:00</td>\n      <td>227.01</td>\n      <td>227.14</td>\n      <td>226.91</td>\n      <td>227.00</td>\n      <td>492810</td>\n    </tr>\n    <tr>\n      <th>3</th>\n      <td>SBER</td>\n      <td>10</td>\n      <td>20180103</td>\n      <td>10:40:00</td>\n      <td>227.04</td>\n      <td>228.73</td>\n      <td>227.00</td>\n      <td>228.64</td>\n      <td>977310</td>\n    </tr>\n    <tr>\n      <th>4</th>\n      <td>SBER</td>\n      <td>10</td>\n      <td>20180103</td>\n      <td>10:50:00</td>\n      <td>228.70</td>\n      <td>229.10</td>\n      <td>228.27</td>\n      <td>228.33</td>\n      <td>808090</td>\n    </tr>\n  </tbody>\n</table>\n</div>"
     },
     "execution_count": 3,
     "metadata": {},
     "output_type": "execute_result"
    }
   ],
   "source": [
    "df = pd.DataFrame()\n",
    "for file in files:\n",
    "    if file.endswith('.csv'):\n",
    "        df = df.append(pd.read_csv(file), ignore_index=True) \n",
    "df.head()"
   ]
  },
  {
   "cell_type": "code",
   "execution_count": 4,
   "metadata": {},
   "outputs": [],
   "source": [
    "messages = pd.io.json.read_json('channel_messages.json')"
   ]
  },
  {
   "cell_type": "code",
   "execution_count": 5,
   "metadata": {},
   "outputs": [],
   "source": [
    "messages['time'] = messages['date'].apply(lambda x: str(x)[-14:-6])"
   ]
  },
  {
   "cell_type": "code",
   "execution_count": 6,
   "metadata": {},
   "outputs": [],
   "source": [
    "messages['<DATE>'] = messages['date'].apply(lambda x: str(x)[:10].replace('-', ''))"
   ]
  },
  {
   "cell_type": "code",
   "execution_count": 7,
   "metadata": {},
   "outputs": [],
   "source": [
    "messages['<TIME>'] = messages['time'].apply(lambda x: str(x)[:4]+'0:00')"
   ]
  },
  {
   "cell_type": "code",
   "execution_count": 8,
   "metadata": {},
   "outputs": [],
   "source": [
    "df_1 = messages[['message','date', 'time', '<DATE>', '<TIME>']]"
   ]
  },
  {
   "cell_type": "code",
   "execution_count": 9,
   "metadata": {},
   "outputs": [
    {
     "name": "stderr",
     "output_type": "stream",
     "text": [
      "/Users/dariagerasimenko/.conda/envs/Downloads/lib/python3.6/site-packages/ipykernel_launcher.py:1: SettingWithCopyWarning: \n",
      "A value is trying to be set on a copy of a slice from a DataFrame.\n",
      "Try using .loc[row_indexer,col_indexer] = value instead\n",
      "\n",
      "See the caveats in the documentation: http://pandas.pydata.org/pandas-docs/stable/user_guide/indexing.html#returning-a-view-versus-a-copy\n",
      "  \"\"\"Entry point for launching an IPython kernel.\n"
     ]
    }
   ],
   "source": [
    "df_1[\"message\"] = df_1[\"message\"].str.lower()"
   ]
  },
  {
   "cell_type": "code",
   "execution_count": 11,
   "outputs": [
    {
     "data": {
      "text/plain": "                                                  message  \\\n0       🏁 итоги дня, 07.12\\n\\n🇷🇺 президент рф ждет от ...   \n1                                                           \n2                                                           \n3                                                           \n4       в этом году мы добавили столько новых функций,...   \n...                                                   ...   \n319197  в инстаграм вышла новая статья и правильном от...   \n319198                                                      \n319199  стартуем! свежие посты, аналитика, интересные ...   \n319200                                                NaN   \n319201                                                NaN   \n\n                            date      time    <DATE>    <TIME>  \n0      2021-12-07 17:43:21+00:00  17:43:21  20211207  17:40:00  \n1      2021-12-07 15:42:17+00:00  15:42:17  20211207  15:40:00  \n2      2021-12-07 15:42:17+00:00  15:42:17  20211207  15:40:00  \n3      2021-12-07 15:42:16+00:00  15:42:16  20211207  15:40:00  \n4      2021-12-07 15:42:16+00:00  15:42:16  20211207  15:40:00  \n...                          ...       ...       ...       ...  \n319197 2017-04-04 08:45:03+00:00  08:45:03  20170404  08:40:00  \n319198 2017-04-04 08:44:59+00:00  08:44:59  20170404  08:40:00  \n319199 2017-04-03 10:07:28+00:00  10:07:28  20170403  10:00:00  \n319200 2017-04-03 10:03:13+00:00  10:03:13  20170403  10:00:00  \n319201 2017-04-03 10:03:07+00:00  10:03:07  20170403  10:00:00  \n\n[319202 rows x 5 columns]",
      "text/html": "<div>\n<style scoped>\n    .dataframe tbody tr th:only-of-type {\n        vertical-align: middle;\n    }\n\n    .dataframe tbody tr th {\n        vertical-align: top;\n    }\n\n    .dataframe thead th {\n        text-align: right;\n    }\n</style>\n<table border=\"1\" class=\"dataframe\">\n  <thead>\n    <tr style=\"text-align: right;\">\n      <th></th>\n      <th>message</th>\n      <th>date</th>\n      <th>time</th>\n      <th>&lt;DATE&gt;</th>\n      <th>&lt;TIME&gt;</th>\n    </tr>\n  </thead>\n  <tbody>\n    <tr>\n      <th>0</th>\n      <td>🏁 итоги дня, 07.12\\n\\n🇷🇺 президент рф ждет от ...</td>\n      <td>2021-12-07 17:43:21+00:00</td>\n      <td>17:43:21</td>\n      <td>20211207</td>\n      <td>17:40:00</td>\n    </tr>\n    <tr>\n      <th>1</th>\n      <td></td>\n      <td>2021-12-07 15:42:17+00:00</td>\n      <td>15:42:17</td>\n      <td>20211207</td>\n      <td>15:40:00</td>\n    </tr>\n    <tr>\n      <th>2</th>\n      <td></td>\n      <td>2021-12-07 15:42:17+00:00</td>\n      <td>15:42:17</td>\n      <td>20211207</td>\n      <td>15:40:00</td>\n    </tr>\n    <tr>\n      <th>3</th>\n      <td></td>\n      <td>2021-12-07 15:42:16+00:00</td>\n      <td>15:42:16</td>\n      <td>20211207</td>\n      <td>15:40:00</td>\n    </tr>\n    <tr>\n      <th>4</th>\n      <td>в этом году мы добавили столько новых функций,...</td>\n      <td>2021-12-07 15:42:16+00:00</td>\n      <td>15:42:16</td>\n      <td>20211207</td>\n      <td>15:40:00</td>\n    </tr>\n    <tr>\n      <th>...</th>\n      <td>...</td>\n      <td>...</td>\n      <td>...</td>\n      <td>...</td>\n      <td>...</td>\n    </tr>\n    <tr>\n      <th>319197</th>\n      <td>в инстаграм вышла новая статья и правильном от...</td>\n      <td>2017-04-04 08:45:03+00:00</td>\n      <td>08:45:03</td>\n      <td>20170404</td>\n      <td>08:40:00</td>\n    </tr>\n    <tr>\n      <th>319198</th>\n      <td></td>\n      <td>2017-04-04 08:44:59+00:00</td>\n      <td>08:44:59</td>\n      <td>20170404</td>\n      <td>08:40:00</td>\n    </tr>\n    <tr>\n      <th>319199</th>\n      <td>стартуем! свежие посты, аналитика, интересные ...</td>\n      <td>2017-04-03 10:07:28+00:00</td>\n      <td>10:07:28</td>\n      <td>20170403</td>\n      <td>10:00:00</td>\n    </tr>\n    <tr>\n      <th>319200</th>\n      <td>NaN</td>\n      <td>2017-04-03 10:03:13+00:00</td>\n      <td>10:03:13</td>\n      <td>20170403</td>\n      <td>10:00:00</td>\n    </tr>\n    <tr>\n      <th>319201</th>\n      <td>NaN</td>\n      <td>2017-04-03 10:03:07+00:00</td>\n      <td>10:03:07</td>\n      <td>20170403</td>\n      <td>10:00:00</td>\n    </tr>\n  </tbody>\n</table>\n<p>319202 rows × 5 columns</p>\n</div>"
     },
     "execution_count": 11,
     "metadata": {},
     "output_type": "execute_result"
    }
   ],
   "source": [
    "df_1"
   ],
   "metadata": {
    "collapsed": false,
    "pycharm": {
     "name": "#%%\n"
    }
   }
  },
  {
   "cell_type": "code",
   "execution_count": 10,
   "metadata": {},
   "outputs": [
    {
     "name": "stderr",
     "output_type": "stream",
     "text": [
      "/Users/dariagerasimenko/.conda/envs/Downloads/lib/python3.6/site-packages/ipykernel_launcher.py:1: SettingWithCopyWarning: \n",
      "A value is trying to be set on a copy of a slice from a DataFrame.\n",
      "Try using .loc[row_indexer,col_indexer] = value instead\n",
      "\n",
      "See the caveats in the documentation: http://pandas.pydata.org/pandas-docs/stable/user_guide/indexing.html#returning-a-view-versus-a-copy\n",
      "  \"\"\"Entry point for launching an IPython kernel.\n"
     ]
    }
   ],
   "source": [
    "df_1['YNDX'] = df_1.message.apply(lambda x: 'YNDX' if 'yndx' in str(x) or 'яндекс' in str(x) or \n",
    "                                  'yandex' in str(x) else '')"
   ]
  },
  {
   "cell_type": "code",
   "execution_count": 11,
   "metadata": {},
   "outputs": [
    {
     "name": "stderr",
     "output_type": "stream",
     "text": [
      "/Users/dariagerasimenko/.conda/envs/Downloads/lib/python3.6/site-packages/ipykernel_launcher.py:1: SettingWithCopyWarning: \n",
      "A value is trying to be set on a copy of a slice from a DataFrame.\n",
      "Try using .loc[row_indexer,col_indexer] = value instead\n",
      "\n",
      "See the caveats in the documentation: http://pandas.pydata.org/pandas-docs/stable/user_guide/indexing.html#returning-a-view-versus-a-copy\n",
      "  \"\"\"Entry point for launching an IPython kernel.\n"
     ]
    }
   ],
   "source": [
    "df_1['SBER'] = df_1.message.apply(lambda x: 'SBER' if 'sber' in str(x) or 'сбер' in str(x) else '')"
   ]
  },
  {
   "cell_type": "code",
   "execution_count": 12,
   "metadata": {},
   "outputs": [
    {
     "name": "stderr",
     "output_type": "stream",
     "text": [
      "/Users/dariagerasimenko/.conda/envs/Downloads/lib/python3.6/site-packages/ipykernel_launcher.py:1: SettingWithCopyWarning: \n",
      "A value is trying to be set on a copy of a slice from a DataFrame.\n",
      "Try using .loc[row_indexer,col_indexer] = value instead\n",
      "\n",
      "See the caveats in the documentation: http://pandas.pydata.org/pandas-docs/stable/user_guide/indexing.html#returning-a-view-versus-a-copy\n",
      "  \"\"\"Entry point for launching an IPython kernel.\n"
     ]
    }
   ],
   "source": [
    "df_1['GAZP'] = df_1.message.apply(lambda x: 'GAZP' if 'gazp' in str(x) or 'газп' in str(x) else '')"
   ]
  },
  {
   "cell_type": "code",
   "execution_count": 13,
   "metadata": {},
   "outputs": [
    {
     "name": "stderr",
     "output_type": "stream",
     "text": [
      "/Users/dariagerasimenko/.conda/envs/Downloads/lib/python3.6/site-packages/ipykernel_launcher.py:1: SettingWithCopyWarning: \n",
      "A value is trying to be set on a copy of a slice from a DataFrame.\n",
      "Try using .loc[row_indexer,col_indexer] = value instead\n",
      "\n",
      "See the caveats in the documentation: http://pandas.pydata.org/pandas-docs/stable/user_guide/indexing.html#returning-a-view-versus-a-copy\n",
      "  \"\"\"Entry point for launching an IPython kernel.\n"
     ]
    }
   ],
   "source": [
    "df_1['ROSN'] = df_1.message.apply(lambda x: 'ROSN' if 'rosn' in str(x) or 'росн' in str(x) else '')"
   ]
  },
  {
   "cell_type": "code",
   "execution_count": 14,
   "metadata": {},
   "outputs": [
    {
     "name": "stderr",
     "output_type": "stream",
     "text": [
      "/Users/dariagerasimenko/.conda/envs/Downloads/lib/python3.6/site-packages/ipykernel_launcher.py:1: SettingWithCopyWarning: \n",
      "A value is trying to be set on a copy of a slice from a DataFrame.\n",
      "Try using .loc[row_indexer,col_indexer] = value instead\n",
      "\n",
      "See the caveats in the documentation: http://pandas.pydata.org/pandas-docs/stable/user_guide/indexing.html#returning-a-view-versus-a-copy\n",
      "  \"\"\"Entry point for launching an IPython kernel.\n"
     ]
    }
   ],
   "source": [
    "df_1['VTBR'] = df_1.message.apply(lambda x: 'VTBR' if 'vtb' in str(x) or 'втб' in str(x) else '')"
   ]
  },
  {
   "cell_type": "code",
   "execution_count": 15,
   "metadata": {},
   "outputs": [
    {
     "data": {
      "text/plain": "       <TICKER>  <PER>    <DATE>    <TIME>      <OPEN>      <HIGH>  \\\n0          SBER     10  20180103  10:10:00  226.880000  230.000000   \n1          SBER     10  20180103  10:20:00  227.010000  227.290000   \n2          SBER     10  20180103  10:30:00  227.010000  227.140000   \n3          SBER     10  20180103  10:40:00  227.040000  228.730000   \n4          SBER     10  20180103  10:50:00  228.700000  229.100000   \n...         ...    ...       ...       ...         ...         ...   \n326112     VTBR     10  20211230  23:10:00    0.048350    0.048350   \n326113     VTBR     10  20211230  23:20:00    0.048315    0.048315   \n326114     VTBR     10  20211230  23:30:00    0.048300    0.048310   \n326115     VTBR     10  20211230  23:40:00    0.048290    0.048300   \n326116     VTBR     10  20211230  23:50:00    0.048300    0.048300   \n\n             <LOW>     <CLOSE>      <VOL>  \n0       226.350000  226.930000    1771920  \n1       226.710000  227.060000     802790  \n2       226.910000  227.000000     492810  \n3       227.000000  228.640000     977310  \n4       228.270000  228.330000     808090  \n...            ...         ...        ...  \n326112    0.048270    0.048300  190580000  \n326113    0.048255    0.048300  135680000  \n326114    0.048255    0.048290   78810000  \n326115    0.048250    0.048300   97650000  \n326116    0.048190    0.048195  347400000  \n\n[326117 rows x 9 columns]",
      "text/html": "<div>\n<style scoped>\n    .dataframe tbody tr th:only-of-type {\n        vertical-align: middle;\n    }\n\n    .dataframe tbody tr th {\n        vertical-align: top;\n    }\n\n    .dataframe thead th {\n        text-align: right;\n    }\n</style>\n<table border=\"1\" class=\"dataframe\">\n  <thead>\n    <tr style=\"text-align: right;\">\n      <th></th>\n      <th>&lt;TICKER&gt;</th>\n      <th>&lt;PER&gt;</th>\n      <th>&lt;DATE&gt;</th>\n      <th>&lt;TIME&gt;</th>\n      <th>&lt;OPEN&gt;</th>\n      <th>&lt;HIGH&gt;</th>\n      <th>&lt;LOW&gt;</th>\n      <th>&lt;CLOSE&gt;</th>\n      <th>&lt;VOL&gt;</th>\n    </tr>\n  </thead>\n  <tbody>\n    <tr>\n      <th>0</th>\n      <td>SBER</td>\n      <td>10</td>\n      <td>20180103</td>\n      <td>10:10:00</td>\n      <td>226.880000</td>\n      <td>230.000000</td>\n      <td>226.350000</td>\n      <td>226.930000</td>\n      <td>1771920</td>\n    </tr>\n    <tr>\n      <th>1</th>\n      <td>SBER</td>\n      <td>10</td>\n      <td>20180103</td>\n      <td>10:20:00</td>\n      <td>227.010000</td>\n      <td>227.290000</td>\n      <td>226.710000</td>\n      <td>227.060000</td>\n      <td>802790</td>\n    </tr>\n    <tr>\n      <th>2</th>\n      <td>SBER</td>\n      <td>10</td>\n      <td>20180103</td>\n      <td>10:30:00</td>\n      <td>227.010000</td>\n      <td>227.140000</td>\n      <td>226.910000</td>\n      <td>227.000000</td>\n      <td>492810</td>\n    </tr>\n    <tr>\n      <th>3</th>\n      <td>SBER</td>\n      <td>10</td>\n      <td>20180103</td>\n      <td>10:40:00</td>\n      <td>227.040000</td>\n      <td>228.730000</td>\n      <td>227.000000</td>\n      <td>228.640000</td>\n      <td>977310</td>\n    </tr>\n    <tr>\n      <th>4</th>\n      <td>SBER</td>\n      <td>10</td>\n      <td>20180103</td>\n      <td>10:50:00</td>\n      <td>228.700000</td>\n      <td>229.100000</td>\n      <td>228.270000</td>\n      <td>228.330000</td>\n      <td>808090</td>\n    </tr>\n    <tr>\n      <th>...</th>\n      <td>...</td>\n      <td>...</td>\n      <td>...</td>\n      <td>...</td>\n      <td>...</td>\n      <td>...</td>\n      <td>...</td>\n      <td>...</td>\n      <td>...</td>\n    </tr>\n    <tr>\n      <th>326112</th>\n      <td>VTBR</td>\n      <td>10</td>\n      <td>20211230</td>\n      <td>23:10:00</td>\n      <td>0.048350</td>\n      <td>0.048350</td>\n      <td>0.048270</td>\n      <td>0.048300</td>\n      <td>190580000</td>\n    </tr>\n    <tr>\n      <th>326113</th>\n      <td>VTBR</td>\n      <td>10</td>\n      <td>20211230</td>\n      <td>23:20:00</td>\n      <td>0.048315</td>\n      <td>0.048315</td>\n      <td>0.048255</td>\n      <td>0.048300</td>\n      <td>135680000</td>\n    </tr>\n    <tr>\n      <th>326114</th>\n      <td>VTBR</td>\n      <td>10</td>\n      <td>20211230</td>\n      <td>23:30:00</td>\n      <td>0.048300</td>\n      <td>0.048310</td>\n      <td>0.048255</td>\n      <td>0.048290</td>\n      <td>78810000</td>\n    </tr>\n    <tr>\n      <th>326115</th>\n      <td>VTBR</td>\n      <td>10</td>\n      <td>20211230</td>\n      <td>23:40:00</td>\n      <td>0.048290</td>\n      <td>0.048300</td>\n      <td>0.048250</td>\n      <td>0.048300</td>\n      <td>97650000</td>\n    </tr>\n    <tr>\n      <th>326116</th>\n      <td>VTBR</td>\n      <td>10</td>\n      <td>20211230</td>\n      <td>23:50:00</td>\n      <td>0.048300</td>\n      <td>0.048300</td>\n      <td>0.048190</td>\n      <td>0.048195</td>\n      <td>347400000</td>\n    </tr>\n  </tbody>\n</table>\n<p>326117 rows × 9 columns</p>\n</div>"
     },
     "execution_count": 15,
     "metadata": {},
     "output_type": "execute_result"
    }
   ],
   "source": [
    "df"
   ]
  },
  {
   "cell_type": "code",
   "execution_count": 16,
   "metadata": {},
   "outputs": [],
   "source": [
    "df['date'] = pd.to_datetime(df['<DATE>'].apply(lambda x: f'{str(x)[:4]}-{str(x)[4:6]}-{str(x)[6:]}'))"
   ]
  },
  {
   "cell_type": "code",
   "execution_count": 17,
   "metadata": {},
   "outputs": [
    {
     "data": {
      "text/plain": "                                                  message  \\\n0       🏁 итоги дня, 07.12\\n\\n🇷🇺 президент рф ждет от ...   \n1                                                           \n2                                                           \n3                                                           \n4       в этом году мы добавили столько новых функций,...   \n...                                                   ...   \n319197  в инстаграм вышла новая статья и правильном от...   \n319198                                                      \n319199  стартуем! свежие посты, аналитика, интересные ...   \n319200                                                NaN   \n319201                                                NaN   \n\n                            date      time    <DATE>    <TIME> YNDX SBER GAZP  \\\n0      2021-12-07 17:43:21+00:00  17:43:21  20211207  17:40:00                  \n1      2021-12-07 15:42:17+00:00  15:42:17  20211207  15:40:00                  \n2      2021-12-07 15:42:17+00:00  15:42:17  20211207  15:40:00                  \n3      2021-12-07 15:42:16+00:00  15:42:16  20211207  15:40:00                  \n4      2021-12-07 15:42:16+00:00  15:42:16  20211207  15:40:00                  \n...                          ...       ...       ...       ...  ...  ...  ...   \n319197 2017-04-04 08:45:03+00:00  08:45:03  20170404  08:40:00                  \n319198 2017-04-04 08:44:59+00:00  08:44:59  20170404  08:40:00                  \n319199 2017-04-03 10:07:28+00:00  10:07:28  20170403  10:00:00                  \n319200 2017-04-03 10:03:13+00:00  10:03:13  20170403  10:00:00                  \n319201 2017-04-03 10:03:07+00:00  10:03:07  20170403  10:00:00                  \n\n        ROSN VTBR  \n0       ROSN       \n1                  \n2                  \n3                  \n4                  \n...      ...  ...  \n319197             \n319198             \n319199             \n319200             \n319201             \n\n[319202 rows x 10 columns]",
      "text/html": "<div>\n<style scoped>\n    .dataframe tbody tr th:only-of-type {\n        vertical-align: middle;\n    }\n\n    .dataframe tbody tr th {\n        vertical-align: top;\n    }\n\n    .dataframe thead th {\n        text-align: right;\n    }\n</style>\n<table border=\"1\" class=\"dataframe\">\n  <thead>\n    <tr style=\"text-align: right;\">\n      <th></th>\n      <th>message</th>\n      <th>date</th>\n      <th>time</th>\n      <th>&lt;DATE&gt;</th>\n      <th>&lt;TIME&gt;</th>\n      <th>YNDX</th>\n      <th>SBER</th>\n      <th>GAZP</th>\n      <th>ROSN</th>\n      <th>VTBR</th>\n    </tr>\n  </thead>\n  <tbody>\n    <tr>\n      <th>0</th>\n      <td>🏁 итоги дня, 07.12\\n\\n🇷🇺 президент рф ждет от ...</td>\n      <td>2021-12-07 17:43:21+00:00</td>\n      <td>17:43:21</td>\n      <td>20211207</td>\n      <td>17:40:00</td>\n      <td></td>\n      <td></td>\n      <td></td>\n      <td>ROSN</td>\n      <td></td>\n    </tr>\n    <tr>\n      <th>1</th>\n      <td></td>\n      <td>2021-12-07 15:42:17+00:00</td>\n      <td>15:42:17</td>\n      <td>20211207</td>\n      <td>15:40:00</td>\n      <td></td>\n      <td></td>\n      <td></td>\n      <td></td>\n      <td></td>\n    </tr>\n    <tr>\n      <th>2</th>\n      <td></td>\n      <td>2021-12-07 15:42:17+00:00</td>\n      <td>15:42:17</td>\n      <td>20211207</td>\n      <td>15:40:00</td>\n      <td></td>\n      <td></td>\n      <td></td>\n      <td></td>\n      <td></td>\n    </tr>\n    <tr>\n      <th>3</th>\n      <td></td>\n      <td>2021-12-07 15:42:16+00:00</td>\n      <td>15:42:16</td>\n      <td>20211207</td>\n      <td>15:40:00</td>\n      <td></td>\n      <td></td>\n      <td></td>\n      <td></td>\n      <td></td>\n    </tr>\n    <tr>\n      <th>4</th>\n      <td>в этом году мы добавили столько новых функций,...</td>\n      <td>2021-12-07 15:42:16+00:00</td>\n      <td>15:42:16</td>\n      <td>20211207</td>\n      <td>15:40:00</td>\n      <td></td>\n      <td></td>\n      <td></td>\n      <td></td>\n      <td></td>\n    </tr>\n    <tr>\n      <th>...</th>\n      <td>...</td>\n      <td>...</td>\n      <td>...</td>\n      <td>...</td>\n      <td>...</td>\n      <td>...</td>\n      <td>...</td>\n      <td>...</td>\n      <td>...</td>\n      <td>...</td>\n    </tr>\n    <tr>\n      <th>319197</th>\n      <td>в инстаграм вышла новая статья и правильном от...</td>\n      <td>2017-04-04 08:45:03+00:00</td>\n      <td>08:45:03</td>\n      <td>20170404</td>\n      <td>08:40:00</td>\n      <td></td>\n      <td></td>\n      <td></td>\n      <td></td>\n      <td></td>\n    </tr>\n    <tr>\n      <th>319198</th>\n      <td></td>\n      <td>2017-04-04 08:44:59+00:00</td>\n      <td>08:44:59</td>\n      <td>20170404</td>\n      <td>08:40:00</td>\n      <td></td>\n      <td></td>\n      <td></td>\n      <td></td>\n      <td></td>\n    </tr>\n    <tr>\n      <th>319199</th>\n      <td>стартуем! свежие посты, аналитика, интересные ...</td>\n      <td>2017-04-03 10:07:28+00:00</td>\n      <td>10:07:28</td>\n      <td>20170403</td>\n      <td>10:00:00</td>\n      <td></td>\n      <td></td>\n      <td></td>\n      <td></td>\n      <td></td>\n    </tr>\n    <tr>\n      <th>319200</th>\n      <td>NaN</td>\n      <td>2017-04-03 10:03:13+00:00</td>\n      <td>10:03:13</td>\n      <td>20170403</td>\n      <td>10:00:00</td>\n      <td></td>\n      <td></td>\n      <td></td>\n      <td></td>\n      <td></td>\n    </tr>\n    <tr>\n      <th>319201</th>\n      <td>NaN</td>\n      <td>2017-04-03 10:03:07+00:00</td>\n      <td>10:03:07</td>\n      <td>20170403</td>\n      <td>10:00:00</td>\n      <td></td>\n      <td></td>\n      <td></td>\n      <td></td>\n      <td></td>\n    </tr>\n  </tbody>\n</table>\n<p>319202 rows × 10 columns</p>\n</div>"
     },
     "execution_count": 17,
     "metadata": {},
     "output_type": "execute_result"
    }
   ],
   "source": [
    "df_1"
   ]
  },
  {
   "cell_type": "code",
   "execution_count": 18,
   "outputs": [
    {
     "data": {
      "text/plain": "'2021-12-07 '"
     },
     "execution_count": 18,
     "metadata": {},
     "output_type": "execute_result"
    }
   ],
   "source": [
    "x = '2021-12-07 06:40:32+00:00'\n",
    "x[:-14]"
   ],
   "metadata": {
    "collapsed": false,
    "pycharm": {
     "name": "#%%\n"
    }
   }
  },
  {
   "cell_type": "code",
   "execution_count": 19,
   "outputs": [
    {
     "name": "stderr",
     "output_type": "stream",
     "text": [
      "/Users/dariagerasimenko/.conda/envs/Downloads/lib/python3.6/site-packages/ipykernel_launcher.py:1: SettingWithCopyWarning: \n",
      "A value is trying to be set on a copy of a slice from a DataFrame.\n",
      "Try using .loc[row_indexer,col_indexer] = value instead\n",
      "\n",
      "See the caveats in the documentation: http://pandas.pydata.org/pandas-docs/stable/user_guide/indexing.html#returning-a-view-versus-a-copy\n",
      "  \"\"\"Entry point for launching an IPython kernel.\n"
     ]
    }
   ],
   "source": [
    "df_1['date'] = df_1['date'].apply(lambda x: str(x)[:-14])+df_1['<TIME>']"
   ],
   "metadata": {
    "collapsed": false,
    "pycharm": {
     "name": "#%%\n"
    }
   }
  },
  {
   "cell_type": "code",
   "execution_count": 21,
   "outputs": [],
   "source": [
    "df['date'] = df['<DATE>'].apply(lambda x: f'{str(x)[:4]}-{str(x)[4:6]}-{str(x)[6:]}')"
   ],
   "metadata": {
    "collapsed": false,
    "pycharm": {
     "name": "#%%\n"
    }
   }
  },
  {
   "cell_type": "code",
   "execution_count": 22,
   "outputs": [],
   "source": [
    "df['date'] = df['date'].apply(lambda x: str(x)) + ' ' + df['<TIME>'].apply(lambda x: str(x))"
   ],
   "metadata": {
    "collapsed": false,
    "pycharm": {
     "name": "#%%\n"
    }
   }
  },
  {
   "cell_type": "code",
   "execution_count": 23,
   "outputs": [],
   "source": [
    "df['date'] = pd.to_datetime(df['date'])"
   ],
   "metadata": {
    "collapsed": false,
    "pycharm": {
     "name": "#%%\n"
    }
   }
  },
  {
   "cell_type": "code",
   "execution_count": 24,
   "outputs": [
    {
     "name": "stderr",
     "output_type": "stream",
     "text": [
      "/Users/dariagerasimenko/.conda/envs/Downloads/lib/python3.6/site-packages/ipykernel_launcher.py:1: SettingWithCopyWarning: \n",
      "A value is trying to be set on a copy of a slice from a DataFrame.\n",
      "Try using .loc[row_indexer,col_indexer] = value instead\n",
      "\n",
      "See the caveats in the documentation: http://pandas.pydata.org/pandas-docs/stable/user_guide/indexing.html#returning-a-view-versus-a-copy\n",
      "  \"\"\"Entry point for launching an IPython kernel.\n"
     ]
    }
   ],
   "source": [
    "df_1['date'] = pd.to_datetime(df_1['date'])"
   ],
   "metadata": {
    "collapsed": false,
    "pycharm": {
     "name": "#%%\n"
    }
   }
  },
  {
   "cell_type": "code",
   "execution_count": 50,
   "outputs": [
    {
     "name": "stderr",
     "output_type": "stream",
     "text": [
      "/Users/dariagerasimenko/.conda/envs/Downloads/lib/python3.6/site-packages/ipykernel_launcher.py:1: SettingWithCopyWarning: \n",
      "A value is trying to be set on a copy of a slice from a DataFrame.\n",
      "Try using .loc[row_indexer,col_indexer] = value instead\n",
      "\n",
      "See the caveats in the documentation: http://pandas.pydata.org/pandas-docs/stable/user_guide/indexing.html#returning-a-view-versus-a-copy\n",
      "  \"\"\"Entry point for launching an IPython kernel.\n",
      "/Users/dariagerasimenko/.conda/envs/Downloads/lib/python3.6/site-packages/ipykernel_launcher.py:2: SettingWithCopyWarning: \n",
      "A value is trying to be set on a copy of a slice from a DataFrame.\n",
      "Try using .loc[row_indexer,col_indexer] = value instead\n",
      "\n",
      "See the caveats in the documentation: http://pandas.pydata.org/pandas-docs/stable/user_guide/indexing.html#returning-a-view-versus-a-copy\n",
      "  \n"
     ]
    }
   ],
   "source": [
    "df_1['comb'] = df_1['YNDX']+' '+df_1['SBER']+ ' '+df_1['GAZP']+' '+df_1['ROSN']+' '+df_1['VTBR']\n",
    "df_1['comp'] = df_1['comb'].apply(lambda x: list(x.split()))"
   ],
   "metadata": {
    "collapsed": false,
    "pycharm": {
     "name": "#%%\n"
    }
   }
  },
  {
   "cell_type": "code",
   "execution_count": 51,
   "outputs": [
    {
     "data": {
      "text/plain": "                                                  message                date  \\\n0       🏁 итоги дня, 07.12\\n\\n🇷🇺 президент рф ждет от ... 2021-12-07 17:40:00   \n1                                                         2021-12-07 15:40:00   \n2                                                         2021-12-07 15:40:00   \n3                                                         2021-12-07 15:40:00   \n4       в этом году мы добавили столько новых функций,... 2021-12-07 15:40:00   \n...                                                   ...                 ...   \n319197  в инстаграм вышла новая статья и правильном от... 2017-04-04 08:40:00   \n319198                                                    2017-04-04 08:40:00   \n319199  стартуем! свежие посты, аналитика, интересные ... 2017-04-03 10:00:00   \n319200                                                NaN 2017-04-03 10:00:00   \n319201                                                NaN 2017-04-03 10:00:00   \n\n            time    <DATE>    <TIME> YNDX SBER GAZP  ROSN VTBR      comb  \\\n0       17:43:21  20211207  17:40:00                 ROSN          ROSN    \n1       15:42:17  20211207  15:40:00                                       \n2       15:42:17  20211207  15:40:00                                       \n3       15:42:16  20211207  15:40:00                                       \n4       15:42:16  20211207  15:40:00                                       \n...          ...       ...       ...  ...  ...  ...   ...  ...       ...   \n319197  08:45:03  20170404  08:40:00                                       \n319198  08:44:59  20170404  08:40:00                                       \n319199  10:07:28  20170403  10:00:00                                       \n319200  10:03:13  20170403  10:00:00                                       \n319201  10:03:07  20170403  10:00:00                                       \n\n          comp  \n0       [ROSN]  \n1           []  \n2           []  \n3           []  \n4           []  \n...        ...  \n319197      []  \n319198      []  \n319199      []  \n319200      []  \n319201      []  \n\n[319202 rows x 12 columns]",
      "text/html": "<div>\n<style scoped>\n    .dataframe tbody tr th:only-of-type {\n        vertical-align: middle;\n    }\n\n    .dataframe tbody tr th {\n        vertical-align: top;\n    }\n\n    .dataframe thead th {\n        text-align: right;\n    }\n</style>\n<table border=\"1\" class=\"dataframe\">\n  <thead>\n    <tr style=\"text-align: right;\">\n      <th></th>\n      <th>message</th>\n      <th>date</th>\n      <th>time</th>\n      <th>&lt;DATE&gt;</th>\n      <th>&lt;TIME&gt;</th>\n      <th>YNDX</th>\n      <th>SBER</th>\n      <th>GAZP</th>\n      <th>ROSN</th>\n      <th>VTBR</th>\n      <th>comb</th>\n      <th>comp</th>\n    </tr>\n  </thead>\n  <tbody>\n    <tr>\n      <th>0</th>\n      <td>🏁 итоги дня, 07.12\\n\\n🇷🇺 президент рф ждет от ...</td>\n      <td>2021-12-07 17:40:00</td>\n      <td>17:43:21</td>\n      <td>20211207</td>\n      <td>17:40:00</td>\n      <td></td>\n      <td></td>\n      <td></td>\n      <td>ROSN</td>\n      <td></td>\n      <td>ROSN</td>\n      <td>[ROSN]</td>\n    </tr>\n    <tr>\n      <th>1</th>\n      <td></td>\n      <td>2021-12-07 15:40:00</td>\n      <td>15:42:17</td>\n      <td>20211207</td>\n      <td>15:40:00</td>\n      <td></td>\n      <td></td>\n      <td></td>\n      <td></td>\n      <td></td>\n      <td></td>\n      <td>[]</td>\n    </tr>\n    <tr>\n      <th>2</th>\n      <td></td>\n      <td>2021-12-07 15:40:00</td>\n      <td>15:42:17</td>\n      <td>20211207</td>\n      <td>15:40:00</td>\n      <td></td>\n      <td></td>\n      <td></td>\n      <td></td>\n      <td></td>\n      <td></td>\n      <td>[]</td>\n    </tr>\n    <tr>\n      <th>3</th>\n      <td></td>\n      <td>2021-12-07 15:40:00</td>\n      <td>15:42:16</td>\n      <td>20211207</td>\n      <td>15:40:00</td>\n      <td></td>\n      <td></td>\n      <td></td>\n      <td></td>\n      <td></td>\n      <td></td>\n      <td>[]</td>\n    </tr>\n    <tr>\n      <th>4</th>\n      <td>в этом году мы добавили столько новых функций,...</td>\n      <td>2021-12-07 15:40:00</td>\n      <td>15:42:16</td>\n      <td>20211207</td>\n      <td>15:40:00</td>\n      <td></td>\n      <td></td>\n      <td></td>\n      <td></td>\n      <td></td>\n      <td></td>\n      <td>[]</td>\n    </tr>\n    <tr>\n      <th>...</th>\n      <td>...</td>\n      <td>...</td>\n      <td>...</td>\n      <td>...</td>\n      <td>...</td>\n      <td>...</td>\n      <td>...</td>\n      <td>...</td>\n      <td>...</td>\n      <td>...</td>\n      <td>...</td>\n      <td>...</td>\n    </tr>\n    <tr>\n      <th>319197</th>\n      <td>в инстаграм вышла новая статья и правильном от...</td>\n      <td>2017-04-04 08:40:00</td>\n      <td>08:45:03</td>\n      <td>20170404</td>\n      <td>08:40:00</td>\n      <td></td>\n      <td></td>\n      <td></td>\n      <td></td>\n      <td></td>\n      <td></td>\n      <td>[]</td>\n    </tr>\n    <tr>\n      <th>319198</th>\n      <td></td>\n      <td>2017-04-04 08:40:00</td>\n      <td>08:44:59</td>\n      <td>20170404</td>\n      <td>08:40:00</td>\n      <td></td>\n      <td></td>\n      <td></td>\n      <td></td>\n      <td></td>\n      <td></td>\n      <td>[]</td>\n    </tr>\n    <tr>\n      <th>319199</th>\n      <td>стартуем! свежие посты, аналитика, интересные ...</td>\n      <td>2017-04-03 10:00:00</td>\n      <td>10:07:28</td>\n      <td>20170403</td>\n      <td>10:00:00</td>\n      <td></td>\n      <td></td>\n      <td></td>\n      <td></td>\n      <td></td>\n      <td></td>\n      <td>[]</td>\n    </tr>\n    <tr>\n      <th>319200</th>\n      <td>NaN</td>\n      <td>2017-04-03 10:00:00</td>\n      <td>10:03:13</td>\n      <td>20170403</td>\n      <td>10:00:00</td>\n      <td></td>\n      <td></td>\n      <td></td>\n      <td></td>\n      <td></td>\n      <td></td>\n      <td>[]</td>\n    </tr>\n    <tr>\n      <th>319201</th>\n      <td>NaN</td>\n      <td>2017-04-03 10:00:00</td>\n      <td>10:03:07</td>\n      <td>20170403</td>\n      <td>10:00:00</td>\n      <td></td>\n      <td></td>\n      <td></td>\n      <td></td>\n      <td></td>\n      <td></td>\n      <td>[]</td>\n    </tr>\n  </tbody>\n</table>\n<p>319202 rows × 12 columns</p>\n</div>"
     },
     "execution_count": 51,
     "metadata": {},
     "output_type": "execute_result"
    }
   ],
   "source": [
    "df_1"
   ],
   "metadata": {
    "collapsed": false,
    "pycharm": {
     "name": "#%%\n"
    }
   }
  },
  {
   "cell_type": "code",
   "execution_count": null,
   "outputs": [],
   "source": [],
   "metadata": {
    "collapsed": false,
    "pycharm": {
     "name": "#%%\n"
    }
   }
  },
  {
   "cell_type": "code",
   "execution_count": 54,
   "outputs": [],
   "source": [
    "result = pd.merge(df[['<TICKER>','<OPEN>', '<HIGH>', '<LOW>', '<CLOSE>', '<VOL>', 'date']],\n",
    "                  df_1[['message', 'date', 'comp']], on=['date'], how = 'left') #where TICKER in company"
   ],
   "metadata": {
    "collapsed": false,
    "pycharm": {
     "name": "#%%\n"
    }
   }
  },
  {
   "cell_type": "code",
   "execution_count": 55,
   "outputs": [
    {
     "data": {
      "text/plain": "       <TICKER>      <OPEN>      <HIGH>       <LOW>     <CLOSE>      <VOL>  \\\n0          SBER  226.880000  230.000000  226.350000  226.930000    1771920   \n1          SBER  227.010000  227.290000  226.710000  227.060000     802790   \n2          SBER  227.010000  227.140000  226.910000  227.000000     492810   \n3          SBER  227.010000  227.140000  226.910000  227.000000     492810   \n4          SBER  227.010000  227.140000  226.910000  227.000000     492810   \n...         ...         ...         ...         ...         ...        ...   \n853864     VTBR    0.048350    0.048350    0.048270    0.048300  190580000   \n853865     VTBR    0.048315    0.048315    0.048255    0.048300  135680000   \n853866     VTBR    0.048300    0.048310    0.048255    0.048290   78810000   \n853867     VTBR    0.048290    0.048300    0.048250    0.048300   97650000   \n853868     VTBR    0.048300    0.048300    0.048190    0.048195  347400000   \n\n                      date                                            message  \\\n0      2018-01-03 10:10:00                                                NaN   \n1      2018-01-03 10:20:00                                                NaN   \n2      2018-01-03 10:30:00  политика, православие, нефть, алмазы… межпромб...   \n3      2018-01-03 10:30:00  а это шикарная старая статья-калькулятор, кото...   \n4      2018-01-03 10:30:00                                                      \n...                    ...                                                ...   \n853864 2021-12-30 23:10:00                                                NaN   \n853865 2021-12-30 23:20:00                                                NaN   \n853866 2021-12-30 23:30:00                                                NaN   \n853867 2021-12-30 23:40:00                                                NaN   \n853868 2021-12-30 23:50:00                                                NaN   \n\n       comp  \n0       NaN  \n1       NaN  \n2        []  \n3        []  \n4        []  \n...     ...  \n853864  NaN  \n853865  NaN  \n853866  NaN  \n853867  NaN  \n853868  NaN  \n\n[853869 rows x 9 columns]",
      "text/html": "<div>\n<style scoped>\n    .dataframe tbody tr th:only-of-type {\n        vertical-align: middle;\n    }\n\n    .dataframe tbody tr th {\n        vertical-align: top;\n    }\n\n    .dataframe thead th {\n        text-align: right;\n    }\n</style>\n<table border=\"1\" class=\"dataframe\">\n  <thead>\n    <tr style=\"text-align: right;\">\n      <th></th>\n      <th>&lt;TICKER&gt;</th>\n      <th>&lt;OPEN&gt;</th>\n      <th>&lt;HIGH&gt;</th>\n      <th>&lt;LOW&gt;</th>\n      <th>&lt;CLOSE&gt;</th>\n      <th>&lt;VOL&gt;</th>\n      <th>date</th>\n      <th>message</th>\n      <th>comp</th>\n    </tr>\n  </thead>\n  <tbody>\n    <tr>\n      <th>0</th>\n      <td>SBER</td>\n      <td>226.880000</td>\n      <td>230.000000</td>\n      <td>226.350000</td>\n      <td>226.930000</td>\n      <td>1771920</td>\n      <td>2018-01-03 10:10:00</td>\n      <td>NaN</td>\n      <td>NaN</td>\n    </tr>\n    <tr>\n      <th>1</th>\n      <td>SBER</td>\n      <td>227.010000</td>\n      <td>227.290000</td>\n      <td>226.710000</td>\n      <td>227.060000</td>\n      <td>802790</td>\n      <td>2018-01-03 10:20:00</td>\n      <td>NaN</td>\n      <td>NaN</td>\n    </tr>\n    <tr>\n      <th>2</th>\n      <td>SBER</td>\n      <td>227.010000</td>\n      <td>227.140000</td>\n      <td>226.910000</td>\n      <td>227.000000</td>\n      <td>492810</td>\n      <td>2018-01-03 10:30:00</td>\n      <td>политика, православие, нефть, алмазы… межпромб...</td>\n      <td>[]</td>\n    </tr>\n    <tr>\n      <th>3</th>\n      <td>SBER</td>\n      <td>227.010000</td>\n      <td>227.140000</td>\n      <td>226.910000</td>\n      <td>227.000000</td>\n      <td>492810</td>\n      <td>2018-01-03 10:30:00</td>\n      <td>а это шикарная старая статья-калькулятор, кото...</td>\n      <td>[]</td>\n    </tr>\n    <tr>\n      <th>4</th>\n      <td>SBER</td>\n      <td>227.010000</td>\n      <td>227.140000</td>\n      <td>226.910000</td>\n      <td>227.000000</td>\n      <td>492810</td>\n      <td>2018-01-03 10:30:00</td>\n      <td></td>\n      <td>[]</td>\n    </tr>\n    <tr>\n      <th>...</th>\n      <td>...</td>\n      <td>...</td>\n      <td>...</td>\n      <td>...</td>\n      <td>...</td>\n      <td>...</td>\n      <td>...</td>\n      <td>...</td>\n      <td>...</td>\n    </tr>\n    <tr>\n      <th>853864</th>\n      <td>VTBR</td>\n      <td>0.048350</td>\n      <td>0.048350</td>\n      <td>0.048270</td>\n      <td>0.048300</td>\n      <td>190580000</td>\n      <td>2021-12-30 23:10:00</td>\n      <td>NaN</td>\n      <td>NaN</td>\n    </tr>\n    <tr>\n      <th>853865</th>\n      <td>VTBR</td>\n      <td>0.048315</td>\n      <td>0.048315</td>\n      <td>0.048255</td>\n      <td>0.048300</td>\n      <td>135680000</td>\n      <td>2021-12-30 23:20:00</td>\n      <td>NaN</td>\n      <td>NaN</td>\n    </tr>\n    <tr>\n      <th>853866</th>\n      <td>VTBR</td>\n      <td>0.048300</td>\n      <td>0.048310</td>\n      <td>0.048255</td>\n      <td>0.048290</td>\n      <td>78810000</td>\n      <td>2021-12-30 23:30:00</td>\n      <td>NaN</td>\n      <td>NaN</td>\n    </tr>\n    <tr>\n      <th>853867</th>\n      <td>VTBR</td>\n      <td>0.048290</td>\n      <td>0.048300</td>\n      <td>0.048250</td>\n      <td>0.048300</td>\n      <td>97650000</td>\n      <td>2021-12-30 23:40:00</td>\n      <td>NaN</td>\n      <td>NaN</td>\n    </tr>\n    <tr>\n      <th>853868</th>\n      <td>VTBR</td>\n      <td>0.048300</td>\n      <td>0.048300</td>\n      <td>0.048190</td>\n      <td>0.048195</td>\n      <td>347400000</td>\n      <td>2021-12-30 23:50:00</td>\n      <td>NaN</td>\n      <td>NaN</td>\n    </tr>\n  </tbody>\n</table>\n<p>853869 rows × 9 columns</p>\n</div>"
     },
     "execution_count": 55,
     "metadata": {},
     "output_type": "execute_result"
    }
   ],
   "source": [
    "result"
   ],
   "metadata": {
    "collapsed": false,
    "pycharm": {
     "name": "#%%\n"
    }
   }
  },
  {
   "cell_type": "markdown",
   "source": [
    "# Deeppavlov"
   ],
   "metadata": {
    "collapsed": false
   }
  },
  {
   "cell_type": "code",
   "execution_count": 23,
   "metadata": {},
   "outputs": [
    {
     "name": "stdout",
     "output_type": "stream",
     "text": [
      "Requirement already satisfied: deeppavlov in /Users/dariagerasimenko/.conda/envs/Downloads/lib/python3.6/site-packages (0.17.2)\r\n",
      "Requirement already satisfied: pytelegrambotapi==3.6.7 in /Users/dariagerasimenko/.conda/envs/Downloads/lib/python3.6/site-packages (from deeppavlov) (3.6.7)\r\n",
      "Requirement already satisfied: sacremoses==0.0.35 in /Users/dariagerasimenko/.conda/envs/Downloads/lib/python3.6/site-packages (from deeppavlov) (0.0.35)\r\n",
      "Requirement already satisfied: overrides==2.7.0 in /Users/dariagerasimenko/.conda/envs/Downloads/lib/python3.6/site-packages (from deeppavlov) (2.7.0)\r\n",
      "Requirement already satisfied: requests==2.22.0 in /Users/dariagerasimenko/.conda/envs/Downloads/lib/python3.6/site-packages (from deeppavlov) (2.22.0)\r\n",
      "Requirement already satisfied: pyopenssl==19.1.0 in /Users/dariagerasimenko/.conda/envs/Downloads/lib/python3.6/site-packages (from deeppavlov) (19.1.0)\r\n",
      "Requirement already satisfied: pytz==2019.1 in /Users/dariagerasimenko/.conda/envs/Downloads/lib/python3.6/site-packages (from deeppavlov) (2019.1)\r\n",
      "Requirement already satisfied: click==7.1.2 in /Users/dariagerasimenko/.conda/envs/Downloads/lib/python3.6/site-packages (from deeppavlov) (7.1.2)\r\n",
      "Requirement already satisfied: nltk==3.4.5 in /Users/dariagerasimenko/.conda/envs/Downloads/lib/python3.6/site-packages (from deeppavlov) (3.4.5)\r\n",
      "Requirement already satisfied: pymorphy2-dicts-ru in /Users/dariagerasimenko/.conda/envs/Downloads/lib/python3.6/site-packages (from deeppavlov) (2.4.417127.4579844)\r\n",
      "Requirement already satisfied: prometheus-client==0.7.1 in /Users/dariagerasimenko/.conda/envs/Downloads/lib/python3.6/site-packages (from deeppavlov) (0.7.1)\r\n",
      "Requirement already satisfied: numpy==1.18.0 in /Users/dariagerasimenko/.conda/envs/Downloads/lib/python3.6/site-packages (from deeppavlov) (1.18.0)\r\n",
      "Requirement already satisfied: aio-pika==6.4.1 in /Users/dariagerasimenko/.conda/envs/Downloads/lib/python3.6/site-packages (from deeppavlov) (6.4.1)\r\n",
      "Requirement already satisfied: pymorphy2==0.8 in /Users/dariagerasimenko/.conda/envs/Downloads/lib/python3.6/site-packages (from deeppavlov) (0.8)\r\n",
      "Requirement already satisfied: pandas==0.25.3 in /Users/dariagerasimenko/.conda/envs/Downloads/lib/python3.6/site-packages (from deeppavlov) (0.25.3)\r\n",
      "Requirement already satisfied: rusenttokenize==0.0.5 in /Users/dariagerasimenko/.conda/envs/Downloads/lib/python3.6/site-packages (from deeppavlov) (0.0.5)\r\n",
      "Requirement already satisfied: scipy==1.4.1 in /Users/dariagerasimenko/.conda/envs/Downloads/lib/python3.6/site-packages (from deeppavlov) (1.4.1)\r\n",
      "Requirement already satisfied: ruamel.yaml==0.15.100 in /Users/dariagerasimenko/.conda/envs/Downloads/lib/python3.6/site-packages (from deeppavlov) (0.15.100)\r\n",
      "Requirement already satisfied: fastapi==0.47.1 in /Users/dariagerasimenko/.conda/envs/Downloads/lib/python3.6/site-packages (from deeppavlov) (0.47.1)\r\n",
      "Requirement already satisfied: Cython==0.29.14 in /Users/dariagerasimenko/.conda/envs/Downloads/lib/python3.6/site-packages (from deeppavlov) (0.29.14)\r\n",
      "Requirement already satisfied: scikit-learn==0.21.2 in /Users/dariagerasimenko/.conda/envs/Downloads/lib/python3.6/site-packages (from deeppavlov) (0.21.2)\r\n",
      "Requirement already satisfied: pydantic==1.3 in /Users/dariagerasimenko/.conda/envs/Downloads/lib/python3.6/site-packages (from deeppavlov) (1.3)\r\n",
      "Requirement already satisfied: uvloop==0.14.0 in /Users/dariagerasimenko/.conda/envs/Downloads/lib/python3.6/site-packages (from deeppavlov) (0.14.0)\r\n",
      "Requirement already satisfied: filelock==3.0.12 in /Users/dariagerasimenko/.conda/envs/Downloads/lib/python3.6/site-packages (from deeppavlov) (3.0.12)\r\n",
      "Requirement already satisfied: tqdm==4.62.0 in /Users/dariagerasimenko/.conda/envs/Downloads/lib/python3.6/site-packages (from deeppavlov) (4.62.0)\r\n",
      "Requirement already satisfied: uvicorn==0.11.7 in /Users/dariagerasimenko/.conda/envs/Downloads/lib/python3.6/site-packages (from deeppavlov) (0.11.7)\r\n",
      "Requirement already satisfied: h5py==2.10.0 in /Users/dariagerasimenko/.conda/envs/Downloads/lib/python3.6/site-packages (from deeppavlov) (2.10.0)\r\n",
      "Requirement already satisfied: yarl in /Users/dariagerasimenko/.conda/envs/Downloads/lib/python3.6/site-packages (from aio-pika==6.4.1->deeppavlov) (1.7.2)\r\n",
      "Requirement already satisfied: aiormq<4,>=3.2.0 in /Users/dariagerasimenko/.conda/envs/Downloads/lib/python3.6/site-packages (from aio-pika==6.4.1->deeppavlov) (3.3.1)\r\n",
      "Requirement already satisfied: starlette<=0.12.9,>=0.12.9 in /Users/dariagerasimenko/.conda/envs/Downloads/lib/python3.6/site-packages (from fastapi==0.47.1->deeppavlov) (0.12.9)\r\n",
      "Requirement already satisfied: six in /Users/dariagerasimenko/.conda/envs/Downloads/lib/python3.6/site-packages (from h5py==2.10.0->deeppavlov) (1.16.0)\r\n",
      "Requirement already satisfied: python-dateutil>=2.6.1 in /Users/dariagerasimenko/.conda/envs/Downloads/lib/python3.6/site-packages (from pandas==0.25.3->deeppavlov) (2.8.2)\r\n",
      "Requirement already satisfied: dataclasses>=0.6 in /Users/dariagerasimenko/.conda/envs/Downloads/lib/python3.6/site-packages (from pydantic==1.3->deeppavlov) (0.8)\r\n",
      "Requirement already satisfied: dawg-python>=0.7 in /Users/dariagerasimenko/.conda/envs/Downloads/lib/python3.6/site-packages (from pymorphy2==0.8->deeppavlov) (0.7.2)\r\n",
      "Requirement already satisfied: docopt>=0.6 in /Users/dariagerasimenko/.conda/envs/Downloads/lib/python3.6/site-packages (from pymorphy2==0.8->deeppavlov) (0.6.2)\r\n",
      "Requirement already satisfied: pymorphy2-dicts<3.0,>=2.4 in /Users/dariagerasimenko/.conda/envs/Downloads/lib/python3.6/site-packages (from pymorphy2==0.8->deeppavlov) (2.4.393442.3710985)\r\n",
      "Requirement already satisfied: cryptography>=2.8 in /Users/dariagerasimenko/.conda/envs/Downloads/lib/python3.6/site-packages (from pyopenssl==19.1.0->deeppavlov) (36.0.1)\r\n",
      "Requirement already satisfied: urllib3!=1.25.0,!=1.25.1,<1.26,>=1.21.1 in /Users/dariagerasimenko/.conda/envs/Downloads/lib/python3.6/site-packages (from requests==2.22.0->deeppavlov) (1.25.11)\r\n",
      "Requirement already satisfied: certifi>=2017.4.17 in /Users/dariagerasimenko/.conda/envs/Downloads/lib/python3.6/site-packages (from requests==2.22.0->deeppavlov) (2021.5.30)\r\n",
      "Requirement already satisfied: chardet<3.1.0,>=3.0.2 in /Users/dariagerasimenko/.conda/envs/Downloads/lib/python3.6/site-packages (from requests==2.22.0->deeppavlov) (3.0.4)\r\n",
      "Requirement already satisfied: idna<2.9,>=2.5 in /Users/dariagerasimenko/.conda/envs/Downloads/lib/python3.6/site-packages (from requests==2.22.0->deeppavlov) (2.8)\r\n",
      "Requirement already satisfied: joblib in /Users/dariagerasimenko/.conda/envs/Downloads/lib/python3.6/site-packages (from sacremoses==0.0.35->deeppavlov) (1.1.0)\r\n",
      "Requirement already satisfied: websockets==8.* in /Users/dariagerasimenko/.conda/envs/Downloads/lib/python3.6/site-packages (from uvicorn==0.11.7->deeppavlov) (8.1)\r\n",
      "Requirement already satisfied: h11<0.10,>=0.8 in /Users/dariagerasimenko/.conda/envs/Downloads/lib/python3.6/site-packages (from uvicorn==0.11.7->deeppavlov) (0.9.0)\r\n",
      "Requirement already satisfied: httptools==0.1.* in /Users/dariagerasimenko/.conda/envs/Downloads/lib/python3.6/site-packages (from uvicorn==0.11.7->deeppavlov) (0.1.2)\r\n",
      "Requirement already satisfied: pamqp==2.3.0 in /Users/dariagerasimenko/.conda/envs/Downloads/lib/python3.6/site-packages (from aiormq<4,>=3.2.0->aio-pika==6.4.1->deeppavlov) (2.3.0)\r\n",
      "Requirement already satisfied: cffi>=1.12 in /Users/dariagerasimenko/.conda/envs/Downloads/lib/python3.6/site-packages (from cryptography>=2.8->pyopenssl==19.1.0->deeppavlov) (1.14.6)\r\n",
      "Requirement already satisfied: typing-extensions>=3.7.4 in /Users/dariagerasimenko/.conda/envs/Downloads/lib/python3.6/site-packages (from yarl->aio-pika==6.4.1->deeppavlov) (4.1.1)\r\n",
      "Requirement already satisfied: multidict>=4.0 in /Users/dariagerasimenko/.conda/envs/Downloads/lib/python3.6/site-packages (from yarl->aio-pika==6.4.1->deeppavlov) (5.2.0)\r\n",
      "Requirement already satisfied: pycparser in /Users/dariagerasimenko/.conda/envs/Downloads/lib/python3.6/site-packages (from cffi>=1.12->cryptography>=2.8->pyopenssl==19.1.0->deeppavlov) (2.21)\r\n",
      "Note: you may need to restart the kernel to use updated packages.\n"
     ]
    }
   ],
   "source": [
    "pip install deeppavlov"
   ]
  },
  {
   "cell_type": "code",
   "execution_count": null,
   "outputs": [],
   "source": [
    "from deeppavlov import configs, build_model\n",
    "\n",
    "ner_model = build_model(configs.ner.ner_ontonotes_bert_torch, download=True)\n",
    "\n",
    "ner_model(['Bob Ross lived in Florida'])\n"
   ],
   "metadata": {
    "collapsed": false,
    "pycharm": {
     "name": "#%%\n"
    }
   }
  },
  {
   "cell_type": "code",
   "execution_count": 80,
   "outputs": [
    {
     "name": "stdout",
     "output_type": "stream",
     "text": [
      "3.6.13\n"
     ]
    }
   ],
   "source": [
    "from platform import python_version\n",
    "\n",
    "print(python_version())"
   ],
   "metadata": {
    "collapsed": false,
    "pycharm": {
     "name": "#%%\n"
    }
   }
  },
  {
   "cell_type": "code",
   "execution_count": 31,
   "outputs": [
    {
     "name": "stdout",
     "output_type": "stream",
     "text": [
      "Collecting transformers==2.4.1\r\n",
      "  Downloading transformers-2.4.1-py3-none-any.whl (475 kB)\r\n",
      "     |████████████████████████████████| 475 kB 964 kB/s            \r\n",
      "\u001B[?25hCollecting tokenizers==0.0.11\r\n",
      "  Downloading tokenizers-0.0.11-cp36-cp36m-macosx_10_13_x86_64.whl (869 kB)\r\n",
      "     |████████████████████████████████| 869 kB 3.2 MB/s            \r\n",
      "\u001B[?25hCollecting boto3\r\n",
      "  Downloading boto3-1.21.0-py3-none-any.whl (132 kB)\r\n",
      "     |████████████████████████████████| 132 kB 5.5 MB/s            \r\n",
      "\u001B[?25hCollecting regex!=2019.12.17\r\n",
      "  Using cached regex-2022.1.18-cp36-cp36m-macosx_10_9_x86_64.whl (289 kB)\r\n",
      "Requirement already satisfied: sacremoses in /Users/dariagerasimenko/.conda/envs/Downloads/lib/python3.6/site-packages (from transformers==2.4.1) (0.0.35)\r\n",
      "Requirement already satisfied: requests in /Users/dariagerasimenko/.conda/envs/Downloads/lib/python3.6/site-packages (from transformers==2.4.1) (2.22.0)\r\n",
      "Requirement already satisfied: tqdm>=4.27 in /Users/dariagerasimenko/.conda/envs/Downloads/lib/python3.6/site-packages (from transformers==2.4.1) (4.62.0)\r\n",
      "Requirement already satisfied: filelock in /Users/dariagerasimenko/.conda/envs/Downloads/lib/python3.6/site-packages (from transformers==2.4.1) (3.0.12)\r\n",
      "Collecting sentencepiece\r\n",
      "  Downloading sentencepiece-0.1.96-cp36-cp36m-macosx_10_6_x86_64.whl (1.2 MB)\r\n",
      "     |████████████████████████████████| 1.2 MB 6.1 MB/s            \r\n",
      "\u001B[?25hRequirement already satisfied: numpy in /Users/dariagerasimenko/.conda/envs/Downloads/lib/python3.6/site-packages (from transformers==2.4.1) (1.18.0)\r\n",
      "Collecting jmespath<1.0.0,>=0.7.1\r\n",
      "  Downloading jmespath-0.10.0-py2.py3-none-any.whl (24 kB)\r\n",
      "Collecting botocore<1.25.0,>=1.24.0\r\n",
      "  Downloading botocore-1.24.0-py3-none-any.whl (8.5 MB)\r\n",
      "     |████████████████████████████████| 8.5 MB 4.1 MB/s            \r\n",
      "\u001B[?25hCollecting s3transfer<0.6.0,>=0.5.0\r\n",
      "  Downloading s3transfer-0.5.1-py3-none-any.whl (79 kB)\r\n",
      "     |████████████████████████████████| 79 kB 2.7 MB/s             \r\n",
      "\u001B[?25hRequirement already satisfied: chardet<3.1.0,>=3.0.2 in /Users/dariagerasimenko/.conda/envs/Downloads/lib/python3.6/site-packages (from requests->transformers==2.4.1) (3.0.4)\r\n",
      "Requirement already satisfied: certifi>=2017.4.17 in /Users/dariagerasimenko/.conda/envs/Downloads/lib/python3.6/site-packages (from requests->transformers==2.4.1) (2021.5.30)\r\n",
      "Requirement already satisfied: urllib3!=1.25.0,!=1.25.1,<1.26,>=1.21.1 in /Users/dariagerasimenko/.conda/envs/Downloads/lib/python3.6/site-packages (from requests->transformers==2.4.1) (1.25.11)\r\n",
      "Requirement already satisfied: idna<2.9,>=2.5 in /Users/dariagerasimenko/.conda/envs/Downloads/lib/python3.6/site-packages (from requests->transformers==2.4.1) (2.8)\r\n",
      "Requirement already satisfied: click in /Users/dariagerasimenko/.conda/envs/Downloads/lib/python3.6/site-packages (from sacremoses->transformers==2.4.1) (7.1.2)\r\n",
      "Requirement already satisfied: six in /Users/dariagerasimenko/.conda/envs/Downloads/lib/python3.6/site-packages (from sacremoses->transformers==2.4.1) (1.16.0)\r\n",
      "Requirement already satisfied: joblib in /Users/dariagerasimenko/.conda/envs/Downloads/lib/python3.6/site-packages (from sacremoses->transformers==2.4.1) (1.1.0)\r\n",
      "Requirement already satisfied: python-dateutil<3.0.0,>=2.1 in /Users/dariagerasimenko/.conda/envs/Downloads/lib/python3.6/site-packages (from botocore<1.25.0,>=1.24.0->boto3->transformers==2.4.1) (2.8.2)\r\n",
      "Installing collected packages: jmespath, botocore, s3transfer, tokenizers, sentencepiece, regex, boto3, transformers\r\n",
      "Successfully installed boto3-1.21.0 botocore-1.24.0 jmespath-0.10.0 regex-2022.1.18 s3transfer-0.5.1 sentencepiece-0.1.96 tokenizers-0.0.11 transformers-2.4.1\r\n",
      "Note: you may need to restart the kernel to use updated packages.\n"
     ]
    }
   ],
   "source": [
    "pip install transformers==2.4.1"
   ],
   "metadata": {
    "collapsed": false,
    "pycharm": {
     "name": "#%%\n"
    }
   }
  },
  {
   "cell_type": "markdown",
   "source": [
    "# NLTK"
   ],
   "metadata": {
    "collapsed": false,
    "pycharm": {
     "name": "#%% md\n"
    }
   }
  },
  {
   "cell_type": "code",
   "execution_count": 64,
   "outputs": [],
   "source": [
    "russian_text = '''Власти Москвы яндекс озон выделили 110 млрд рублей на поддержку населения, системы здравоохранения и городского хозяйства. Об этом сообщается на сайте мэра столицы https://www.sobyanin.ru/ в пятницу, 1 мая. По адресу Алтуфьевское шоссе д.51 (основной вид разрешенного использования: производственная деятельность, склады) размещен МПЗ? Подпоручик Киже управляя автомобилем ВАЗ2107 перевозил автомат АК47 с целью ограбления банка ВТБ24, как следует из записей.\n",
    "Взыскать c индивидуального предпринимателя Иванова Костантипа Петровича дата рождения 10 января 1970 года, проживающего по адресу город Санкт-Петербург, ул. Крузенштерна, дом 5/1А 8 000 (восемь тысяч) рублей 00 копеек гос. пошлины в пользу бюджета РФ Жители требуют незамедлительной остановки МПЗ и его вывода из района. Решение было принято по поручению мэра города Сергея Собянина в связи с ограничениями из-за коронавируса.'''"
   ],
   "metadata": {
    "collapsed": false,
    "pycharm": {
     "name": "#%%\n"
    }
   }
  },
  {
   "cell_type": "code",
   "execution_count": 50,
   "outputs": [
    {
     "name": "stdout",
     "output_type": "stream",
     "text": [
      "(PERSON Власти/JJ)\n",
      "(ORGANIZATION Москвы/NNP)\n",
      "(PERSON Подпоручик/JJ)\n",
      "(ORGANIZATION Киже/NNP)\n",
      "(GPE Взыскать/JJ)\n",
      "(PERSON Иванова/NNP Костантипа/NNP Петровича/NNP)\n",
      "(GPE Крузенштерна/NN)\n",
      "(PERSON Жители/NNP)\n",
      "(PERSON Решение/JJ)\n",
      "(PERSON Сергея/NNP Собянина/NNP)\n"
     ]
    }
   ],
   "source": [
    "import nltk\n",
    "#nltk.download('punkt')\n",
    "#nltk.download('averaged_perceptron_tagger')\n",
    "#nltk.download('maxent_ne_chunker')\n",
    "#nltk.download('words')\n",
    "for sent in nltk.sent_tokenize(russian_text):\n",
    "    for chunk in nltk.ne_chunk(nltk.pos_tag(nltk.word_tokenize(sent))):\n",
    "        if hasattr(chunk, 'label'):\n",
    "            print(chunk)"
   ],
   "metadata": {
    "collapsed": false,
    "pycharm": {
     "name": "#%%\n"
    }
   }
  },
  {
   "cell_type": "code",
   "execution_count": 61,
   "outputs": [
    {
     "ename": "FileNotFoundError",
     "evalue": "[Errno 2] No such file or directory: 'dot': 'dot'",
     "output_type": "error",
     "traceback": [
      "\u001B[0;31m---------------------------------------------------------------------------\u001B[0m",
      "\u001B[0;31mFileNotFoundError\u001B[0m                         Traceback (most recent call last)",
      "\u001B[0;32m~/.conda/envs/Downloads/lib/python3.6/site-packages/IPython/core/formatters.py\u001B[0m in \u001B[0;36m__call__\u001B[0;34m(self, obj)\u001B[0m\n\u001B[1;32m    343\u001B[0m             \u001B[0mmethod\u001B[0m \u001B[0;34m=\u001B[0m \u001B[0mget_real_method\u001B[0m\u001B[0;34m(\u001B[0m\u001B[0mobj\u001B[0m\u001B[0;34m,\u001B[0m \u001B[0mself\u001B[0m\u001B[0;34m.\u001B[0m\u001B[0mprint_method\u001B[0m\u001B[0;34m)\u001B[0m\u001B[0;34m\u001B[0m\u001B[0;34m\u001B[0m\u001B[0m\n\u001B[1;32m    344\u001B[0m             \u001B[0;32mif\u001B[0m \u001B[0mmethod\u001B[0m \u001B[0;32mis\u001B[0m \u001B[0;32mnot\u001B[0m \u001B[0;32mNone\u001B[0m\u001B[0;34m:\u001B[0m\u001B[0;34m\u001B[0m\u001B[0;34m\u001B[0m\u001B[0m\n\u001B[0;32m--> 345\u001B[0;31m                 \u001B[0;32mreturn\u001B[0m \u001B[0mmethod\u001B[0m\u001B[0;34m(\u001B[0m\u001B[0;34m)\u001B[0m\u001B[0;34m\u001B[0m\u001B[0;34m\u001B[0m\u001B[0m\n\u001B[0m\u001B[1;32m    346\u001B[0m             \u001B[0;32mreturn\u001B[0m \u001B[0;32mNone\u001B[0m\u001B[0;34m\u001B[0m\u001B[0;34m\u001B[0m\u001B[0m\n\u001B[1;32m    347\u001B[0m         \u001B[0;32melse\u001B[0m\u001B[0;34m:\u001B[0m\u001B[0;34m\u001B[0m\u001B[0;34m\u001B[0m\u001B[0m\n",
      "\u001B[0;32m~/.conda/envs/Downloads/lib/python3.6/site-packages/pullenti_client/graph.py\u001B[0m in \u001B[0;36m_repr_svg_\u001B[0;34m(self)\u001B[0m\n\u001B[1;32m    167\u001B[0m \u001B[0;34m\u001B[0m\u001B[0m\n\u001B[1;32m    168\u001B[0m     \u001B[0;32mdef\u001B[0m \u001B[0m_repr_svg_\u001B[0m\u001B[0;34m(\u001B[0m\u001B[0mself\u001B[0m\u001B[0;34m)\u001B[0m\u001B[0;34m:\u001B[0m\u001B[0;34m\u001B[0m\u001B[0;34m\u001B[0m\u001B[0m\n\u001B[0;32m--> 169\u001B[0;31m         \u001B[0;32mreturn\u001B[0m \u001B[0mdot2svg\u001B[0m\u001B[0;34m(\u001B[0m\u001B[0;34m'\\n'\u001B[0m\u001B[0;34m.\u001B[0m\u001B[0mjoin\u001B[0m\u001B[0;34m(\u001B[0m\u001B[0mself\u001B[0m\u001B[0;34m.\u001B[0m\u001B[0msource\u001B[0m\u001B[0;34m)\u001B[0m\u001B[0;34m)\u001B[0m\u001B[0;34m\u001B[0m\u001B[0;34m\u001B[0m\u001B[0m\n\u001B[0m",
      "\u001B[0;32m~/.conda/envs/Downloads/lib/python3.6/site-packages/pullenti_client/graph.py\u001B[0m in \u001B[0;36mdot2svg\u001B[0;34m(source)\u001B[0m\n\u001B[1;32m     24\u001B[0m     process = Popen(\n\u001B[1;32m     25\u001B[0m         \u001B[0;34m[\u001B[0m\u001B[0;34m'dot'\u001B[0m\u001B[0;34m,\u001B[0m \u001B[0;34m'-T'\u001B[0m\u001B[0;34m,\u001B[0m \u001B[0;34m'svg'\u001B[0m\u001B[0;34m]\u001B[0m\u001B[0;34m,\u001B[0m\u001B[0;34m\u001B[0m\u001B[0;34m\u001B[0m\u001B[0m\n\u001B[0;32m---> 26\u001B[0;31m         \u001B[0mstdin\u001B[0m\u001B[0;34m=\u001B[0m\u001B[0mPIPE\u001B[0m\u001B[0;34m,\u001B[0m \u001B[0mstdout\u001B[0m\u001B[0;34m=\u001B[0m\u001B[0mPIPE\u001B[0m\u001B[0;34m,\u001B[0m \u001B[0mstderr\u001B[0m\u001B[0;34m=\u001B[0m\u001B[0mPIPE\u001B[0m\u001B[0;34m\u001B[0m\u001B[0;34m\u001B[0m\u001B[0m\n\u001B[0m\u001B[1;32m     27\u001B[0m     )\n\u001B[1;32m     28\u001B[0m     \u001B[0moutput\u001B[0m\u001B[0;34m,\u001B[0m \u001B[0merror\u001B[0m \u001B[0;34m=\u001B[0m \u001B[0mprocess\u001B[0m\u001B[0;34m.\u001B[0m\u001B[0mcommunicate\u001B[0m\u001B[0;34m(\u001B[0m\u001B[0msource\u001B[0m\u001B[0;34m.\u001B[0m\u001B[0mencode\u001B[0m\u001B[0;34m(\u001B[0m\u001B[0;34m'utf8'\u001B[0m\u001B[0;34m)\u001B[0m\u001B[0;34m)\u001B[0m\u001B[0;34m\u001B[0m\u001B[0;34m\u001B[0m\u001B[0m\n",
      "\u001B[0;32m~/.conda/envs/Downloads/lib/python3.6/subprocess.py\u001B[0m in \u001B[0;36m__init__\u001B[0;34m(self, args, bufsize, executable, stdin, stdout, stderr, preexec_fn, close_fds, shell, cwd, env, universal_newlines, startupinfo, creationflags, restore_signals, start_new_session, pass_fds, encoding, errors)\u001B[0m\n\u001B[1;32m    727\u001B[0m                                 \u001B[0mc2pread\u001B[0m\u001B[0;34m,\u001B[0m \u001B[0mc2pwrite\u001B[0m\u001B[0;34m,\u001B[0m\u001B[0;34m\u001B[0m\u001B[0;34m\u001B[0m\u001B[0m\n\u001B[1;32m    728\u001B[0m                                 \u001B[0merrread\u001B[0m\u001B[0;34m,\u001B[0m \u001B[0merrwrite\u001B[0m\u001B[0;34m,\u001B[0m\u001B[0;34m\u001B[0m\u001B[0;34m\u001B[0m\u001B[0m\n\u001B[0;32m--> 729\u001B[0;31m                                 restore_signals, start_new_session)\n\u001B[0m\u001B[1;32m    730\u001B[0m         \u001B[0;32mexcept\u001B[0m\u001B[0;34m:\u001B[0m\u001B[0;34m\u001B[0m\u001B[0;34m\u001B[0m\u001B[0m\n\u001B[1;32m    731\u001B[0m             \u001B[0;31m# Cleanup if the child failed starting.\u001B[0m\u001B[0;34m\u001B[0m\u001B[0;34m\u001B[0m\u001B[0;34m\u001B[0m\u001B[0m\n",
      "\u001B[0;32m~/.conda/envs/Downloads/lib/python3.6/subprocess.py\u001B[0m in \u001B[0;36m_execute_child\u001B[0;34m(self, args, executable, preexec_fn, close_fds, pass_fds, cwd, env, startupinfo, creationflags, shell, p2cread, p2cwrite, c2pread, c2pwrite, errread, errwrite, restore_signals, start_new_session)\u001B[0m\n\u001B[1;32m   1362\u001B[0m                         \u001B[0;32mif\u001B[0m \u001B[0merrno_num\u001B[0m \u001B[0;34m==\u001B[0m \u001B[0merrno\u001B[0m\u001B[0;34m.\u001B[0m\u001B[0mENOENT\u001B[0m\u001B[0;34m:\u001B[0m\u001B[0;34m\u001B[0m\u001B[0;34m\u001B[0m\u001B[0m\n\u001B[1;32m   1363\u001B[0m                             \u001B[0merr_msg\u001B[0m \u001B[0;34m+=\u001B[0m \u001B[0;34m': '\u001B[0m \u001B[0;34m+\u001B[0m \u001B[0mrepr\u001B[0m\u001B[0;34m(\u001B[0m\u001B[0merr_filename\u001B[0m\u001B[0;34m)\u001B[0m\u001B[0;34m\u001B[0m\u001B[0;34m\u001B[0m\u001B[0m\n\u001B[0;32m-> 1364\u001B[0;31m                     \u001B[0;32mraise\u001B[0m \u001B[0mchild_exception_type\u001B[0m\u001B[0;34m(\u001B[0m\u001B[0merrno_num\u001B[0m\u001B[0;34m,\u001B[0m \u001B[0merr_msg\u001B[0m\u001B[0;34m,\u001B[0m \u001B[0merr_filename\u001B[0m\u001B[0;34m)\u001B[0m\u001B[0;34m\u001B[0m\u001B[0;34m\u001B[0m\u001B[0m\n\u001B[0m\u001B[1;32m   1365\u001B[0m                 \u001B[0;32mraise\u001B[0m \u001B[0mchild_exception_type\u001B[0m\u001B[0;34m(\u001B[0m\u001B[0merr_msg\u001B[0m\u001B[0;34m)\u001B[0m\u001B[0;34m\u001B[0m\u001B[0;34m\u001B[0m\u001B[0m\n\u001B[1;32m   1366\u001B[0m \u001B[0;34m\u001B[0m\u001B[0m\n",
      "\u001B[0;31mFileNotFoundError\u001B[0m: [Errno 2] No such file or directory: 'dot': 'dot'"
     ]
    },
    {
     "data": {
      "text/plain": "Graph(...)"
     },
     "execution_count": 61,
     "metadata": {},
     "output_type": "execute_result"
    }
   ],
   "source": [
    "from pullenti_wrapper.processor import (\n",
    "    Processor,\n",
    "    MONEY,\n",
    "    URI,\n",
    "    PHONE,\n",
    "    DATE,\n",
    "    KEYWORD,\n",
    "    DEFINITION,\n",
    "    DENOMINATION,\n",
    "    MEASURE,\n",
    "    BANK,\n",
    "    GEO,\n",
    "    ADDRESS,\n",
    "    ORGANIZATION,\n",
    "    PERSON,\n",
    "    MAIL,\n",
    "    TRANSPORT,\n",
    "    DECREE,\n",
    "    INSTRUMENT,\n",
    "    TITLEPAGE,\n",
    "    BOOKLINK,\n",
    "    BUSINESS,\n",
    "    NAMEDENTITY,\n",
    "    WEAPON,\n",
    ")\n",
    "\n",
    "processor = Processor([PERSON, ORGANIZATION, GEO, DATE, MONEY])\n",
    "text = russian_text\n",
    "result = processor(text)\n",
    "result.graph"
   ],
   "metadata": {
    "collapsed": false,
    "pycharm": {
     "name": "#%%\n"
    }
   }
  },
  {
   "cell_type": "code",
   "execution_count": 68,
   "outputs": [],
   "source": [
    "russian_text = 'худшая сделка андрея — это покупка с плечом акций «яндекса» в прошлом году. сразу после сделки они пошли вниз, в итоге артист потерял 20 тыс. руб.'"
   ],
   "metadata": {
    "collapsed": false,
    "pycharm": {
     "name": "#%%\n"
    }
   }
  },
  {
   "cell_type": "code",
   "execution_count": null,
   "outputs": [],
   "source": [],
   "metadata": {
    "collapsed": false,
    "pycharm": {
     "name": "#%%\n"
    }
   }
  },
  {
   "cell_type": "code",
   "execution_count": 70,
   "outputs": [
    {
     "name": "stderr",
     "output_type": "stream",
     "text": [
      "2022-02-15 22:43:47 INFO: Loading these models for language: ru (Russian):\n",
      "=========================\n",
      "| Processor | Package   |\n",
      "-------------------------\n",
      "| tokenize  | syntagrus |\n",
      "| ner       | wikiner   |\n",
      "=========================\n",
      "\n",
      "2022-02-15 22:43:47 INFO: Use device: cpu\n",
      "2022-02-15 22:43:47 INFO: Loading: tokenize\n",
      "2022-02-15 22:43:47 INFO: Loading: ner\n",
      "2022-02-15 22:43:49 INFO: Done loading processors!\n"
     ]
    },
    {
     "name": "stdout",
     "output_type": "stream",
     "text": [
      "\n"
     ]
    }
   ],
   "source": [
    "import stanza\n",
    "#stanza.download('ru')\n",
    "def stanza_nlp_ru(text):\n",
    "    nlp = stanza.Pipeline(lang='ru', processors='tokenize,ner')\n",
    "    doc = nlp(text)\n",
    "    print(*[f'entity: {ent.text}\\ttype: {ent.type}' for sent in doc.sentences for ent in sent.ents], sep='\\n')\n",
    "stanza_nlp_ru(russian_text)"
   ],
   "metadata": {
    "collapsed": false,
    "pycharm": {
     "name": "#%%\n"
    }
   }
  },
  {
   "cell_type": "code",
   "execution_count": 79,
   "outputs": [
    {
     "ename": "ImportError",
     "evalue": "cannot import name 'Locale'",
     "output_type": "error",
     "traceback": [
      "\u001B[0;31m---------------------------------------------------------------------------\u001B[0m",
      "\u001B[0;31mImportError\u001B[0m                               Traceback (most recent call last)",
      "\u001B[0;32m<ipython-input-79-365fdab6978f>\u001B[0m in \u001B[0;36m<module>\u001B[0;34m\u001B[0m\n\u001B[0;32m----> 1\u001B[0;31m \u001B[0;32mfrom\u001B[0m \u001B[0mpolyglot\u001B[0m\u001B[0;34m.\u001B[0m\u001B[0mtext\u001B[0m \u001B[0;32mimport\u001B[0m \u001B[0mText\u001B[0m\u001B[0;34m\u001B[0m\u001B[0;34m\u001B[0m\u001B[0m\n\u001B[0m",
      "\u001B[0;32m~/.conda/envs/Downloads/lib/python3.6/site-packages/polyglot/text.py\u001B[0m in \u001B[0;36m<module>\u001B[0;34m\u001B[0m\n\u001B[1;32m      7\u001B[0m \u001B[0;34m\u001B[0m\u001B[0m\n\u001B[1;32m      8\u001B[0m \u001B[0;32mfrom\u001B[0m \u001B[0mpolyglot\u001B[0m\u001B[0;34m.\u001B[0m\u001B[0mbase\u001B[0m \u001B[0;32mimport\u001B[0m \u001B[0mSequence\u001B[0m\u001B[0;34m,\u001B[0m \u001B[0mTextFile\u001B[0m\u001B[0;34m,\u001B[0m \u001B[0mTextFiles\u001B[0m\u001B[0;34m\u001B[0m\u001B[0;34m\u001B[0m\u001B[0m\n\u001B[0;32m----> 9\u001B[0;31m \u001B[0;32mfrom\u001B[0m \u001B[0mpolyglot\u001B[0m\u001B[0;34m.\u001B[0m\u001B[0mdetect\u001B[0m \u001B[0;32mimport\u001B[0m \u001B[0mDetector\u001B[0m\u001B[0;34m,\u001B[0m \u001B[0mLanguage\u001B[0m\u001B[0;34m\u001B[0m\u001B[0;34m\u001B[0m\u001B[0m\n\u001B[0m\u001B[1;32m     10\u001B[0m \u001B[0;32mfrom\u001B[0m \u001B[0mpolyglot\u001B[0m\u001B[0;34m.\u001B[0m\u001B[0mdecorators\u001B[0m \u001B[0;32mimport\u001B[0m \u001B[0mcached_property\u001B[0m\u001B[0;34m\u001B[0m\u001B[0;34m\u001B[0m\u001B[0m\n\u001B[1;32m     11\u001B[0m \u001B[0;32mfrom\u001B[0m \u001B[0mpolyglot\u001B[0m\u001B[0;34m.\u001B[0m\u001B[0mdownloader\u001B[0m \u001B[0;32mimport\u001B[0m \u001B[0mDownloader\u001B[0m\u001B[0;34m\u001B[0m\u001B[0;34m\u001B[0m\u001B[0m\n",
      "\u001B[0;32m~/.conda/envs/Downloads/lib/python3.6/site-packages/polyglot/detect/__init__.py\u001B[0m in \u001B[0;36m<module>\u001B[0;34m\u001B[0m\n\u001B[0;32m----> 1\u001B[0;31m \u001B[0;32mfrom\u001B[0m \u001B[0;34m.\u001B[0m\u001B[0mbase\u001B[0m \u001B[0;32mimport\u001B[0m \u001B[0mDetector\u001B[0m\u001B[0;34m,\u001B[0m \u001B[0mLanguage\u001B[0m\u001B[0;34m\u001B[0m\u001B[0;34m\u001B[0m\u001B[0m\n\u001B[0m\u001B[1;32m      2\u001B[0m \u001B[0;34m\u001B[0m\u001B[0m\n\u001B[1;32m      3\u001B[0m \u001B[0m__all__\u001B[0m \u001B[0;34m=\u001B[0m \u001B[0;34m[\u001B[0m\u001B[0;34m'Detector'\u001B[0m\u001B[0;34m,\u001B[0m \u001B[0;34m'Language'\u001B[0m\u001B[0;34m]\u001B[0m\u001B[0;34m\u001B[0m\u001B[0;34m\u001B[0m\u001B[0m\n",
      "\u001B[0;32m~/.conda/envs/Downloads/lib/python3.6/site-packages/polyglot/detect/base.py\u001B[0m in \u001B[0;36m<module>\u001B[0;34m\u001B[0m\n\u001B[1;32m      9\u001B[0m \u001B[0;34m\u001B[0m\u001B[0m\n\u001B[1;32m     10\u001B[0m \u001B[0;34m\u001B[0m\u001B[0m\n\u001B[0;32m---> 11\u001B[0;31m \u001B[0;32mfrom\u001B[0m \u001B[0micu\u001B[0m \u001B[0;32mimport\u001B[0m \u001B[0mLocale\u001B[0m\u001B[0;34m\u001B[0m\u001B[0;34m\u001B[0m\u001B[0m\n\u001B[0m\u001B[1;32m     12\u001B[0m \u001B[0;32mimport\u001B[0m \u001B[0mpycld2\u001B[0m \u001B[0;32mas\u001B[0m \u001B[0mcld2\u001B[0m\u001B[0;34m\u001B[0m\u001B[0;34m\u001B[0m\u001B[0m\n\u001B[1;32m     13\u001B[0m \u001B[0;34m\u001B[0m\u001B[0m\n",
      "\u001B[0;31mImportError\u001B[0m: cannot import name 'Locale'"
     ]
    }
   ],
   "source": [
    "from polyglot.text import Text"
   ],
   "metadata": {
    "collapsed": false,
    "pycharm": {
     "name": "#%%\n"
    }
   }
  },
  {
   "cell_type": "code",
   "execution_count": 78,
   "outputs": [
    {
     "name": "stdout",
     "output_type": "stream",
     "text": [
      "Traceback (most recent call last):\r\n",
      "  File \"/Users/dariagerasimenko/.conda/envs/Downloads/bin/polyglot\", line 5, in <module>\r\n",
      "    from polyglot.__main__ import main\r\n",
      "  File \"/Users/dariagerasimenko/.conda/envs/Downloads/lib/python3.6/site-packages/polyglot/__main__.py\", line 16, in <module>\r\n",
      "    from icu import Locale\r\n",
      "ImportError: cannot import name 'Locale'\r\n"
     ]
    },
    {
     "ename": "NameError",
     "evalue": "name 'Text' is not defined",
     "output_type": "error",
     "traceback": [
      "\u001B[0;31m---------------------------------------------------------------------------\u001B[0m",
      "\u001B[0;31mNameError\u001B[0m                                 Traceback (most recent call last)",
      "\u001B[0;32m<ipython-input-78-ddbc494bbe72>\u001B[0m in \u001B[0;36m<module>\u001B[0;34m\u001B[0m\n\u001B[1;32m      1\u001B[0m \u001B[0mget_ipython\u001B[0m\u001B[0;34m(\u001B[0m\u001B[0;34m)\u001B[0m\u001B[0;34m.\u001B[0m\u001B[0msystem\u001B[0m\u001B[0;34m(\u001B[0m\u001B[0;34m'polyglot download embeddings2.ru ner2.ru'\u001B[0m\u001B[0;34m)\u001B[0m\u001B[0;34m\u001B[0m\u001B[0;34m\u001B[0m\u001B[0m\n\u001B[0;32m----> 2\u001B[0;31m \u001B[0;32mfor\u001B[0m \u001B[0ment\u001B[0m \u001B[0;32min\u001B[0m \u001B[0mText\u001B[0m\u001B[0;34m(\u001B[0m\u001B[0mrussian_text\u001B[0m\u001B[0;34m)\u001B[0m\u001B[0;34m.\u001B[0m\u001B[0mentities\u001B[0m\u001B[0;34m:\u001B[0m\u001B[0;34m\u001B[0m\u001B[0;34m\u001B[0m\u001B[0m\n\u001B[0m\u001B[1;32m      3\u001B[0m     \u001B[0mprint\u001B[0m\u001B[0;34m(\u001B[0m\u001B[0ment\u001B[0m\u001B[0;34m[\u001B[0m\u001B[0;36m0\u001B[0m\u001B[0;34m]\u001B[0m\u001B[0;34m,\u001B[0m\u001B[0ment\u001B[0m\u001B[0;34m.\u001B[0m\u001B[0mtag\u001B[0m\u001B[0;34m)\u001B[0m\u001B[0;34m\u001B[0m\u001B[0;34m\u001B[0m\u001B[0m\n",
      "\u001B[0;31mNameError\u001B[0m: name 'Text' is not defined"
     ]
    }
   ],
   "source": [
    "!polyglot download embeddings2.ru ner2.ru\n",
    "for ent in Text(russian_text).entities:\n",
    "    print(ent[0],ent.tag)"
   ],
   "metadata": {
    "collapsed": false,
    "pycharm": {
     "name": "#%%\n"
    }
   }
  },
  {
   "cell_type": "code",
   "execution_count": 71,
   "outputs": [
    {
     "name": "stdout",
     "output_type": "stream",
     "text": [
      "Collecting polyglot\r\n",
      "  Downloading polyglot-16.7.4.tar.gz (126 kB)\r\n",
      "     |████████████████████████████████| 126 kB 1.0 MB/s            \r\n",
      "\u001B[?25h  Preparing metadata (setup.py) ... \u001B[?25ldone\r\n",
      "\u001B[?25hBuilding wheels for collected packages: polyglot\r\n",
      "  Building wheel for polyglot (setup.py) ... \u001B[?25ldone\r\n",
      "\u001B[?25h  Created wheel for polyglot: filename=polyglot-16.7.4-py2.py3-none-any.whl size=52577 sha256=b31392f3c71eb723371819188a119257982d0699e8ab381180c2f5a2cfec2727\r\n",
      "  Stored in directory: /Users/dariagerasimenko/Library/Caches/pip/wheels/99/d9/0e/2e76da7ea1f5713a3b70f4b4d81a84111030d0bc39fb8905ba\r\n",
      "Successfully built polyglot\r\n",
      "Installing collected packages: polyglot\r\n",
      "Successfully installed polyglot-16.7.4\r\n",
      "Note: you may need to restart the kernel to use updated packages.\n"
     ]
    }
   ],
   "source": [
    "pip install polyglot"
   ],
   "metadata": {
    "collapsed": false,
    "pycharm": {
     "name": "#%%\n"
    }
   }
  },
  {
   "cell_type": "code",
   "execution_count": null,
   "outputs": [],
   "source": [],
   "metadata": {
    "collapsed": false,
    "pycharm": {
     "name": "#%%\n"
    }
   }
  }
 ],
 "metadata": {
  "kernelspec": {
   "display_name": "Python 3",
   "language": "python",
   "name": "python3"
  },
  "language_info": {
   "codemirror_mode": {
    "name": "ipython",
    "version": 3
   },
   "file_extension": ".py",
   "mimetype": "text/x-python",
   "name": "python",
   "nbconvert_exporter": "python",
   "pygments_lexer": "ipython3",
   "version": "3.8.5"
  }
 },
 "nbformat": 4,
 "nbformat_minor": 4
}