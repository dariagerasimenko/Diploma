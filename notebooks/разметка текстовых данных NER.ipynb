{
  "cells": [
    {
      "cell_type": "markdown",
      "metadata": {
        "id": "NzlxclNG0Adc"
      },
      "source": [
        "# Данные"
      ]
    },
    {
      "cell_type": "code",
      "execution_count": 1,
      "metadata": {
        "id": "wraJLTlIBF61"
      },
      "outputs": [],
      "source": [
        "import os\n",
        "import numpy as np\n",
        "import pandas as pd\n",
        "cwd = os.path.abspath('sample_data') \n",
        "files = os.listdir(cwd)"
      ]
    },
    {
      "cell_type": "code",
      "execution_count": 2,
      "metadata": {
        "id": "YmUnbj8WJavX"
      },
      "outputs": [],
      "source": [
        "import sys\n",
        "\n",
        "if not sys.warnoptions:\n",
        "    import warnings\n",
        "    warnings.simplefilter(\"ignore\")"
      ]
    },
    {
      "cell_type": "code",
      "execution_count": 3,
      "metadata": {
        "id": "mOshYITWnQCC",
        "colab": {
          "base_uri": "https://localhost:8080/"
        },
        "outputId": "2fee5270-c15d-4663-a246-8e6ea437f893"
      },
      "outputs": [
        {
          "output_type": "stream",
          "name": "stdout",
          "text": [
            "Mounted at /content/drive\n"
          ]
        }
      ],
      "source": [
        "#from google.colab import drive\n",
        "#drive.mount('/content/drive')"
      ]
    },
    {
      "cell_type": "code",
      "execution_count": 4,
      "metadata": {
        "id": "VLTgIvpiWId9"
      },
      "outputs": [],
      "source": [
        "#news = pd.read_csv(\"/content/drive/MyDrive/news.csv\")\n",
        "#data = pd.read_csv(\"/content/drive/MyDrive/finane.csv\")\n",
        "news = pd.read_csv(\"news.csv\")\n",
        "#data = pd.read_csv(\"finane.csv\")"
      ]
    },
    {
      "cell_type": "markdown",
      "metadata": {
        "id": "Wa2f8nrTBF67"
      },
      "source": [
        "# попытки Deeppavlov (тоже не прогонять)"
      ]
    },
    {
      "cell_type": "code",
      "execution_count": null,
      "metadata": {
        "colab": {
          "base_uri": "https://localhost:8080/"
        },
        "id": "tYoepmMMBF68",
        "outputId": "9c06b188-d30a-42f2-b071-585d0c15a30a"
      },
      "outputs": [
        {
          "name": "stdout",
          "output_type": "stream",
          "text": [
            "3.7.12\n"
          ]
        }
      ],
      "source": [
        "from platform import python_version\n",
        "\n",
        "print(python_version())"
      ]
    },
    {
      "cell_type": "code",
      "execution_count": null,
      "metadata": {
        "colab": {
          "base_uri": "https://localhost:8080/"
        },
        "id": "kkvtRrI2RmzJ",
        "outputId": "65beed5f-711c-4f50-f84d-338e8103555e"
      },
      "outputs": [
        {
          "name": "stdout",
          "output_type": "stream",
          "text": [
            "/usr/bin/python3: No module named deeppavlov\n"
          ]
        }
      ],
      "source": [
        "!python -m deeppavlov install ner_ontonotes_bert_torch"
      ]
    },
    {
      "cell_type": "code",
      "execution_count": null,
      "metadata": {
        "colab": {
          "base_uri": "https://localhost:8080/"
        },
        "id": "RTbvrqtGBF68",
        "outputId": "eeca1144-708f-462c-8ad9-5d86bb37fc06"
      },
      "outputs": [
        {
          "name": "stdout",
          "output_type": "stream",
          "text": [
            "Collecting deeppavlov\n",
            "  Downloading deeppavlov-0.17.2-py3-none-any.whl (880 kB)\n",
            "\u001b[K     |████████████████████████████████| 880 kB 5.4 MB/s \n",
            "\u001b[?25hCollecting requests==2.22.0\n",
            "  Downloading requests-2.22.0-py2.py3-none-any.whl (57 kB)\n",
            "\u001b[K     |████████████████████████████████| 57 kB 4.5 MB/s \n",
            "\u001b[?25hCollecting scikit-learn==0.21.2\n",
            "  Downloading scikit_learn-0.21.2-cp37-cp37m-manylinux1_x86_64.whl (6.7 MB)\n",
            "\u001b[K     |████████████████████████████████| 6.7 MB 27.0 MB/s \n",
            "\u001b[?25hCollecting tqdm==4.62.0\n",
            "  Downloading tqdm-4.62.0-py2.py3-none-any.whl (76 kB)\n",
            "\u001b[K     |████████████████████████████████| 76 kB 4.6 MB/s \n",
            "\u001b[31mERROR: Operation cancelled by user\u001b[0m\n",
            "\u001b[?25h"
          ]
        }
      ],
      "source": [
        "pip install deeppavlov"
      ]
    },
    {
      "cell_type": "code",
      "execution_count": null,
      "metadata": {
        "colab": {
          "base_uri": "https://localhost:8080/",
          "height": 401
        },
        "id": "LqYMPEXwBF69",
        "outputId": "bedbe55b-907f-4170-b381-cf03075b1e19"
      },
      "outputs": [
        {
          "ename": "ModuleNotFoundError",
          "evalue": "ignored",
          "output_type": "error",
          "traceback": [
            "\u001b[0;31m---------------------------------------------------------------------------\u001b[0m",
            "\u001b[0;31mModuleNotFoundError\u001b[0m                       Traceback (most recent call last)",
            "\u001b[0;32m<ipython-input-28-6a75fc48486a>\u001b[0m in \u001b[0;36m<module>\u001b[0;34m()\u001b[0m\n\u001b[0;32m----> 1\u001b[0;31m \u001b[0;32mfrom\u001b[0m \u001b[0mdeeppavlov\u001b[0m \u001b[0;32mimport\u001b[0m \u001b[0mbuild_model\u001b[0m\u001b[0;34m,\u001b[0m \u001b[0mconfigs\u001b[0m\u001b[0;34m\u001b[0m\u001b[0;34m\u001b[0m\u001b[0m\n\u001b[0m\u001b[1;32m      2\u001b[0m \u001b[0;34m\u001b[0m\u001b[0m\n\u001b[1;32m      3\u001b[0m \u001b[0mner_model\u001b[0m \u001b[0;34m=\u001b[0m \u001b[0mbuild_model\u001b[0m\u001b[0;34m(\u001b[0m\u001b[0mconfigs\u001b[0m\u001b[0;34m.\u001b[0m\u001b[0mner\u001b[0m\u001b[0;34m.\u001b[0m\u001b[0mner_collection3_m1\u001b[0m \u001b[0;34m,\u001b[0m \u001b[0mdownload\u001b[0m\u001b[0;34m=\u001b[0m\u001b[0;32mTrue\u001b[0m\u001b[0;34m)\u001b[0m\u001b[0;34m\u001b[0m\u001b[0;34m\u001b[0m\u001b[0m\n\u001b[1;32m      4\u001b[0m \u001b[0;34m\u001b[0m\u001b[0m\n\u001b[1;32m      5\u001b[0m \u001b[0mner_model\u001b[0m\u001b[0;34m(\u001b[0m\u001b[0;34m[\u001b[0m\u001b[0;34m'Компания « Андэк » , специализирующаяся на решениях для обеспечения безопасности бизнеса , сообщила о том , что Вячеслав Максимов , заместитель генерального директора компании , возглавил направление по оптимизации процессов управления информационной безопасностью '\u001b[0m\u001b[0;34m]\u001b[0m\u001b[0;34m)\u001b[0m\u001b[0;34m\u001b[0m\u001b[0;34m\u001b[0m\u001b[0m\n",
            "\u001b[0;31mModuleNotFoundError\u001b[0m: No module named 'deeppavlov'",
            "",
            "\u001b[0;31m---------------------------------------------------------------------------\u001b[0;32m\nNOTE: If your import is failing due to a missing package, you can\nmanually install dependencies using either !pip or !apt.\n\nTo view examples of installing some common dependencies, click the\n\"Open Examples\" button below.\n\u001b[0;31m---------------------------------------------------------------------------\u001b[0m\n"
          ]
        }
      ],
      "source": [
        "from deeppavlov import build_model, configs\n",
        "\n",
        "ner_model = build_model(configs.ner.ner_collection3_m1 , download=True)\n",
        "\n",
        "ner_model(['Компания « Андэк » , специализирующаяся на решениях для обеспечения безопасности бизнеса , сообщила о том , что Вячеслав Максимов , заместитель генерального директора компании , возглавил направление по оптимизации процессов управления информационной безопасностью '])"
      ]
    },
    {
      "cell_type": "code",
      "execution_count": null,
      "metadata": {
        "id": "78gnLm-cLNE_"
      },
      "outputs": [],
      "source": [
        "\n",
        "a = ner_model(['альфа-банк уведомил российские оборонные предприятия о намерении прекратить их обслуживание из-за санкций. @banksta'])"
      ]
    },
    {
      "cell_type": "code",
      "execution_count": null,
      "metadata": {
        "id": "fmztstqYLuOa"
      },
      "outputs": [],
      "source": [
        "k,v = ner_model(['«газпром» уложил уже 38% морского участка «турецкого потока» - миллер'])\n",
        "k,v = k[0], v[0]\n",
        "for i, j in zip(k, v):\n",
        "  print(i, j)"
      ]
    },
    {
      "cell_type": "code",
      "execution_count": null,
      "metadata": {
        "id": "W2b5QlkGMZHJ"
      },
      "outputs": [],
      "source": [
        "len(k[0])"
      ]
    },
    {
      "cell_type": "code",
      "execution_count": null,
      "metadata": {
        "id": "MgdzbL3WBF69"
      },
      "outputs": [],
      "source": [
        "pip install fasttext"
      ]
    },
    {
      "cell_type": "code",
      "execution_count": null,
      "metadata": {
        "id": "-V2QJ3BpBF69"
      },
      "outputs": [],
      "source": [
        "!pip uninstall tensorflow --yes\n",
        "!pip install tensorflow==1.14.0\n",
        "#!pip uninstall tensorflow --yes\n",
        "#!pip install tensorflow==1.15.2"
      ]
    },
    {
      "cell_type": "markdown",
      "metadata": {
        "id": "ipKDRV2mKcob"
      },
      "source": [
        "## Обрабатываем данные"
      ]
    },
    {
      "cell_type": "code",
      "execution_count": null,
      "metadata": {
        "id": "91vx_CgEiTYl"
      },
      "outputs": [],
      "source": [
        "df_1 = df.copy().head(100000)"
      ]
    },
    {
      "cell_type": "code",
      "execution_count": null,
      "metadata": {
        "id": "cM5aynLiKQF6"
      },
      "outputs": [],
      "source": [
        "df_1['Разметка'] = df_1['message'].apply(lambda x: ner_model([str(x)]))\n"
      ]
    },
    {
      "cell_type": "code",
      "execution_count": null,
      "metadata": {
        "id": "6h2GkdNpR3wD"
      },
      "outputs": [],
      "source": [
        "from pandas_profiling import ProfileReport"
      ]
    },
    {
      "cell_type": "code",
      "execution_count": null,
      "metadata": {
        "id": "30WrktAwox9c"
      },
      "outputs": [],
      "source": [
        "!pip uninstall pandas==1.2.0\n",
        "!pip install pandas==0.20.3\n"
      ]
    },
    {
      "cell_type": "code",
      "execution_count": null,
      "metadata": {
        "id": "tJis6FRzMPDt"
      },
      "outputs": [],
      "source": [
        "df_1.to_csv('/content/sample_data/df_10k.csv')"
      ]
    },
    {
      "cell_type": "markdown",
      "metadata": {
        "id": "XGmScOnc0Ww8"
      },
      "source": [
        "# Cpacy"
      ]
    },
    {
      "cell_type": "code",
      "execution_count": 5,
      "metadata": {
        "id": "aNHaTRqe0f4A",
        "colab": {
          "base_uri": "https://localhost:8080/"
        },
        "outputId": "c3be065c-7f2c-461f-c0d5-5817fc54ecc7"
      },
      "outputs": [
        {
          "output_type": "stream",
          "name": "stdout",
          "text": [
            "Requirement already satisfied: spacy in /usr/local/lib/python3.7/dist-packages (2.2.4)\n",
            "Collecting spacy\n",
            "  Downloading spacy-3.2.4-cp37-cp37m-manylinux_2_17_x86_64.manylinux2014_x86_64.whl (6.0 MB)\n",
            "\u001b[K     |████████████████████████████████| 6.0 MB 4.6 MB/s \n",
            "\u001b[?25hCollecting catalogue<2.1.0,>=2.0.6\n",
            "  Downloading catalogue-2.0.7-py3-none-any.whl (17 kB)\n",
            "Requirement already satisfied: packaging>=20.0 in /usr/local/lib/python3.7/dist-packages (from spacy) (21.3)\n",
            "Requirement already satisfied: tqdm<5.0.0,>=4.38.0 in /usr/local/lib/python3.7/dist-packages (from spacy) (4.63.0)\n",
            "Requirement already satisfied: numpy>=1.15.0 in /usr/local/lib/python3.7/dist-packages (from spacy) (1.21.5)\n",
            "Collecting thinc<8.1.0,>=8.0.12\n",
            "  Downloading thinc-8.0.15-cp37-cp37m-manylinux_2_17_x86_64.manylinux2014_x86_64.whl (653 kB)\n",
            "\u001b[K     |████████████████████████████████| 653 kB 39.2 MB/s \n",
            "\u001b[?25hCollecting srsly<3.0.0,>=2.4.1\n",
            "  Downloading srsly-2.4.2-cp37-cp37m-manylinux_2_17_x86_64.manylinux2014_x86_64.whl (451 kB)\n",
            "\u001b[K     |████████████████████████████████| 451 kB 43.7 MB/s \n",
            "\u001b[?25hCollecting pydantic!=1.8,!=1.8.1,<1.9.0,>=1.7.4\n",
            "  Downloading pydantic-1.8.2-cp37-cp37m-manylinux2014_x86_64.whl (10.1 MB)\n",
            "\u001b[K     |████████████████████████████████| 10.1 MB 39.1 MB/s \n",
            "\u001b[?25hCollecting pathy>=0.3.5\n",
            "  Downloading pathy-0.6.1-py3-none-any.whl (42 kB)\n",
            "\u001b[K     |████████████████████████████████| 42 kB 1.4 MB/s \n",
            "\u001b[?25hCollecting langcodes<4.0.0,>=3.2.0\n",
            "  Downloading langcodes-3.3.0-py3-none-any.whl (181 kB)\n",
            "\u001b[K     |████████████████████████████████| 181 kB 44.7 MB/s \n",
            "\u001b[?25hRequirement already satisfied: setuptools in /usr/local/lib/python3.7/dist-packages (from spacy) (57.4.0)\n",
            "Requirement already satisfied: jinja2 in /usr/local/lib/python3.7/dist-packages (from spacy) (2.11.3)\n",
            "Requirement already satisfied: typing-extensions<4.0.0.0,>=3.7.4 in /usr/local/lib/python3.7/dist-packages (from spacy) (3.10.0.2)\n",
            "Requirement already satisfied: murmurhash<1.1.0,>=0.28.0 in /usr/local/lib/python3.7/dist-packages (from spacy) (1.0.6)\n",
            "Requirement already satisfied: requests<3.0.0,>=2.13.0 in /usr/local/lib/python3.7/dist-packages (from spacy) (2.23.0)\n",
            "Collecting typer<0.5.0,>=0.3.0\n",
            "  Downloading typer-0.4.1-py3-none-any.whl (27 kB)\n",
            "Requirement already satisfied: click<8.1.0 in /usr/local/lib/python3.7/dist-packages (from spacy) (7.1.2)\n",
            "Requirement already satisfied: blis<0.8.0,>=0.4.0 in /usr/local/lib/python3.7/dist-packages (from spacy) (0.4.1)\n",
            "Collecting spacy-legacy<3.1.0,>=3.0.8\n",
            "  Downloading spacy_legacy-3.0.9-py2.py3-none-any.whl (20 kB)\n",
            "Requirement already satisfied: cymem<2.1.0,>=2.0.2 in /usr/local/lib/python3.7/dist-packages (from spacy) (2.0.6)\n",
            "Requirement already satisfied: wasabi<1.1.0,>=0.8.1 in /usr/local/lib/python3.7/dist-packages (from spacy) (0.9.0)\n",
            "Collecting spacy-loggers<2.0.0,>=1.0.0\n",
            "  Downloading spacy_loggers-1.0.2-py3-none-any.whl (7.2 kB)\n",
            "Requirement already satisfied: preshed<3.1.0,>=3.0.2 in /usr/local/lib/python3.7/dist-packages (from spacy) (3.0.6)\n",
            "Requirement already satisfied: zipp>=0.5 in /usr/local/lib/python3.7/dist-packages (from catalogue<2.1.0,>=2.0.6->spacy) (3.7.0)\n",
            "Requirement already satisfied: pyparsing!=3.0.5,>=2.0.2 in /usr/local/lib/python3.7/dist-packages (from packaging>=20.0->spacy) (3.0.7)\n",
            "Requirement already satisfied: smart-open<6.0.0,>=5.0.0 in /usr/local/lib/python3.7/dist-packages (from pathy>=0.3.5->spacy) (5.2.1)\n",
            "Requirement already satisfied: idna<3,>=2.5 in /usr/local/lib/python3.7/dist-packages (from requests<3.0.0,>=2.13.0->spacy) (2.10)\n",
            "Requirement already satisfied: urllib3!=1.25.0,!=1.25.1,<1.26,>=1.21.1 in /usr/local/lib/python3.7/dist-packages (from requests<3.0.0,>=2.13.0->spacy) (1.24.3)\n",
            "Requirement already satisfied: chardet<4,>=3.0.2 in /usr/local/lib/python3.7/dist-packages (from requests<3.0.0,>=2.13.0->spacy) (3.0.4)\n",
            "Requirement already satisfied: certifi>=2017.4.17 in /usr/local/lib/python3.7/dist-packages (from requests<3.0.0,>=2.13.0->spacy) (2021.10.8)\n",
            "Requirement already satisfied: MarkupSafe>=0.23 in /usr/local/lib/python3.7/dist-packages (from jinja2->spacy) (2.0.1)\n",
            "Installing collected packages: catalogue, typer, srsly, pydantic, thinc, spacy-loggers, spacy-legacy, pathy, langcodes, spacy\n",
            "  Attempting uninstall: catalogue\n",
            "    Found existing installation: catalogue 1.0.0\n",
            "    Uninstalling catalogue-1.0.0:\n",
            "      Successfully uninstalled catalogue-1.0.0\n",
            "  Attempting uninstall: srsly\n",
            "    Found existing installation: srsly 1.0.5\n",
            "    Uninstalling srsly-1.0.5:\n",
            "      Successfully uninstalled srsly-1.0.5\n",
            "  Attempting uninstall: thinc\n",
            "    Found existing installation: thinc 7.4.0\n",
            "    Uninstalling thinc-7.4.0:\n",
            "      Successfully uninstalled thinc-7.4.0\n",
            "  Attempting uninstall: spacy\n",
            "    Found existing installation: spacy 2.2.4\n",
            "    Uninstalling spacy-2.2.4:\n",
            "      Successfully uninstalled spacy-2.2.4\n",
            "Successfully installed catalogue-2.0.7 langcodes-3.3.0 pathy-0.6.1 pydantic-1.8.2 spacy-3.2.4 spacy-legacy-3.0.9 spacy-loggers-1.0.2 srsly-2.4.2 thinc-8.0.15 typer-0.4.1\n"
          ]
        }
      ],
      "source": [
        "!pip install -U spacy"
      ]
    },
    {
      "cell_type": "code",
      "execution_count": 6,
      "metadata": {
        "id": "4fDQ93Bm0wKi"
      },
      "outputs": [],
      "source": [
        "import spacy\n",
        "from spacy import displacy\n",
        "from collections import Counter\n",
        "import pandas as pd\n",
        "pd.options.display.max_rows = 600\n",
        "pd.options.display.max_colwidth = 400"
      ]
    },
    {
      "cell_type": "code",
      "execution_count": 7,
      "metadata": {
        "colab": {
          "base_uri": "https://localhost:8080/",
          "height": 35
        },
        "id": "9O-ochW809oJ",
        "outputId": "48d0be00-b1c2-43eb-b166-587a8724d4fe"
      },
      "outputs": [
        {
          "output_type": "execute_result",
          "data": {
            "text/plain": [
              "'3.2.4'"
            ],
            "application/vnd.google.colaboratory.intrinsic+json": {
              "type": "string"
            }
          },
          "metadata": {},
          "execution_count": 7
        }
      ],
      "source": [
        "spacy.__version__"
      ]
    },
    {
      "cell_type": "code",
      "execution_count": 8,
      "metadata": {
        "colab": {
          "base_uri": "https://localhost:8080/"
        },
        "id": "83n0ihfb2NvN",
        "outputId": "dfaec42c-ccbe-4ba9-e9ea-7bc2755c0429"
      },
      "outputs": [
        {
          "output_type": "stream",
          "name": "stdout",
          "text": [
            "Collecting ru-core-news-md==3.2.0\n",
            "  Downloading https://github.com/explosion/spacy-models/releases/download/ru_core_news_md-3.2.0/ru_core_news_md-3.2.0-py3-none-any.whl (43.0 MB)\n",
            "\u001b[K     |████████████████████████████████| 43.0 MB 2.1 MB/s \n",
            "\u001b[?25hCollecting pymorphy2>=0.9\n",
            "  Downloading pymorphy2-0.9.1-py3-none-any.whl (55 kB)\n",
            "\u001b[K     |████████████████████████████████| 55 kB 2.0 MB/s \n",
            "\u001b[?25hRequirement already satisfied: spacy<3.3.0,>=3.2.0 in /usr/local/lib/python3.7/dist-packages (from ru-core-news-md==3.2.0) (3.2.4)\n",
            "Collecting pymorphy2-dicts-ru<3.0,>=2.4\n",
            "  Downloading pymorphy2_dicts_ru-2.4.417127.4579844-py2.py3-none-any.whl (8.2 MB)\n",
            "\u001b[K     |████████████████████████████████| 8.2 MB 8.5 MB/s \n",
            "\u001b[?25hCollecting dawg-python>=0.7.1\n",
            "  Downloading DAWG_Python-0.7.2-py2.py3-none-any.whl (11 kB)\n",
            "Requirement already satisfied: docopt>=0.6 in /usr/local/lib/python3.7/dist-packages (from pymorphy2>=0.9->ru-core-news-md==3.2.0) (0.6.2)\n",
            "Requirement already satisfied: srsly<3.0.0,>=2.4.1 in /usr/local/lib/python3.7/dist-packages (from spacy<3.3.0,>=3.2.0->ru-core-news-md==3.2.0) (2.4.2)\n",
            "Requirement already satisfied: setuptools in /usr/local/lib/python3.7/dist-packages (from spacy<3.3.0,>=3.2.0->ru-core-news-md==3.2.0) (57.4.0)\n",
            "Requirement already satisfied: pathy>=0.3.5 in /usr/local/lib/python3.7/dist-packages (from spacy<3.3.0,>=3.2.0->ru-core-news-md==3.2.0) (0.6.1)\n",
            "Requirement already satisfied: packaging>=20.0 in /usr/local/lib/python3.7/dist-packages (from spacy<3.3.0,>=3.2.0->ru-core-news-md==3.2.0) (21.3)\n",
            "Requirement already satisfied: langcodes<4.0.0,>=3.2.0 in /usr/local/lib/python3.7/dist-packages (from spacy<3.3.0,>=3.2.0->ru-core-news-md==3.2.0) (3.3.0)\n",
            "Requirement already satisfied: preshed<3.1.0,>=3.0.2 in /usr/local/lib/python3.7/dist-packages (from spacy<3.3.0,>=3.2.0->ru-core-news-md==3.2.0) (3.0.6)\n",
            "Requirement already satisfied: pydantic!=1.8,!=1.8.1,<1.9.0,>=1.7.4 in /usr/local/lib/python3.7/dist-packages (from spacy<3.3.0,>=3.2.0->ru-core-news-md==3.2.0) (1.8.2)\n",
            "Requirement already satisfied: tqdm<5.0.0,>=4.38.0 in /usr/local/lib/python3.7/dist-packages (from spacy<3.3.0,>=3.2.0->ru-core-news-md==3.2.0) (4.63.0)\n",
            "Requirement already satisfied: wasabi<1.1.0,>=0.8.1 in /usr/local/lib/python3.7/dist-packages (from spacy<3.3.0,>=3.2.0->ru-core-news-md==3.2.0) (0.9.0)\n",
            "Requirement already satisfied: murmurhash<1.1.0,>=0.28.0 in /usr/local/lib/python3.7/dist-packages (from spacy<3.3.0,>=3.2.0->ru-core-news-md==3.2.0) (1.0.6)\n",
            "Requirement already satisfied: spacy-legacy<3.1.0,>=3.0.8 in /usr/local/lib/python3.7/dist-packages (from spacy<3.3.0,>=3.2.0->ru-core-news-md==3.2.0) (3.0.9)\n",
            "Requirement already satisfied: click<8.1.0 in /usr/local/lib/python3.7/dist-packages (from spacy<3.3.0,>=3.2.0->ru-core-news-md==3.2.0) (7.1.2)\n",
            "Requirement already satisfied: thinc<8.1.0,>=8.0.12 in /usr/local/lib/python3.7/dist-packages (from spacy<3.3.0,>=3.2.0->ru-core-news-md==3.2.0) (8.0.15)\n",
            "Requirement already satisfied: typer<0.5.0,>=0.3.0 in /usr/local/lib/python3.7/dist-packages (from spacy<3.3.0,>=3.2.0->ru-core-news-md==3.2.0) (0.4.1)\n",
            "Requirement already satisfied: numpy>=1.15.0 in /usr/local/lib/python3.7/dist-packages (from spacy<3.3.0,>=3.2.0->ru-core-news-md==3.2.0) (1.21.5)\n",
            "Requirement already satisfied: jinja2 in /usr/local/lib/python3.7/dist-packages (from spacy<3.3.0,>=3.2.0->ru-core-news-md==3.2.0) (2.11.3)\n",
            "Requirement already satisfied: catalogue<2.1.0,>=2.0.6 in /usr/local/lib/python3.7/dist-packages (from spacy<3.3.0,>=3.2.0->ru-core-news-md==3.2.0) (2.0.7)\n",
            "Requirement already satisfied: blis<0.8.0,>=0.4.0 in /usr/local/lib/python3.7/dist-packages (from spacy<3.3.0,>=3.2.0->ru-core-news-md==3.2.0) (0.4.1)\n",
            "Requirement already satisfied: typing-extensions<4.0.0.0,>=3.7.4 in /usr/local/lib/python3.7/dist-packages (from spacy<3.3.0,>=3.2.0->ru-core-news-md==3.2.0) (3.10.0.2)\n",
            "Requirement already satisfied: spacy-loggers<2.0.0,>=1.0.0 in /usr/local/lib/python3.7/dist-packages (from spacy<3.3.0,>=3.2.0->ru-core-news-md==3.2.0) (1.0.2)\n",
            "Requirement already satisfied: cymem<2.1.0,>=2.0.2 in /usr/local/lib/python3.7/dist-packages (from spacy<3.3.0,>=3.2.0->ru-core-news-md==3.2.0) (2.0.6)\n",
            "Requirement already satisfied: requests<3.0.0,>=2.13.0 in /usr/local/lib/python3.7/dist-packages (from spacy<3.3.0,>=3.2.0->ru-core-news-md==3.2.0) (2.23.0)\n",
            "Requirement already satisfied: zipp>=0.5 in /usr/local/lib/python3.7/dist-packages (from catalogue<2.1.0,>=2.0.6->spacy<3.3.0,>=3.2.0->ru-core-news-md==3.2.0) (3.7.0)\n",
            "Requirement already satisfied: pyparsing!=3.0.5,>=2.0.2 in /usr/local/lib/python3.7/dist-packages (from packaging>=20.0->spacy<3.3.0,>=3.2.0->ru-core-news-md==3.2.0) (3.0.7)\n",
            "Requirement already satisfied: smart-open<6.0.0,>=5.0.0 in /usr/local/lib/python3.7/dist-packages (from pathy>=0.3.5->spacy<3.3.0,>=3.2.0->ru-core-news-md==3.2.0) (5.2.1)\n",
            "Requirement already satisfied: urllib3!=1.25.0,!=1.25.1,<1.26,>=1.21.1 in /usr/local/lib/python3.7/dist-packages (from requests<3.0.0,>=2.13.0->spacy<3.3.0,>=3.2.0->ru-core-news-md==3.2.0) (1.24.3)\n",
            "Requirement already satisfied: certifi>=2017.4.17 in /usr/local/lib/python3.7/dist-packages (from requests<3.0.0,>=2.13.0->spacy<3.3.0,>=3.2.0->ru-core-news-md==3.2.0) (2021.10.8)\n",
            "Requirement already satisfied: chardet<4,>=3.0.2 in /usr/local/lib/python3.7/dist-packages (from requests<3.0.0,>=2.13.0->spacy<3.3.0,>=3.2.0->ru-core-news-md==3.2.0) (3.0.4)\n",
            "Requirement already satisfied: idna<3,>=2.5 in /usr/local/lib/python3.7/dist-packages (from requests<3.0.0,>=2.13.0->spacy<3.3.0,>=3.2.0->ru-core-news-md==3.2.0) (2.10)\n",
            "Requirement already satisfied: MarkupSafe>=0.23 in /usr/local/lib/python3.7/dist-packages (from jinja2->spacy<3.3.0,>=3.2.0->ru-core-news-md==3.2.0) (2.0.1)\n",
            "Installing collected packages: pymorphy2-dicts-ru, dawg-python, pymorphy2, ru-core-news-md\n",
            "Successfully installed dawg-python-0.7.2 pymorphy2-0.9.1 pymorphy2-dicts-ru-2.4.417127.4579844 ru-core-news-md-3.2.0\n",
            "\u001b[38;5;2m✔ Download and installation successful\u001b[0m\n",
            "You can now load the package via spacy.load('ru_core_news_md')\n"
          ]
        }
      ],
      "source": [
        "!python -m spacy download ru_core_news_md"
      ]
    },
    {
      "cell_type": "code",
      "execution_count": 9,
      "metadata": {
        "id": "GV2czoIN1zj8"
      },
      "outputs": [],
      "source": [
        "import ru_core_news_md\n",
        "nlp = ru_core_news_md.load()"
      ]
    },
    {
      "cell_type": "code",
      "execution_count": 23,
      "metadata": {
        "id": "bplf6blO5HrD"
      },
      "outputs": [],
      "source": [
        "def get_orgs(x):\n",
        "  y = list(x)\n",
        "  j = []\n",
        "  l = []\n",
        "  for i in y:\n",
        "    document = nlp(str(i))\n",
        "    l = []\n",
        "    for named_entity in document.ents:\n",
        "      if named_entity.label_ == 'ORG':\n",
        "        l.append(str(named_entity))\n",
        "    j.append(list(set(l)))\n",
        "  return j\n"
      ]
    },
    {
      "cell_type": "code",
      "source": [
        "news.dropna(inplace = True)\n",
        "news.reset_index(inplace = True)"
      ],
      "metadata": {
        "id": "-_HWnpgUyeWi"
      },
      "execution_count": 19,
      "outputs": []
    },
    {
      "cell_type": "code",
      "source": [
        "news"
      ],
      "metadata": {
        "id": "PQ39K-33z7Fz"
      },
      "execution_count": null,
      "outputs": []
    },
    {
      "cell_type": "code",
      "execution_count": 25,
      "metadata": {
        "id": "hhmvCWSiFztg"
      },
      "outputs": [],
      "source": [
        "#x = news['message'].head(1000)"
      ]
    },
    {
      "cell_type": "code",
      "execution_count": null,
      "metadata": {
        "id": "HHN3EIlCHPHa"
      },
      "outputs": [],
      "source": [
        "news['message']"
      ]
    },
    {
      "cell_type": "code",
      "execution_count": 26,
      "metadata": {
        "id": "YQDI8lcnGEeD"
      },
      "outputs": [],
      "source": [
        "#lables = get_orgs(x)\n",
        "lables = get_orgs(news['message'])"
      ]
    },
    {
      "cell_type": "code",
      "execution_count": 28,
      "metadata": {
        "id": "9AZMhZeWPmIY"
      },
      "outputs": [],
      "source": [
        "#news_1000 = news.head(1000)"
      ]
    },
    {
      "cell_type": "code",
      "execution_count": 29,
      "metadata": {
        "colab": {
          "base_uri": "https://localhost:8080/"
        },
        "id": "RK4BdlokGFFf",
        "outputId": "6779d661-ede3-4e7e-ee7f-b02475351d8a"
      },
      "outputs": [
        {
          "output_type": "stream",
          "name": "stderr",
          "text": [
            "/usr/local/lib/python3.7/dist-packages/ipykernel_launcher.py:1: SettingWithCopyWarning: \n",
            "A value is trying to be set on a copy of a slice from a DataFrame.\n",
            "Try using .loc[row_indexer,col_indexer] = value instead\n",
            "\n",
            "See the caveats in the documentation: https://pandas.pydata.org/pandas-docs/stable/user_guide/indexing.html#returning-a-view-versus-a-copy\n",
            "  \"\"\"Entry point for launching an IPython kernel.\n"
          ]
        }
      ],
      "source": [
        "#news_1000['lables'] = lables\n",
        "news['lables'] = lables"
      ]
    },
    {
      "cell_type": "code",
      "execution_count": 30,
      "metadata": {
        "id": "fR4Sm3PVVJKe"
      },
      "outputs": [],
      "source": [
        "#news_1000 = news_1000.explode('lables', ignore_index = True)\n",
        "news_1 = news.explode('lables', ignore_index = True)"
      ]
    },
    {
      "cell_type": "code",
      "source": [
        "news_1.dropna(inplace = True)\n",
        "news_1.reset_index(inplace = True)"
      ],
      "metadata": {
        "id": "rj1kAkEx3vrX"
      },
      "execution_count": 32,
      "outputs": []
    },
    {
      "cell_type": "code",
      "source": [
        "news_1.to_csv('texts.csv')"
      ],
      "metadata": {
        "id": "vYaY86611Pwm"
      },
      "execution_count": null,
      "outputs": []
    },
    {
      "cell_type": "markdown",
      "source": [
        "# Ниже можно не прогонять"
      ],
      "metadata": {
        "id": "vRTUkTsG1euS"
      }
    },
    {
      "cell_type": "code",
      "execution_count": null,
      "metadata": {
        "colab": {
          "base_uri": "https://localhost:8080/"
        },
        "id": "E_zaQm58HDsd",
        "outputId": "80c67905-5540-486f-fb3f-c47c0a5c9354"
      },
      "outputs": [
        {
          "data": {
            "text/plain": [
              "nan                                                                       407\n",
              "втб                                                                       207\n",
              "цб                                                                         50\n",
              "фрс                                                                        48\n",
              "castbox                                                                    32\n",
              "vk                                                                         32\n",
              "youtube                                                                    32\n",
              "soundcloud                                                                 32\n",
              "яндекс.музыке                                                              31\n",
              "apple podcasts                                                             29\n",
              "apple                                                                      28\n",
              "опек+                                                                      26\n",
              "газпром                                                                    24\n",
              "tesla                                                                      15\n",
              "amazon                                                                     14\n",
              "microsoft                                                                  13\n",
              "esg                                                                        10\n",
              "банка россии                                                               10\n",
              "com                                                                         9\n",
              "русал                                                                       9\n",
              "facebook                                                                    9\n",
              "ммк                                                                         9\n",
              "мосбиржи                                                                    8\n",
              "bloomberg                                                                   8\n",
              "мтс                                                                         7\n",
              "минфин                                                                      7\n",
              "втб капитал                                                                 6\n",
              "ipo                                                                         6\n",
              "сбербанк                                                                    6\n",
              "samsung                                                                     6\n",
              "pfizer                                                                      6\n",
              "alibaba                                                                     6\n",
              "бристоль                                                                    6\n",
              "магнит                                                                      5\n",
              "uber                                                                        5\n",
              "tencent                                                                     5\n",
              "ozon                                                                        5\n",
              "richemont                                                                   5\n",
              "ецб                                                                         5\n",
              "trip                                                                        5\n",
              "театра балета                                                               5\n",
              "ростелеком                                                                  5\n",
              "роснефти                                                                    4\n",
              "mcdonald's                                                                  4\n",
              "норникель                                                                   4\n",
              "акрон                                                                       4\n",
              "alphabet                                                                    4\n",
              "nasdaq                                                                      4\n",
              "сегежа                                                                      4\n",
              "оон                                                                         4\n",
              "интер рао                                                                   4\n",
              "hugo boss                                                                   4\n",
              "msci russia                                                                 4\n",
              "🇨🇳                                                                          4\n",
              "intel                                                                       4\n",
              "netflix                                                                     4\n",
              "м.видео                                                                     4\n",
              "ford                                                                        4\n",
              "en+                                                                         4\n",
              "x5                                                                          4\n",
              "роснефть                                                                    4\n",
              "tapestry                                                                    3\n",
              "минфина                                                                     3\n",
              "deutsche telekom                                                            3\n",
              "алроса                                                                      3\n",
              "amadeus it group                                                            3\n",
              "softline                                                                    3\n",
              "emc                                                                         3\n",
              "jd                                                                          3\n",
              "mgnt                                                                        3\n",
              "netease                                                                     3\n",
              "fedex                                                                       3\n",
              "сми                                                                         3\n",
              "дикси                                                                       3\n",
              "русала                                                                      3\n",
              "coca-cola                                                                   3\n",
              "x5 group                                                                    3\n",
              "google                                                                      3\n",
              "moderna                                                                     3\n",
              "headhunter                                                                  3\n",
              "спб биржи                                                                   3\n",
              "московской биржи                                                            3\n",
              "mosaic                                                                      3\n",
              "halliburton                                                                 3\n",
              "конгресса                                                                   3\n",
              "totalenergies                                                               3\n",
              "опек                                                                        3\n",
              "новатэк                                                                     3\n",
              "polymetal                                                                   3\n",
              "гк                                                                          3\n",
              "renault                                                                     3\n",
              "📣                                                                           3\n",
              "allianz                                                                     3\n",
              "reuters                                                                     3\n",
              "воз                                                                         3\n",
              "спб бирже                                                                   3\n",
              "veon                                                                        3\n",
              "qualcomm                                                                    3\n",
              "сбербанка                                                                   3\n",
              "royal caribbean                                                             3\n",
              "covestro                                                                    3\n",
              "robinhood                                                                   2\n",
              "globaltrans                                                                 2\n",
              "victoria's secret                                                           2\n",
              "aflt                                                                        2\n",
              "walmart                                                                     2\n",
              "sap                                                                         2\n",
              "fix price                                                                   2\n",
              "газпром нефть                                                               2\n",
              "нпз                                                                         2\n",
              "газпрома                                                                    2\n",
              "mercury retail group                                                        2\n",
              "алросы                                                                      2\n",
              "красное & белое                                                             2\n",
              "магнита                                                                     2\n",
              "tyson                                                                       2\n",
              "👆                                                                           2\n",
              "жрс                                                                         2\n",
              "faang                                                                       2\n",
              "fitch                                                                       2\n",
              "мвф                                                                         2\n",
              "tsla                                                                        2\n",
              "центробанка                                                                 2\n",
              "северстали                                                                  2\n",
              "exxon                                                                       2\n",
              "amr international                                                           2\n",
              "foxconn                                                                     2\n",
              "schlumberger                                                                2\n",
              "lvmh                                                                        2\n",
              "alcoa                                                                       2\n",
              "банк                                                                        2\n",
              "hertz                                                                       2\n",
              "сп                                                                          2\n",
              "nvidia                                                                      2\n",
              "пао московская биржа                                                        2\n",
              "polestar                                                                    2\n",
              "pmi                                                                         2\n",
              "bank of america                                                             2\n",
              "офз                                                                         2\n",
              "россия зовёт!                                                               2\n",
              "spo                                                                         2\n",
              "эн+                                                                         2\n",
              "rivian                                                                      2\n",
              "пао «спб биржа»                                                             2\n",
              "ts lombard\\n\\n🎥                                                             2\n",
              "ростелекома                                                                 2\n",
              "динамо                                                                      2\n",
              "22v research\\n\\n                                                            2\n",
              "аэрофлот                                                                    2\n",
              "nordea                                                                      2\n",
              "nikkei                                                                      2\n",
              "chalco                                                                      2\n",
              "русагро                                                                     2\n",
              "financial times                                                             2\n",
              "ism                                                                         2\n",
              "pdf                                                                         2\n",
              "delta                                                                       2\n",
              "biontech                                                                    2\n",
              "instagram                                                                   2\n",
              "аэрофлота                                                                   2\n",
              "inditex                                                                     2\n",
              "evergrande                                                                  2\n",
              "спб биржа                                                                   2\n",
              "евраза                                                                      2\n",
              "втб – фонд акций                                                            2\n",
              "fda                                                                         2\n",
              "втб – фонд облигаций                                                        2\n",
              "яндекс                                                                      2\n",
              "роснано                                                                     2\n",
              "коммерсантъ                                                                 1\n",
              "national grid                                                               1\n",
              "industrial bank of china                                                    1\n",
              "bershka                                                                     1\n",
              "playstation                                                                 1\n",
              "xbox                                                                        1\n",
              "hang seng                                                                   1\n",
              "alipay                                                                      1\n",
              "lg chem                                                                     1\n",
              "🚗 gm                                                                        1\n",
              "фк открытие (100% банка                                                     1\n",
              "ray-ban - компанией                                                         1\n",
              "zara                                                                        1\n",
              "mail                                                                        1\n",
              "интерфакса                                                                  1\n",
              "ru group                                                                    1\n",
              "pull&bear                                                                   1\n",
              "синьхуа                                                                     1\n",
              "лср                                                                         1\n",
              "ru                                                                          1\n",
              "rockstar games                                                              1\n",
              "playdots                                                                    1\n",
              "pfe                                                                         1\n",
              "applied materials                                                           1\n",
              "gm                                                                          1\n",
              "hood                                                                        1\n",
              "ru                                                                          1\n",
              "гк «самолёт»                                                                1\n",
              "essilorluxotica (eslx pa)                                                   1\n",
              "яндекс.маркета                                                              1\n",
              "kioxia                                                                      1\n",
              "вв                                                                          1\n",
              "❗️                                                                          1\n",
              "micron technology                                                           1\n",
              "western digital                                                             1\n",
              "вэи                                                                         1\n",
              "first solar                                                                 1\n",
              "china securities journal                                                    1\n",
              "vestas wind systems                                                         1\n",
              "svav                                                                        1\n",
              "dominion energy                                                             1\n",
              "dominion                                                                    1\n",
              "enki research                                                               1\n",
              "huaneng power                                                               1\n",
              "valero energy                                                               1\n",
              "darling ingredients                                                         1\n",
              "google play                                                                 1\n",
              "appstore                                                                    1\n",
              "t-mobile                                                                    1\n",
              "nand                                                                        1\n",
              "rosn                                                                        1\n",
              "лента                                                                       1\n",
              "руб./акцию                                                                  1\n",
              "samsung electronics                                                         1\n",
              "facebook/essilorluxotica                                                    1\n",
              "демократическая партия                                                      1\n",
              "alaska air                                                                  1\n",
              "ihg                                                                         1\n",
              "mail.rugroup                                                                1\n",
              "dufry                                                                       1\n",
              "whitbread                                                                   1\n",
              "china southern airlines                                                     1\n",
              "delta airlines                                                              1\n",
              "autogrill                                                                   1\n",
              "accor                                                                       1\n",
              "international airlines group                                                1\n",
              "essilorluxotica                                                             1\n",
              "нефть и газ                                                                 1\n",
              "телекоммуникации и медиа россии                                             1\n",
              "гк «самолет»                                                                1\n",
              "🚕 softbank group                                                            1\n",
              "china life insurance                                                        1\n",
              "rvia                                                                        1\n",
              "victoria's secret                                                           1\n",
              "victoria's secret                                                           1\n",
              "galactic                                                                    1\n",
              "blue origin                                                                 1\n",
              "vip.com                                                                     1\n",
              "vipshop                                                                     1\n",
              "petra diamonds                                                              1\n",
              "virgin galactic                                                             1\n",
              "sogou                                                                       1\n",
              "звр                                                                         1\n",
              "afterpay                                                                    1\n",
              "zip                                                                         1\n",
              "sezzie                                                                      1\n",
              "huntington                                                                  1\n",
              "gs                                                                          1\n",
              "spdr regional bank etf (kre us)                                             1\n",
              "tsmc taiwan semiconductor                                                   1\n",
              "delta                                                                       1\n",
              "rwe                                                                         1\n",
              "фас                                                                         1\n",
              "nordea                                                                      1\n",
              "zalando                                                                     1\n",
              "boohoo                                                                      1\n",
              "asos                                                                        1\n",
              "европарламент                                                               1\n",
              "фрс доходности гособлигаций                                                 1\n",
              "🚗 tesla                                                                     1\n",
              "astrozeneca                                                                 1\n",
              "buyback                                                                     1\n",
              "capri                                                                       1\n",
              "winnebago industries                                                        1\n",
              "мтт                                                                         1\n",
              "natura & co                                                                 1\n",
              "dbs group                                                                   1\n",
              "apple 5g                                                                    1\n",
              "caixin                                                                      1\n",
              "micron                                                                      1\n",
              "s&p                                                                         1\n",
              "moody’s                                                                     1\n",
              "таиф-нк                                                                     1\n",
              "газпром нефть\\n\\n                                                           1\n",
              "tyson foods                                                                 1\n",
              "опек +                                                                      1\n",
              "uber                                                                        1\n",
              "ryanair                                                                     1\n",
              "elastic                                                                     1\n",
              "camping world holdings                                                      1\n",
              "kellogg                                                                     1\n",
              "lamborghini                                                                 1\n",
              "seat                                                                        1\n",
              "audi                                                                        1\n",
              "skoda                                                                       1\n",
              "министерство обороны                                                        1\n",
              "nasdaq                                                                      1\n",
              "nasdaq 100                                                                  1\n",
              "втб-ликвидность                                                             1\n",
              "sual partners                                                               1\n",
              "bac                                                                         1\n",
              "siemens                                                                     1\n",
              "двэук - генерациясети                                                       1\n",
              "ibm                                                                         1\n",
              "qiwi                                                                        1\n",
              "rl                                                                          1\n",
              "bp                                                                          1\n",
              "ralph lauren                                                                1\n",
              "biomarin pharmaceutical                                                     1\n",
              "incyte                                                                      1\n",
              "avalonbay communities                                                       1\n",
              "tcsg                                                                        1\n",
              "adp                                                                         1\n",
              "🧪 covestro                                                                  1\n",
              "andreessen horowitz\\n\\n                                                     1\n",
              "цска                                                                        1\n",
              "camping world                                                               1\n",
              "geely holding                                                               1\n",
              "sanderson                                                                   1\n",
              "росавиации                                                                  1\n",
              "skillbox                                                                    1\n",
              "mail                                                                        1\n",
              "sunac                                                                       1\n",
              "avast                                                                       1\n",
              "ehealth                                                                     1\n",
              "altice usa                                                                  1\n",
              "altice                                                                      1\n",
              "expedia                                                                     1\n",
              "booking                                                                     1\n",
              "disney                                                                      1\n",
              "алросой                                                                     1\n",
              "rua                                                                         1\n",
              "arm                                                                         1\n",
              "mvid                                                                        1\n",
              "barclays                                                                    1\n",
              "🏦 банк                                                                      1\n",
              "texas instruments                                                           1\n",
              "baker hughes                                                                1\n",
              "astrazeneca                                                                 1\n",
              "coca-cola - это                                                             1\n",
              "втб-фонд казначейский                                                       1\n",
              "snap                                                                        1\n",
              "gs acquisition holdings corp ii                                             1\n",
              "gores guggenheim                                                            1\n",
              "spac                                                                        1\n",
              "china music                                                                 1\n",
              "chevron                                                                     1\n",
              "conocophillips                                                              1\n",
              "ммк\\n\\n🔹                                                                    1\n",
              "apple                                                                       1\n",
              "втб капитал управление активами                                             1\n",
              "global top 10                                                               1\n",
              "ммк \\n\\n                                                                    1\n",
              "🏦 deutsche bank                                                             1\n",
              "nexi\\n\\n                                                                    1\n",
              "nexi                                                                        1\n",
              "ммк\\n\\n                                                                     1\n",
              "didi                                                                        1\n",
              "санкт-петербургского театра балета                                          1\n",
              "росрыболовство                                                              1\n",
              "rds                                                                         1\n",
              "total                                                                       1\n",
              "банком россии                                                               1\n",
              "irao                                                                        1\n",
              "спб реновация                                                               1\n",
              "kraneshares csi china internet etf                                          1\n",
              "farfetch                                                                    1\n",
              "natwest group                                                               1\n",
              "ulster bank                                                                 1\n",
              "natwest                                                                     1\n",
              "банк россии                                                                 1\n",
              "ъ                                                                           1\n",
              "kraneshares csi china internet etf (kweb)                                   1\n",
              "msci china                                                                  1\n",
              "kweb - 50                                                                   1\n",
              "wsj                                                                         1\n",
              "21st century business herald                                                1\n",
              "netease - музыкальная                                                       1\n",
              "exxon mobil                                                                 1\n",
              "exxonmobil                                                                  1\n",
              "kia                                                                         1\n",
              "visa                                                                        1\n",
              "минздрав                                                                    1\n",
              "спб биржу                                                                   1\n",
              "yomiuri news                                                                1\n",
              "burger king                                                                 1\n",
              "wal-mart                                                                    1\n",
              "tyson foods                                                                 1\n",
              "tyson foods\\n\\ntyson foods                                                  1\n",
              "pinduoduo                                                                   1\n",
              "msci small cap                                                              1\n",
              "яндекса                                                                     1\n",
              "спб биржей                                                                  1\n",
              "verizon communications inc                                                  1\n",
              "at&t inc                                                                    1\n",
              "azure                                                                       1\n",
              "google cloud                                                                1\n",
              "yndx                                                                        1\n",
              "яндекс.лавка                                                                1\n",
              "dow jones                                                                   1\n",
              "team spirit                                                                 1\n",
              "the international                                                           1\n",
              "telegram                                                                    1\n",
              "twitter                                                                     1\n",
              "cчитаем                                                                     1\n",
              "полиметалл                                                                  1\n",
              "emlc                                                                        1\n",
              "oibda                                                                       1\n",
              "ра                                                                          1\n",
              "афк                                                                         1\n",
              "sberp                                                                       1\n",
              "📣 ipo спб биржи                                                             1\n",
              "втб капитал pre-ipo                                                         1\n",
              "roblox                                                                      1\n",
              "минсельхоза                                                                 1\n",
              "coinbase                                                                    1\n",
              "md medical group                                                            1\n",
              "яндексу                                                                     1\n",
              "федеральной авиационной ассоциации                                          1\n",
              "caterpillar                                                                 1\n",
              "управление авиации                                                          1\n",
              "boeing                                                                      1\n",
              "general electric                                                            1\n",
              "honeywell                                                                   1\n",
              "газпром капитал                                                             1\n",
              "allianz global investors                                                    1\n",
              "cicc asset management                                                       1\n",
              "ts lombard                                                                  1\n",
              "amundi                                                                      1\n",
              "china international capital corporation                                     1\n",
              "22v research                                                                1\n",
              "американской бирже                                                          1\n",
              "адр                                                                         1\n",
              "volvo                                                                       1\n",
              "lg energy solution                                                          1\n",
              "московской бирже                                                            1\n",
              "yves saint laurent                                                          1\n",
              "bottega veneta                                                              1\n",
              "gucci                                                                       1\n",
              "us global jets etf                                                          1\n",
              "li auto                                                                     1\n",
              "sartorius ag                                                                1\n",
              "млрд.куб.м                                                                  1\n",
              "ups                                                                         1\n",
              "union pacific corporation                                                   1\n",
              "gartner                                                                     1\n",
              "deere                                                                       1\n",
              "cloudvillage                                                                1\n",
              "nexa resources                                                              1\n",
              "de beers                                                                    1\n",
              "relatlimab                                                                  1\n",
              "адр veon                                                                    1\n",
              "nyse                                                                        1\n",
              "спб                                                                         1\n",
              "telsa                                                                       1\n",
              "adobe                                                                       1\n",
              "банка втб                                                                   1\n",
              "россия зовет!                                                               1\n",
              "сео                                                                         1\n",
              "mastercard spendingpulse                                                    1\n",
              "angloamerican                                                               1\n",
              "россия зовёт                                                                1\n",
              "емс                                                                         1\n",
              "salesforce                                                                  1\n",
              "covid                                                                       1\n",
              "sunrun                                                                      1\n",
              "транснефть                                                                  1\n",
              "афк система                                                                 1\n",
              "северсталь                                                                  1\n",
              "воркутауголь                                                                1\n",
              "hertz global holdings inc                                                   1\n",
              "cme group inc                                                               1\n",
              "lehman brothers\\n\\n🇺                                                        1\n",
              "tesco                                                                       1\n",
              "en+ груп                                                                    1\n",
              "boston scientific                                                           1\n",
              "mcdonald’s                                                                  1\n",
              "втб капитал - рентный доход                                                 1\n",
              "русгидро                                                                    1\n",
              "фск еэс                                                                     1\n",
              "lse                                                                         1\n",
              "the wall street journal                                                     1\n",
              "hydr                                                                        1\n",
              "palo alto                                                                   1\n",
              "zendesk\\n\\n\\n                                                               1\n",
              "biomarin\\n\\n\\n                                                              1\n",
              "takeda                                                                      1\n",
              "broadcom                                                                    1\n",
              "gold fields                                                                 1\n",
              "caixin/markit                                                               1\n",
              "📣 ipo «                                                                     1\n",
              "engie energyscan                                                            1\n",
              "vk                                                                          1\n",
              "airbus                                                                      1\n",
              "phillips                                                                    1\n",
              "🏭 интер рао                                                                 1\n",
              "morgan stanley                                                              1\n",
              "whatsapp                                                                    1\n",
              "headhunter\\n\\n                                                              1\n",
              "wells fargo                                                                 1\n",
              "merck                                                                       1\n",
              "lehman brothers                                                             1\n",
              "expedia group                                                               1\n",
              "spotify                                                                     1\n",
              "politico                                                                    1\n",
              "shell                                                                       1\n",
              "афк «система»                                                               1\n",
              "kvarta                                                                      1\n",
              "carnival                                                                    1\n",
              "nike                                                                        1\n",
              "интерфакс                                                                   1\n",
              "рубин                                                                       1\n",
              "rusal                                                                       1\n",
              "cf industries                                                               1\n",
              "cosco                                                                       1\n",
              "kpmg                                                                        1\n",
              "s&p 500                                                                     1\n",
              "📣 spo                                                                       1\n",
              "📣 spo «русагро                                                              1\n",
              "ing                                                                         1\n",
              "amadeus                                                                     1\n",
              "фк «динамо» - фк «крылья советов»                                           1\n",
              "втб арене                                                                   1\n",
              "throne rush                                                                 1\n",
              "jpmorgan                                                                    1\n",
              "mechel                                                                      1\n",
              "aws                                                                         1\n",
              "bank of america corporation \\ntwitter                                       1\n",
              "alibaba group holding limited\\npalantir technologies inc                    1\n",
              "berkshire hathaway inc                                                      1\n",
              "inc                                                                         1\n",
              "акрона                                                                      1\n",
              "sual                                                                        1\n",
              "rus-28                                                                      1\n",
              "🚗                                                                           1\n",
              "интер форест рус                                                            1\n",
              "красное&белое                                                               1\n",
              "юнипро                                                                      1\n",
              "bristol-myers squibb                                                        1\n",
              "конгрессе                                                                   1\n",
              "carvana                                                                     1\n",
              "россия зовет                                                                1\n",
              "mercury retail holding                                                      1\n",
              "api                                                                         1\n",
              "📣 ipo mercury retail\\n\\nmercury retail group                                1\n",
              "центрального банка                                                          1\n",
              "банк англии                                                                 1\n",
              "t-mobile us inc                                                             1\n",
              "cme group                                                                   1\n",
              "merck & co inc                                                              1\n",
              "министерство торговли                                                       1\n",
              "the boeing company \\nmicrosoft corporation \\nbaidu, inc.\\nalphabet inc      1\n",
              "фнс                                                                         1\n",
              "распадская                                                                  1\n",
              "новатэка                                                                    1\n",
              "lordstown                                                                   1\n",
              "gtlk-27                                                                     1\n",
              "peabody                                                                     1\n",
              "verizon                                                                     1\n",
              "gorillas technologies                                                       1\n",
              "rusagro                                                                     1\n",
              "digitimes                                                                   1\n",
              "фрб                                                                         1\n",
              "goldman sachs                                                               1\n",
              "amazon - в                                                                  1\n",
              "stellantis\\n\\n🍔                                                             1\n",
              "billa                                                                       1\n",
              "4кв                                                                         1\n",
              "руб,/акция                                                                  1\n",
              "novartis                                                                    1\n",
              "mercury retail - владельца                                                  1\n",
              "vale                                                                        1\n",
              "ждём                                                                        1\n",
              "pemex                                                                       1\n",
              "делимобиль                                                                  1\n",
              "📣 «циан»                                                                    1\n",
              "циан                                                                        1\n",
              "циана                                                                       1\n",
              "яндекс.музыка                                                               1\n",
              "Name: lables, dtype: int64"
            ]
          },
          "execution_count": 19,
          "metadata": {},
          "output_type": "execute_result"
        }
      ],
      "source": [
        "news_1000['lables'].value_counts()"
      ]
    },
    {
      "cell_type": "code",
      "execution_count": null,
      "metadata": {
        "id": "cFGeqokDIyXw"
      },
      "outputs": [],
      "source": [
        "def ticker(x):\n",
        "  if 'яндекс' in x or 'yndx' in x or 'yandex' in x:\n",
        "    y = 'YNDX'\n",
        "  elif 'втб' in x or 'vtb' in x:\n",
        "    y = 'VTBR'\n",
        "  elif 'vk' in x or 'вк' in x or 'mail.ru' in x:\n",
        "    y = 'MAIL'\n",
        "  elif 'x5' in x:\n",
        "    y = 'FIVE'\n",
        "  elif 'газпром' in x or 'gazp' in x:\n",
        "    y = 'GAZP'\n",
        "  elif 'русал' in x:\n",
        "    y = 'RUAL'\n",
        "  elif 'sber' in x or 'сбер' in x:\n",
        "    y = 'SBER'\n",
        "  elif 'ozon' in x or 'озон' in x:\n",
        "    y = 'OZON'\n",
        "  elif 'rosn' in x or 'росн' in x:\n",
        "    y = 'ROSN'\n",
        "  elif 'мтс' in x or 'mts' in x:\n",
        "    y = 'MTSS'\n",
        "  elif 'fb' in x or 'facebook' in x:\n",
        "    y = 'FB-RM'\n",
        "  elif 'apple' in x:\n",
        "    y = 'AAPL-RM'\n",
        "  elif 'tesla' in x or 'тесла' in x:\n",
        "    y = 'TSLA'\n",
        "  elif 'магнит' in x or 'mgnt' in x:\n",
        "    y = 'MGNT'\n",
        "  elif 'rtkm' in x or 'ростел' in x:\n",
        "    y = 'RTKM'\n",
        "  elif 'норник' in x or 'GMKN' in x:\n",
        "    y = 'GMKN'\n",
        "  else:\n",
        "    y = x\n",
        "  return y\n",
        "  "
      ]
    },
    {
      "cell_type": "code",
      "execution_count": null,
      "metadata": {
        "colab": {
          "base_uri": "https://localhost:8080/"
        },
        "id": "lGQ3G7oaMszD",
        "outputId": "d599975c-4466-49cb-cc10-4cf604f97a26"
      },
      "outputs": [
        {
          "data": {
            "text/plain": [
              "SBER       65225\n",
              "GAZP       65225\n",
              "MTSS       65225\n",
              "VTBR       65225\n",
              "ROSN       65224\n",
              "YNDX       65218\n",
              "RUAL       64014\n",
              "FIVE       63209\n",
              "MAIL       28877\n",
              "AAPL-RM    26615\n",
              "OZON       23415\n",
              "FB-RM      19483\n",
              "Name: <TICKER>, dtype: int64"
            ]
          },
          "execution_count": 21,
          "metadata": {},
          "output_type": "execute_result"
        }
      ],
      "source": [
        "data['<TICKER>'].value_counts()"
      ]
    },
    {
      "cell_type": "code",
      "execution_count": null,
      "metadata": {
        "id": "xTgg8oCQM-WC"
      },
      "outputs": [],
      "source": [
        "news_1000['<TICKER>'] = news_1000.lables.apply(lambda x: ticker(str(x)))"
      ]
    },
    {
      "cell_type": "code",
      "execution_count": null,
      "metadata": {
        "colab": {
          "base_uri": "https://localhost:8080/",
          "height": 423
        },
        "id": "ljkC8JZUOetP",
        "outputId": "9bed404c-eb12-4cde-be52-bebb8cd8f08a"
      },
      "outputs": [
        {
          "data": {
            "text/html": [
              "\n",
              "  <div id=\"df-668d0fe9-effa-41a8-ac8f-1a8b6b380390\">\n",
              "    <div class=\"colab-df-container\">\n",
              "      <div>\n",
              "<style scoped>\n",
              "    .dataframe tbody tr th:only-of-type {\n",
              "        vertical-align: middle;\n",
              "    }\n",
              "\n",
              "    .dataframe tbody tr th {\n",
              "        vertical-align: top;\n",
              "    }\n",
              "\n",
              "    .dataframe thead th {\n",
              "        text-align: right;\n",
              "    }\n",
              "</style>\n",
              "<table border=\"1\" class=\"dataframe\">\n",
              "  <thead>\n",
              "    <tr style=\"text-align: right;\">\n",
              "      <th></th>\n",
              "      <th>Unnamed: 0</th>\n",
              "      <th>&lt;TICKER&gt;</th>\n",
              "      <th>&lt;OPEN&gt;</th>\n",
              "      <th>&lt;HIGH&gt;</th>\n",
              "      <th>&lt;LOW&gt;</th>\n",
              "      <th>&lt;CLOSE&gt;</th>\n",
              "      <th>&lt;VOL&gt;</th>\n",
              "      <th>date</th>\n",
              "    </tr>\n",
              "  </thead>\n",
              "  <tbody>\n",
              "    <tr>\n",
              "      <th>0</th>\n",
              "      <td>0</td>\n",
              "      <td>FIVE</td>\n",
              "      <td>2199.000000</td>\n",
              "      <td>2199.000000</td>\n",
              "      <td>2180.000000</td>\n",
              "      <td>2199.000000</td>\n",
              "      <td>827</td>\n",
              "      <td>2018-02-01 10:10:00</td>\n",
              "    </tr>\n",
              "    <tr>\n",
              "      <th>1</th>\n",
              "      <td>1</td>\n",
              "      <td>FIVE</td>\n",
              "      <td>2199.000000</td>\n",
              "      <td>2225.500000</td>\n",
              "      <td>2199.000000</td>\n",
              "      <td>2220.000000</td>\n",
              "      <td>2347</td>\n",
              "      <td>2018-02-01 10:20:00</td>\n",
              "    </tr>\n",
              "    <tr>\n",
              "      <th>2</th>\n",
              "      <td>2</td>\n",
              "      <td>FIVE</td>\n",
              "      <td>2220.000000</td>\n",
              "      <td>2220.000000</td>\n",
              "      <td>2200.000000</td>\n",
              "      <td>2200.000000</td>\n",
              "      <td>570</td>\n",
              "      <td>2018-02-01 10:30:00</td>\n",
              "    </tr>\n",
              "    <tr>\n",
              "      <th>3</th>\n",
              "      <td>3</td>\n",
              "      <td>FIVE</td>\n",
              "      <td>2200.000000</td>\n",
              "      <td>2200.000000</td>\n",
              "      <td>2199.000000</td>\n",
              "      <td>2200.000000</td>\n",
              "      <td>6562</td>\n",
              "      <td>2018-02-01 10:40:00</td>\n",
              "    </tr>\n",
              "    <tr>\n",
              "      <th>4</th>\n",
              "      <td>4</td>\n",
              "      <td>FIVE</td>\n",
              "      <td>2200.000000</td>\n",
              "      <td>2200.000000</td>\n",
              "      <td>2198.000000</td>\n",
              "      <td>2199.000000</td>\n",
              "      <td>348</td>\n",
              "      <td>2018-02-01 10:50:00</td>\n",
              "    </tr>\n",
              "    <tr>\n",
              "      <th>...</th>\n",
              "      <td>...</td>\n",
              "      <td>...</td>\n",
              "      <td>...</td>\n",
              "      <td>...</td>\n",
              "      <td>...</td>\n",
              "      <td>...</td>\n",
              "      <td>...</td>\n",
              "      <td>...</td>\n",
              "    </tr>\n",
              "    <tr>\n",
              "      <th>616950</th>\n",
              "      <td>616950</td>\n",
              "      <td>VTBR</td>\n",
              "      <td>0.048350</td>\n",
              "      <td>0.048350</td>\n",
              "      <td>0.048270</td>\n",
              "      <td>0.048300</td>\n",
              "      <td>190580000</td>\n",
              "      <td>2021-12-30 23:10:00</td>\n",
              "    </tr>\n",
              "    <tr>\n",
              "      <th>616951</th>\n",
              "      <td>616951</td>\n",
              "      <td>VTBR</td>\n",
              "      <td>0.048315</td>\n",
              "      <td>0.048315</td>\n",
              "      <td>0.048255</td>\n",
              "      <td>0.048300</td>\n",
              "      <td>135680000</td>\n",
              "      <td>2021-12-30 23:20:00</td>\n",
              "    </tr>\n",
              "    <tr>\n",
              "      <th>616952</th>\n",
              "      <td>616952</td>\n",
              "      <td>VTBR</td>\n",
              "      <td>0.048300</td>\n",
              "      <td>0.048310</td>\n",
              "      <td>0.048255</td>\n",
              "      <td>0.048290</td>\n",
              "      <td>78810000</td>\n",
              "      <td>2021-12-30 23:30:00</td>\n",
              "    </tr>\n",
              "    <tr>\n",
              "      <th>616953</th>\n",
              "      <td>616953</td>\n",
              "      <td>VTBR</td>\n",
              "      <td>0.048290</td>\n",
              "      <td>0.048300</td>\n",
              "      <td>0.048250</td>\n",
              "      <td>0.048300</td>\n",
              "      <td>97650000</td>\n",
              "      <td>2021-12-30 23:40:00</td>\n",
              "    </tr>\n",
              "    <tr>\n",
              "      <th>616954</th>\n",
              "      <td>616954</td>\n",
              "      <td>VTBR</td>\n",
              "      <td>0.048300</td>\n",
              "      <td>0.048300</td>\n",
              "      <td>0.048190</td>\n",
              "      <td>0.048195</td>\n",
              "      <td>347400000</td>\n",
              "      <td>2021-12-30 23:50:00</td>\n",
              "    </tr>\n",
              "  </tbody>\n",
              "</table>\n",
              "<p>616955 rows × 8 columns</p>\n",
              "</div>\n",
              "      <button class=\"colab-df-convert\" onclick=\"convertToInteractive('df-668d0fe9-effa-41a8-ac8f-1a8b6b380390')\"\n",
              "              title=\"Convert this dataframe to an interactive table.\"\n",
              "              style=\"display:none;\">\n",
              "        \n",
              "  <svg xmlns=\"http://www.w3.org/2000/svg\" height=\"24px\"viewBox=\"0 0 24 24\"\n",
              "       width=\"24px\">\n",
              "    <path d=\"M0 0h24v24H0V0z\" fill=\"none\"/>\n",
              "    <path d=\"M18.56 5.44l.94 2.06.94-2.06 2.06-.94-2.06-.94-.94-2.06-.94 2.06-2.06.94zm-11 1L8.5 8.5l.94-2.06 2.06-.94-2.06-.94L8.5 2.5l-.94 2.06-2.06.94zm10 10l.94 2.06.94-2.06 2.06-.94-2.06-.94-.94-2.06-.94 2.06-2.06.94z\"/><path d=\"M17.41 7.96l-1.37-1.37c-.4-.4-.92-.59-1.43-.59-.52 0-1.04.2-1.43.59L10.3 9.45l-7.72 7.72c-.78.78-.78 2.05 0 2.83L4 21.41c.39.39.9.59 1.41.59.51 0 1.02-.2 1.41-.59l7.78-7.78 2.81-2.81c.8-.78.8-2.07 0-2.86zM5.41 20L4 18.59l7.72-7.72 1.47 1.35L5.41 20z\"/>\n",
              "  </svg>\n",
              "      </button>\n",
              "      \n",
              "  <style>\n",
              "    .colab-df-container {\n",
              "      display:flex;\n",
              "      flex-wrap:wrap;\n",
              "      gap: 12px;\n",
              "    }\n",
              "\n",
              "    .colab-df-convert {\n",
              "      background-color: #E8F0FE;\n",
              "      border: none;\n",
              "      border-radius: 50%;\n",
              "      cursor: pointer;\n",
              "      display: none;\n",
              "      fill: #1967D2;\n",
              "      height: 32px;\n",
              "      padding: 0 0 0 0;\n",
              "      width: 32px;\n",
              "    }\n",
              "\n",
              "    .colab-df-convert:hover {\n",
              "      background-color: #E2EBFA;\n",
              "      box-shadow: 0px 1px 2px rgba(60, 64, 67, 0.3), 0px 1px 3px 1px rgba(60, 64, 67, 0.15);\n",
              "      fill: #174EA6;\n",
              "    }\n",
              "\n",
              "    [theme=dark] .colab-df-convert {\n",
              "      background-color: #3B4455;\n",
              "      fill: #D2E3FC;\n",
              "    }\n",
              "\n",
              "    [theme=dark] .colab-df-convert:hover {\n",
              "      background-color: #434B5C;\n",
              "      box-shadow: 0px 1px 3px 1px rgba(0, 0, 0, 0.15);\n",
              "      filter: drop-shadow(0px 1px 2px rgba(0, 0, 0, 0.3));\n",
              "      fill: #FFFFFF;\n",
              "    }\n",
              "  </style>\n",
              "\n",
              "      <script>\n",
              "        const buttonEl =\n",
              "          document.querySelector('#df-668d0fe9-effa-41a8-ac8f-1a8b6b380390 button.colab-df-convert');\n",
              "        buttonEl.style.display =\n",
              "          google.colab.kernel.accessAllowed ? 'block' : 'none';\n",
              "\n",
              "        async function convertToInteractive(key) {\n",
              "          const element = document.querySelector('#df-668d0fe9-effa-41a8-ac8f-1a8b6b380390');\n",
              "          const dataTable =\n",
              "            await google.colab.kernel.invokeFunction('convertToInteractive',\n",
              "                                                     [key], {});\n",
              "          if (!dataTable) return;\n",
              "\n",
              "          const docLinkHtml = 'Like what you see? Visit the ' +\n",
              "            '<a target=\"_blank\" href=https://colab.research.google.com/notebooks/data_table.ipynb>data table notebook</a>'\n",
              "            + ' to learn more about interactive tables.';\n",
              "          element.innerHTML = '';\n",
              "          dataTable['output_type'] = 'display_data';\n",
              "          await google.colab.output.renderOutput(dataTable, element);\n",
              "          const docLink = document.createElement('div');\n",
              "          docLink.innerHTML = docLinkHtml;\n",
              "          element.appendChild(docLink);\n",
              "        }\n",
              "      </script>\n",
              "    </div>\n",
              "  </div>\n",
              "  "
            ],
            "text/plain": [
              "        Unnamed: 0 <TICKER>       <OPEN>       <HIGH>        <LOW>  \\\n",
              "0                0     FIVE  2199.000000  2199.000000  2180.000000   \n",
              "1                1     FIVE  2199.000000  2225.500000  2199.000000   \n",
              "2                2     FIVE  2220.000000  2220.000000  2200.000000   \n",
              "3                3     FIVE  2200.000000  2200.000000  2199.000000   \n",
              "4                4     FIVE  2200.000000  2200.000000  2198.000000   \n",
              "...            ...      ...          ...          ...          ...   \n",
              "616950      616950     VTBR     0.048350     0.048350     0.048270   \n",
              "616951      616951     VTBR     0.048315     0.048315     0.048255   \n",
              "616952      616952     VTBR     0.048300     0.048310     0.048255   \n",
              "616953      616953     VTBR     0.048290     0.048300     0.048250   \n",
              "616954      616954     VTBR     0.048300     0.048300     0.048190   \n",
              "\n",
              "            <CLOSE>      <VOL>                 date  \n",
              "0       2199.000000        827  2018-02-01 10:10:00  \n",
              "1       2220.000000       2347  2018-02-01 10:20:00  \n",
              "2       2200.000000        570  2018-02-01 10:30:00  \n",
              "3       2200.000000       6562  2018-02-01 10:40:00  \n",
              "4       2199.000000        348  2018-02-01 10:50:00  \n",
              "...             ...        ...                  ...  \n",
              "616950     0.048300  190580000  2021-12-30 23:10:00  \n",
              "616951     0.048300  135680000  2021-12-30 23:20:00  \n",
              "616952     0.048290   78810000  2021-12-30 23:30:00  \n",
              "616953     0.048300   97650000  2021-12-30 23:40:00  \n",
              "616954     0.048195  347400000  2021-12-30 23:50:00  \n",
              "\n",
              "[616955 rows x 8 columns]"
            ]
          },
          "execution_count": 29,
          "metadata": {},
          "output_type": "execute_result"
        }
      ],
      "source": [
        "data"
      ]
    },
    {
      "cell_type": "code",
      "execution_count": null,
      "metadata": {
        "colab": {
          "base_uri": "https://localhost:8080/",
          "height": 1000
        },
        "id": "t47PabusNRVx",
        "outputId": "581430d1-7b9a-433d-d640-04cf7b89b442"
      },
      "outputs": [
        {
          "data": {
            "text/html": [
              "\n",
              "  <div id=\"df-f87d51e8-ec28-47f7-a444-a53e3a77019b\">\n",
              "    <div class=\"colab-df-container\">\n",
              "      <div>\n",
              "<style scoped>\n",
              "    .dataframe tbody tr th:only-of-type {\n",
              "        vertical-align: middle;\n",
              "    }\n",
              "\n",
              "    .dataframe tbody tr th {\n",
              "        vertical-align: top;\n",
              "    }\n",
              "\n",
              "    .dataframe thead th {\n",
              "        text-align: right;\n",
              "    }\n",
              "</style>\n",
              "<table border=\"1\" class=\"dataframe\">\n",
              "  <thead>\n",
              "    <tr style=\"text-align: right;\">\n",
              "      <th></th>\n",
              "      <th>Unnamed: 0</th>\n",
              "      <th>message</th>\n",
              "      <th>date</th>\n",
              "      <th>lables</th>\n",
              "      <th>&lt;TICKER&gt;</th>\n",
              "    </tr>\n",
              "  </thead>\n",
              "  <tbody>\n",
              "    <tr>\n",
              "      <th>0</th>\n",
              "      <td>0</td>\n",
              "      <td>🏁 итоги дня, 07.12\\n\\n🇷🇺 президент рф ждет от правительства к 1 марта схему поставок газа «роснефти» на экспорт в европу. ожидаемый объем поставок 10 млрд.куб.м. газа в год, что соответствует 71% от текущего дефицита на рынке газа европы.\\n\\n🏦 инвестбанки — организаторы ipo softline — начали покрытие акций компании. потенциал роста цены 24-123%.  стремительная цифровизация бизнеса компаний на ...</td>\n",
              "      <td>2021-12-07 17:40:00</td>\n",
              "      <td>роснефти</td>\n",
              "      <td>ROSN</td>\n",
              "    </tr>\n",
              "    <tr>\n",
              "      <th>1</th>\n",
              "      <td>0</td>\n",
              "      <td>🏁 итоги дня, 07.12\\n\\n🇷🇺 президент рф ждет от правительства к 1 марта схему поставок газа «роснефти» на экспорт в европу. ожидаемый объем поставок 10 млрд.куб.м. газа в год, что соответствует 71% от текущего дефицита на рынке газа европы.\\n\\n🏦 инвестбанки — организаторы ipo softline — начали покрытие акций компании. потенциал роста цены 24-123%.  стремительная цифровизация бизнеса компаний на ...</td>\n",
              "      <td>2021-12-07 17:40:00</td>\n",
              "      <td>softline</td>\n",
              "      <td>softline</td>\n",
              "    </tr>\n",
              "    <tr>\n",
              "      <th>2</th>\n",
              "      <td>0</td>\n",
              "      <td>🏁 итоги дня, 07.12\\n\\n🇷🇺 президент рф ждет от правительства к 1 марта схему поставок газа «роснефти» на экспорт в европу. ожидаемый объем поставок 10 млрд.куб.м. газа в год, что соответствует 71% от текущего дефицита на рынке газа европы.\\n\\n🏦 инвестбанки — организаторы ipo softline — начали покрытие акций компании. потенциал роста цены 24-123%.  стремительная цифровизация бизнеса компаний на ...</td>\n",
              "      <td>2021-12-07 17:40:00</td>\n",
              "      <td>млрд.куб.м</td>\n",
              "      <td>млрд.куб.м</td>\n",
              "    </tr>\n",
              "    <tr>\n",
              "      <th>3</th>\n",
              "      <td>1</td>\n",
              "      <td>NaN</td>\n",
              "      <td>2021-12-07 15:40:00</td>\n",
              "      <td>nan</td>\n",
              "      <td>nan</td>\n",
              "    </tr>\n",
              "    <tr>\n",
              "      <th>4</th>\n",
              "      <td>2</td>\n",
              "      <td>NaN</td>\n",
              "      <td>2021-12-07 15:40:00</td>\n",
              "      <td>nan</td>\n",
              "      <td>nan</td>\n",
              "    </tr>\n",
              "    <tr>\n",
              "      <th>...</th>\n",
              "      <td>...</td>\n",
              "      <td>...</td>\n",
              "      <td>...</td>\n",
              "      <td>...</td>\n",
              "      <td>...</td>\n",
              "    </tr>\n",
              "    <tr>\n",
              "      <th>2026</th>\n",
              "      <td>999</td>\n",
              "      <td>📣 мы запустили ежедневные подкасты! \\n\\nвсе самое важное о рынках вместе с качественной аналитикой и идеями от команды экспертов втб капитал инвестиции - в кратком удобном аудиоформате. по будням с 10 до 11 выпуски появляются на всех ведущих подкаст-платформах россии, а также в нашем youtube. список площадок расширяется. подписывайтесь! \\n\\napple podcasts, яндекс.музыка, vk, soundcloud, castbo...</td>\n",
              "      <td>2021-06-30 08:10:00</td>\n",
              "      <td>soundcloud</td>\n",
              "      <td>soundcloud</td>\n",
              "    </tr>\n",
              "    <tr>\n",
              "      <th>2027</th>\n",
              "      <td>999</td>\n",
              "      <td>📣 мы запустили ежедневные подкасты! \\n\\nвсе самое важное о рынках вместе с качественной аналитикой и идеями от команды экспертов втб капитал инвестиции - в кратком удобном аудиоформате. по будням с 10 до 11 выпуски появляются на всех ведущих подкаст-платформах россии, а также в нашем youtube. список площадок расширяется. подписывайтесь! \\n\\napple podcasts, яндекс.музыка, vk, soundcloud, castbo...</td>\n",
              "      <td>2021-06-30 08:10:00</td>\n",
              "      <td>castbox</td>\n",
              "      <td>castbox</td>\n",
              "    </tr>\n",
              "    <tr>\n",
              "      <th>2028</th>\n",
              "      <td>999</td>\n",
              "      <td>📣 мы запустили ежедневные подкасты! \\n\\nвсе самое важное о рынках вместе с качественной аналитикой и идеями от команды экспертов втб капитал инвестиции - в кратком удобном аудиоформате. по будням с 10 до 11 выпуски появляются на всех ведущих подкаст-платформах россии, а также в нашем youtube. список площадок расширяется. подписывайтесь! \\n\\napple podcasts, яндекс.музыка, vk, soundcloud, castbo...</td>\n",
              "      <td>2021-06-30 08:10:00</td>\n",
              "      <td>яндекс.музыка</td>\n",
              "      <td>YNDX</td>\n",
              "    </tr>\n",
              "    <tr>\n",
              "      <th>2029</th>\n",
              "      <td>999</td>\n",
              "      <td>📣 мы запустили ежедневные подкасты! \\n\\nвсе самое важное о рынках вместе с качественной аналитикой и идеями от команды экспертов втб капитал инвестиции - в кратком удобном аудиоформате. по будням с 10 до 11 выпуски появляются на всех ведущих подкаст-платформах россии, а также в нашем youtube. список площадок расширяется. подписывайтесь! \\n\\napple podcasts, яндекс.музыка, vk, soundcloud, castbo...</td>\n",
              "      <td>2021-06-30 08:10:00</td>\n",
              "      <td>youtube</td>\n",
              "      <td>youtube</td>\n",
              "    </tr>\n",
              "    <tr>\n",
              "      <th>2030</th>\n",
              "      <td>999</td>\n",
              "      <td>📣 мы запустили ежедневные подкасты! \\n\\nвсе самое важное о рынках вместе с качественной аналитикой и идеями от команды экспертов втб капитал инвестиции - в кратком удобном аудиоформате. по будням с 10 до 11 выпуски появляются на всех ведущих подкаст-платформах россии, а также в нашем youtube. список площадок расширяется. подписывайтесь! \\n\\napple podcasts, яндекс.музыка, vk, soundcloud, castbo...</td>\n",
              "      <td>2021-06-30 08:10:00</td>\n",
              "      <td>vk</td>\n",
              "      <td>MAIL</td>\n",
              "    </tr>\n",
              "  </tbody>\n",
              "</table>\n",
              "<p>2031 rows × 5 columns</p>\n",
              "</div>\n",
              "      <button class=\"colab-df-convert\" onclick=\"convertToInteractive('df-f87d51e8-ec28-47f7-a444-a53e3a77019b')\"\n",
              "              title=\"Convert this dataframe to an interactive table.\"\n",
              "              style=\"display:none;\">\n",
              "        \n",
              "  <svg xmlns=\"http://www.w3.org/2000/svg\" height=\"24px\"viewBox=\"0 0 24 24\"\n",
              "       width=\"24px\">\n",
              "    <path d=\"M0 0h24v24H0V0z\" fill=\"none\"/>\n",
              "    <path d=\"M18.56 5.44l.94 2.06.94-2.06 2.06-.94-2.06-.94-.94-2.06-.94 2.06-2.06.94zm-11 1L8.5 8.5l.94-2.06 2.06-.94-2.06-.94L8.5 2.5l-.94 2.06-2.06.94zm10 10l.94 2.06.94-2.06 2.06-.94-2.06-.94-.94-2.06-.94 2.06-2.06.94z\"/><path d=\"M17.41 7.96l-1.37-1.37c-.4-.4-.92-.59-1.43-.59-.52 0-1.04.2-1.43.59L10.3 9.45l-7.72 7.72c-.78.78-.78 2.05 0 2.83L4 21.41c.39.39.9.59 1.41.59.51 0 1.02-.2 1.41-.59l7.78-7.78 2.81-2.81c.8-.78.8-2.07 0-2.86zM5.41 20L4 18.59l7.72-7.72 1.47 1.35L5.41 20z\"/>\n",
              "  </svg>\n",
              "      </button>\n",
              "      \n",
              "  <style>\n",
              "    .colab-df-container {\n",
              "      display:flex;\n",
              "      flex-wrap:wrap;\n",
              "      gap: 12px;\n",
              "    }\n",
              "\n",
              "    .colab-df-convert {\n",
              "      background-color: #E8F0FE;\n",
              "      border: none;\n",
              "      border-radius: 50%;\n",
              "      cursor: pointer;\n",
              "      display: none;\n",
              "      fill: #1967D2;\n",
              "      height: 32px;\n",
              "      padding: 0 0 0 0;\n",
              "      width: 32px;\n",
              "    }\n",
              "\n",
              "    .colab-df-convert:hover {\n",
              "      background-color: #E2EBFA;\n",
              "      box-shadow: 0px 1px 2px rgba(60, 64, 67, 0.3), 0px 1px 3px 1px rgba(60, 64, 67, 0.15);\n",
              "      fill: #174EA6;\n",
              "    }\n",
              "\n",
              "    [theme=dark] .colab-df-convert {\n",
              "      background-color: #3B4455;\n",
              "      fill: #D2E3FC;\n",
              "    }\n",
              "\n",
              "    [theme=dark] .colab-df-convert:hover {\n",
              "      background-color: #434B5C;\n",
              "      box-shadow: 0px 1px 3px 1px rgba(0, 0, 0, 0.15);\n",
              "      filter: drop-shadow(0px 1px 2px rgba(0, 0, 0, 0.3));\n",
              "      fill: #FFFFFF;\n",
              "    }\n",
              "  </style>\n",
              "\n",
              "      <script>\n",
              "        const buttonEl =\n",
              "          document.querySelector('#df-f87d51e8-ec28-47f7-a444-a53e3a77019b button.colab-df-convert');\n",
              "        buttonEl.style.display =\n",
              "          google.colab.kernel.accessAllowed ? 'block' : 'none';\n",
              "\n",
              "        async function convertToInteractive(key) {\n",
              "          const element = document.querySelector('#df-f87d51e8-ec28-47f7-a444-a53e3a77019b');\n",
              "          const dataTable =\n",
              "            await google.colab.kernel.invokeFunction('convertToInteractive',\n",
              "                                                     [key], {});\n",
              "          if (!dataTable) return;\n",
              "\n",
              "          const docLinkHtml = 'Like what you see? Visit the ' +\n",
              "            '<a target=\"_blank\" href=https://colab.research.google.com/notebooks/data_table.ipynb>data table notebook</a>'\n",
              "            + ' to learn more about interactive tables.';\n",
              "          element.innerHTML = '';\n",
              "          dataTable['output_type'] = 'display_data';\n",
              "          await google.colab.output.renderOutput(dataTable, element);\n",
              "          const docLink = document.createElement('div');\n",
              "          docLink.innerHTML = docLinkHtml;\n",
              "          element.appendChild(docLink);\n",
              "        }\n",
              "      </script>\n",
              "    </div>\n",
              "  </div>\n",
              "  "
            ],
            "text/plain": [
              "      Unnamed: 0  \\\n",
              "0              0   \n",
              "1              0   \n",
              "2              0   \n",
              "3              1   \n",
              "4              2   \n",
              "...          ...   \n",
              "2026         999   \n",
              "2027         999   \n",
              "2028         999   \n",
              "2029         999   \n",
              "2030         999   \n",
              "\n",
              "                                                                                                                                                                                                                                                                                                                                                                                                              message  \\\n",
              "0     🏁 итоги дня, 07.12\\n\\n🇷🇺 президент рф ждет от правительства к 1 марта схему поставок газа «роснефти» на экспорт в европу. ожидаемый объем поставок 10 млрд.куб.м. газа в год, что соответствует 71% от текущего дефицита на рынке газа европы.\\n\\n🏦 инвестбанки — организаторы ipo softline — начали покрытие акций компании. потенциал роста цены 24-123%.  стремительная цифровизация бизнеса компаний на ...   \n",
              "1     🏁 итоги дня, 07.12\\n\\n🇷🇺 президент рф ждет от правительства к 1 марта схему поставок газа «роснефти» на экспорт в европу. ожидаемый объем поставок 10 млрд.куб.м. газа в год, что соответствует 71% от текущего дефицита на рынке газа европы.\\n\\n🏦 инвестбанки — организаторы ipo softline — начали покрытие акций компании. потенциал роста цены 24-123%.  стремительная цифровизация бизнеса компаний на ...   \n",
              "2     🏁 итоги дня, 07.12\\n\\n🇷🇺 президент рф ждет от правительства к 1 марта схему поставок газа «роснефти» на экспорт в европу. ожидаемый объем поставок 10 млрд.куб.м. газа в год, что соответствует 71% от текущего дефицита на рынке газа европы.\\n\\n🏦 инвестбанки — организаторы ipo softline — начали покрытие акций компании. потенциал роста цены 24-123%.  стремительная цифровизация бизнеса компаний на ...   \n",
              "3                                                                                                                                                                                                                                                                                                                                                                                                                 NaN   \n",
              "4                                                                                                                                                                                                                                                                                                                                                                                                                 NaN   \n",
              "...                                                                                                                                                                                                                                                                                                                                                                                                               ...   \n",
              "2026  📣 мы запустили ежедневные подкасты! \\n\\nвсе самое важное о рынках вместе с качественной аналитикой и идеями от команды экспертов втб капитал инвестиции - в кратком удобном аудиоформате. по будням с 10 до 11 выпуски появляются на всех ведущих подкаст-платформах россии, а также в нашем youtube. список площадок расширяется. подписывайтесь! \\n\\napple podcasts, яндекс.музыка, vk, soundcloud, castbo...   \n",
              "2027  📣 мы запустили ежедневные подкасты! \\n\\nвсе самое важное о рынках вместе с качественной аналитикой и идеями от команды экспертов втб капитал инвестиции - в кратком удобном аудиоформате. по будням с 10 до 11 выпуски появляются на всех ведущих подкаст-платформах россии, а также в нашем youtube. список площадок расширяется. подписывайтесь! \\n\\napple podcasts, яндекс.музыка, vk, soundcloud, castbo...   \n",
              "2028  📣 мы запустили ежедневные подкасты! \\n\\nвсе самое важное о рынках вместе с качественной аналитикой и идеями от команды экспертов втб капитал инвестиции - в кратком удобном аудиоформате. по будням с 10 до 11 выпуски появляются на всех ведущих подкаст-платформах россии, а также в нашем youtube. список площадок расширяется. подписывайтесь! \\n\\napple podcasts, яндекс.музыка, vk, soundcloud, castbo...   \n",
              "2029  📣 мы запустили ежедневные подкасты! \\n\\nвсе самое важное о рынках вместе с качественной аналитикой и идеями от команды экспертов втб капитал инвестиции - в кратком удобном аудиоформате. по будням с 10 до 11 выпуски появляются на всех ведущих подкаст-платформах россии, а также в нашем youtube. список площадок расширяется. подписывайтесь! \\n\\napple podcasts, яндекс.музыка, vk, soundcloud, castbo...   \n",
              "2030  📣 мы запустили ежедневные подкасты! \\n\\nвсе самое важное о рынках вместе с качественной аналитикой и идеями от команды экспертов втб капитал инвестиции - в кратком удобном аудиоформате. по будням с 10 до 11 выпуски появляются на всех ведущих подкаст-платформах россии, а также в нашем youtube. список площадок расширяется. подписывайтесь! \\n\\napple podcasts, яндекс.музыка, vk, soundcloud, castbo...   \n",
              "\n",
              "                     date         lables    <TICKER>  \n",
              "0     2021-12-07 17:40:00       роснефти        ROSN  \n",
              "1     2021-12-07 17:40:00       softline    softline  \n",
              "2     2021-12-07 17:40:00     млрд.куб.м  млрд.куб.м  \n",
              "3     2021-12-07 15:40:00            nan         nan  \n",
              "4     2021-12-07 15:40:00            nan         nan  \n",
              "...                   ...            ...         ...  \n",
              "2026  2021-06-30 08:10:00     soundcloud  soundcloud  \n",
              "2027  2021-06-30 08:10:00        castbox     castbox  \n",
              "2028  2021-06-30 08:10:00  яндекс.музыка        YNDX  \n",
              "2029  2021-06-30 08:10:00        youtube     youtube  \n",
              "2030  2021-06-30 08:10:00             vk        MAIL  \n",
              "\n",
              "[2031 rows x 5 columns]"
            ]
          },
          "execution_count": 33,
          "metadata": {},
          "output_type": "execute_result"
        }
      ],
      "source": [
        "news_1000"
      ]
    },
    {
      "cell_type": "code",
      "execution_count": null,
      "metadata": {
        "id": "M8tEvu8yOL8h"
      },
      "outputs": [],
      "source": [
        "result = pd.merge(data[['<TICKER>','<OPEN>', '<HIGH>', '<LOW>', '<CLOSE>', '<VOL>', 'date']],\n",
        "                  news_1000[['message', 'date', '<TICKER>']], on=['date', '<TICKER>'], how = 'left')"
      ]
    },
    {
      "cell_type": "code",
      "execution_count": null,
      "metadata": {
        "colab": {
          "base_uri": "https://localhost:8080/"
        },
        "id": "5KArb1WyPKEQ",
        "outputId": "844648bc-4605-4819-827d-b6706ac3e15b"
      },
      "outputs": [
        {
          "data": {
            "text/plain": [
              "True     616705\n",
              "False       269\n",
              "Name: message, dtype: int64"
            ]
          },
          "execution_count": 26,
          "metadata": {},
          "output_type": "execute_result"
        }
      ],
      "source": [
        "result.message.isna().value_counts()"
      ]
    }
  ],
  "metadata": {
    "accelerator": "GPU",
    "colab": {
      "collapsed_sections": [],
      "name": "Без названия.ipynb",
      "provenance": []
    },
    "kernelspec": {
      "display_name": "Python 3.5",
      "language": "python",
      "name": "py310"
    },
    "language_info": {
      "codemirror_mode": {
        "name": "ipython",
        "version": 3
      },
      "file_extension": ".py",
      "mimetype": "text/x-python",
      "name": "python",
      "nbconvert_exporter": "python",
      "pygments_lexer": "ipython3",
      "version": "3.6.13"
    }
  },
  "nbformat": 4,
  "nbformat_minor": 0
}