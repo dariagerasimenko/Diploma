{
 "cells": [
  {
   "cell_type": "code",
   "execution_count": 2,
   "metadata": {
    "id": "wraJLTlIBF61"
   },
   "outputs": [],
   "source": [
    "import os\n",
    "import numpy as np\n",
    "import pandas as pd\n"
   ]
  },
  {
   "cell_type": "code",
   "execution_count": 3,
   "metadata": {
    "id": "YmUnbj8WJavX"
   },
   "outputs": [],
   "source": [
    "import sys\n",
    "\n",
    "if not sys.warnoptions:\n",
    "    import warnings\n",
    "    warnings.simplefilter(\"ignore\")"
   ]
  },
  {
   "cell_type": "code",
   "execution_count": 4,
   "metadata": {
    "id": "VLTgIvpiWId9"
   },
   "outputs": [],
   "source": [
    "df = pd.read_csv(\"result.csv\")"
   ]
  },
  {
   "cell_type": "markdown",
   "metadata": {
    "id": "Wa2f8nrTBF67"
   },
   "source": [
    "# NER"
   ]
  },
  {
   "cell_type": "code",
   "execution_count": 5,
   "metadata": {
    "colab": {
     "base_uri": "https://localhost:8080/"
    },
    "id": "tYoepmMMBF68",
    "outputId": "ce7a85ad-ac95-4a6f-f156-c2223aae06dc"
   },
   "outputs": [
    {
     "name": "stdout",
     "output_type": "stream",
     "text": [
      "3.6.13\n"
     ]
    }
   ],
   "source": [
    "from platform import python_version\n",
    "\n",
    "print(python_version())"
   ]
  },
  {
   "cell_type": "code",
   "execution_count": 6,
   "metadata": {
    "colab": {
     "base_uri": "https://localhost:8080/",
     "height": 1000
    },
    "id": "RTbvrqtGBF68",
    "outputId": "83eb3319-bdb6-46b9-f99b-61d1d1a66204"
   },
   "outputs": [
    {
     "name": "stdout",
     "output_type": "stream",
     "text": [
      "Requirement already satisfied: deeppavlov in /Users/dariagerasimenko/opt/anaconda3/envs/py310/lib/python3.6/site-packages (0.17.2)\n",
      "Requirement already satisfied: scikit-learn==0.21.2 in /Users/dariagerasimenko/opt/anaconda3/envs/py310/lib/python3.6/site-packages (from deeppavlov) (0.21.2)\n",
      "Requirement already satisfied: pymorphy2-dicts-ru in /Users/dariagerasimenko/opt/anaconda3/envs/py310/lib/python3.6/site-packages (from deeppavlov) (2.4.417127.4579844)\n",
      "Requirement already satisfied: Cython==0.29.14 in /Users/dariagerasimenko/opt/anaconda3/envs/py310/lib/python3.6/site-packages (from deeppavlov) (0.29.14)\n",
      "Requirement already satisfied: fastapi==0.47.1 in /Users/dariagerasimenko/opt/anaconda3/envs/py310/lib/python3.6/site-packages (from deeppavlov) (0.47.1)\n",
      "Requirement already satisfied: scipy==1.4.1 in /Users/dariagerasimenko/opt/anaconda3/envs/py310/lib/python3.6/site-packages (from deeppavlov) (1.4.1)\n",
      "Requirement already satisfied: h5py==2.10.0 in /Users/dariagerasimenko/opt/anaconda3/envs/py310/lib/python3.6/site-packages (from deeppavlov) (2.10.0)\n",
      "Requirement already satisfied: pymorphy2==0.8 in /Users/dariagerasimenko/opt/anaconda3/envs/py310/lib/python3.6/site-packages (from deeppavlov) (0.8)\n",
      "Requirement already satisfied: pytz==2019.1 in /Users/dariagerasimenko/opt/anaconda3/envs/py310/lib/python3.6/site-packages (from deeppavlov) (2019.1)\n",
      "Requirement already satisfied: filelock==3.0.12 in /Users/dariagerasimenko/opt/anaconda3/envs/py310/lib/python3.6/site-packages (from deeppavlov) (3.0.12)\n",
      "Requirement already satisfied: pandas==0.25.3 in /Users/dariagerasimenko/opt/anaconda3/envs/py310/lib/python3.6/site-packages (from deeppavlov) (0.25.3)\n",
      "Requirement already satisfied: rusenttokenize==0.0.5 in /Users/dariagerasimenko/opt/anaconda3/envs/py310/lib/python3.6/site-packages (from deeppavlov) (0.0.5)\n",
      "Requirement already satisfied: pydantic==1.3 in /Users/dariagerasimenko/opt/anaconda3/envs/py310/lib/python3.6/site-packages (from deeppavlov) (1.3)\n",
      "Requirement already satisfied: pytelegrambotapi==3.6.7 in /Users/dariagerasimenko/opt/anaconda3/envs/py310/lib/python3.6/site-packages (from deeppavlov) (3.6.7)\n",
      "Requirement already satisfied: requests==2.22.0 in /Users/dariagerasimenko/opt/anaconda3/envs/py310/lib/python3.6/site-packages (from deeppavlov) (2.22.0)\n",
      "Requirement already satisfied: numpy==1.18.0 in /Users/dariagerasimenko/opt/anaconda3/envs/py310/lib/python3.6/site-packages (from deeppavlov) (1.18.0)\n",
      "Requirement already satisfied: tqdm==4.62.0 in /Users/dariagerasimenko/opt/anaconda3/envs/py310/lib/python3.6/site-packages (from deeppavlov) (4.62.0)\n",
      "Requirement already satisfied: nltk==3.4.5 in /Users/dariagerasimenko/opt/anaconda3/envs/py310/lib/python3.6/site-packages (from deeppavlov) (3.4.5)\n",
      "Requirement already satisfied: sacremoses==0.0.35 in /Users/dariagerasimenko/opt/anaconda3/envs/py310/lib/python3.6/site-packages (from deeppavlov) (0.0.35)\n",
      "Requirement already satisfied: pyopenssl==19.1.0 in /Users/dariagerasimenko/opt/anaconda3/envs/py310/lib/python3.6/site-packages (from deeppavlov) (19.1.0)\n",
      "Requirement already satisfied: overrides==2.7.0 in /Users/dariagerasimenko/opt/anaconda3/envs/py310/lib/python3.6/site-packages (from deeppavlov) (2.7.0)\n",
      "Requirement already satisfied: aio-pika==6.4.1 in /Users/dariagerasimenko/opt/anaconda3/envs/py310/lib/python3.6/site-packages (from deeppavlov) (6.4.1)\n",
      "Requirement already satisfied: prometheus-client==0.7.1 in /Users/dariagerasimenko/opt/anaconda3/envs/py310/lib/python3.6/site-packages (from deeppavlov) (0.7.1)\n",
      "Requirement already satisfied: uvloop==0.14.0 in /Users/dariagerasimenko/opt/anaconda3/envs/py310/lib/python3.6/site-packages (from deeppavlov) (0.14.0)\n",
      "Requirement already satisfied: uvicorn==0.11.7 in /Users/dariagerasimenko/opt/anaconda3/envs/py310/lib/python3.6/site-packages (from deeppavlov) (0.11.7)\n",
      "Requirement already satisfied: click==7.1.2 in /Users/dariagerasimenko/opt/anaconda3/envs/py310/lib/python3.6/site-packages (from deeppavlov) (7.1.2)\n",
      "Requirement already satisfied: ruamel.yaml==0.15.100 in /Users/dariagerasimenko/opt/anaconda3/envs/py310/lib/python3.6/site-packages (from deeppavlov) (0.15.100)\n",
      "Requirement already satisfied: aiormq<4,>=3.2.0 in /Users/dariagerasimenko/opt/anaconda3/envs/py310/lib/python3.6/site-packages (from aio-pika==6.4.1->deeppavlov) (3.3.1)\n",
      "Requirement already satisfied: yarl in /Users/dariagerasimenko/opt/anaconda3/envs/py310/lib/python3.6/site-packages (from aio-pika==6.4.1->deeppavlov) (1.7.2)\n",
      "Requirement already satisfied: starlette<=0.12.9,>=0.12.9 in /Users/dariagerasimenko/opt/anaconda3/envs/py310/lib/python3.6/site-packages (from fastapi==0.47.1->deeppavlov) (0.12.9)\n",
      "Requirement already satisfied: six in /Users/dariagerasimenko/opt/anaconda3/envs/py310/lib/python3.6/site-packages (from h5py==2.10.0->deeppavlov) (1.15.0)\n",
      "Requirement already satisfied: python-dateutil>=2.6.1 in /Users/dariagerasimenko/opt/anaconda3/envs/py310/lib/python3.6/site-packages (from pandas==0.25.3->deeppavlov) (2.8.2)\n",
      "Requirement already satisfied: dataclasses>=0.6 in /Users/dariagerasimenko/opt/anaconda3/envs/py310/lib/python3.6/site-packages (from pydantic==1.3->deeppavlov) (0.8)\n",
      "Requirement already satisfied: dawg-python>=0.7 in /Users/dariagerasimenko/opt/anaconda3/envs/py310/lib/python3.6/site-packages (from pymorphy2==0.8->deeppavlov) (0.7.2)\n",
      "Requirement already satisfied: docopt>=0.6 in /Users/dariagerasimenko/opt/anaconda3/envs/py310/lib/python3.6/site-packages (from pymorphy2==0.8->deeppavlov) (0.6.2)\n",
      "Requirement already satisfied: pymorphy2-dicts<3.0,>=2.4 in /Users/dariagerasimenko/opt/anaconda3/envs/py310/lib/python3.6/site-packages (from pymorphy2==0.8->deeppavlov) (2.4.393442.3710985)\n",
      "Requirement already satisfied: cryptography>=2.8 in /Users/dariagerasimenko/opt/anaconda3/envs/py310/lib/python3.6/site-packages (from pyopenssl==19.1.0->deeppavlov) (36.0.1)\n",
      "Requirement already satisfied: chardet<3.1.0,>=3.0.2 in /Users/dariagerasimenko/opt/anaconda3/envs/py310/lib/python3.6/site-packages (from requests==2.22.0->deeppavlov) (3.0.4)\n",
      "Requirement already satisfied: idna<2.9,>=2.5 in /Users/dariagerasimenko/opt/anaconda3/envs/py310/lib/python3.6/site-packages (from requests==2.22.0->deeppavlov) (2.8)\n",
      "Requirement already satisfied: urllib3!=1.25.0,!=1.25.1,<1.26,>=1.21.1 in /Users/dariagerasimenko/opt/anaconda3/envs/py310/lib/python3.6/site-packages (from requests==2.22.0->deeppavlov) (1.25.11)\n",
      "Requirement already satisfied: certifi>=2017.4.17 in /Users/dariagerasimenko/opt/anaconda3/envs/py310/lib/python3.6/site-packages (from requests==2.22.0->deeppavlov) (2021.5.30)\n",
      "Requirement already satisfied: joblib in /Users/dariagerasimenko/opt/anaconda3/envs/py310/lib/python3.6/site-packages (from sacremoses==0.0.35->deeppavlov) (1.1.0)\n",
      "Requirement already satisfied: h11<0.10,>=0.8 in /Users/dariagerasimenko/opt/anaconda3/envs/py310/lib/python3.6/site-packages (from uvicorn==0.11.7->deeppavlov) (0.9.0)\n",
      "Requirement already satisfied: websockets==8.* in /Users/dariagerasimenko/opt/anaconda3/envs/py310/lib/python3.6/site-packages (from uvicorn==0.11.7->deeppavlov) (8.1)\n",
      "Requirement already satisfied: httptools==0.1.* in /Users/dariagerasimenko/opt/anaconda3/envs/py310/lib/python3.6/site-packages (from uvicorn==0.11.7->deeppavlov) (0.1.2)\n",
      "Requirement already satisfied: pamqp==2.3.0 in /Users/dariagerasimenko/opt/anaconda3/envs/py310/lib/python3.6/site-packages (from aiormq<4,>=3.2.0->aio-pika==6.4.1->deeppavlov) (2.3.0)\n",
      "Requirement already satisfied: cffi>=1.12 in /Users/dariagerasimenko/opt/anaconda3/envs/py310/lib/python3.6/site-packages (from cryptography>=2.8->pyopenssl==19.1.0->deeppavlov) (1.15.0)\n",
      "Requirement already satisfied: pycparser in /Users/dariagerasimenko/opt/anaconda3/envs/py310/lib/python3.6/site-packages (from cffi>=1.12->cryptography>=2.8->pyopenssl==19.1.0->deeppavlov) (2.21)\n",
      "Requirement already satisfied: multidict>=4.0 in /Users/dariagerasimenko/opt/anaconda3/envs/py310/lib/python3.6/site-packages (from yarl->aio-pika==6.4.1->deeppavlov) (5.2.0)\n",
      "Requirement already satisfied: typing-extensions>=3.7.4 in /Users/dariagerasimenko/opt/anaconda3/envs/py310/lib/python3.6/site-packages (from yarl->aio-pika==6.4.1->deeppavlov) (3.7.4.3)\n",
      "Note: you may need to restart the kernel to use updated packages.\n"
     ]
    }
   ],
   "source": [
    "pip install deeppavlov"
   ]
  },
  {
   "cell_type": "code",
   "execution_count": null,
   "metadata": {
    "colab": {
     "base_uri": "https://localhost:8080/"
    },
    "id": "LqYMPEXwBF69",
    "outputId": "b8935e61-e35c-461b-b784-f70ebd98fbc0"
   },
   "outputs": [
    {
     "name": "stderr",
     "output_type": "stream",
     "text": [
      "2022-02-25 17:35:54.195 INFO in 'deeppavlov.download'['download'] at line 138: Skipped http://files.deeppavlov.ai/deeppavlov_data/ner_rus_v3_cpu_compatible.tar.gz download because of matching hashes\n",
      "2022-02-25 17:35:56.857 INFO in 'deeppavlov.download'['download'] at line 138: Skipped http://files.deeppavlov.ai/embeddings/lenta_lower_100.bin download because of matching hashes\n",
      "[nltk_data] Downloading package punkt to\n",
      "[nltk_data]     /Users/dariagerasimenko/nltk_data...\n",
      "[nltk_data]   Package punkt is already up-to-date!\n",
      "[nltk_data] Downloading package stopwords to\n",
      "[nltk_data]     /Users/dariagerasimenko/nltk_data...\n",
      "[nltk_data]   Package stopwords is already up-to-date!\n",
      "[nltk_data] Downloading package perluniprops to\n",
      "[nltk_data]     /Users/dariagerasimenko/nltk_data...\n",
      "[nltk_data]   Package perluniprops is already up-to-date!\n",
      "[nltk_data] Downloading package nonbreaking_prefixes to\n",
      "[nltk_data]     /Users/dariagerasimenko/nltk_data...\n",
      "[nltk_data]   Package nonbreaking_prefixes is already up-to-date!\n",
      "2022-02-25 17:35:58.411 INFO in 'deeppavlov.core.data.simple_vocab'['simple_vocab'] at line 115: [loading vocabulary from /Users/dariagerasimenko/.deeppavlov/models/ner_rus/word.dict]\n",
      "2022-02-25 17:35:58.442 INFO in 'deeppavlov.core.data.simple_vocab'['simple_vocab'] at line 115: [loading vocabulary from /Users/dariagerasimenko/.deeppavlov/models/ner_rus/tag.dict]\n",
      "2022-02-25 17:35:58.444 INFO in 'deeppavlov.core.data.simple_vocab'['simple_vocab'] at line 115: [loading vocabulary from /Users/dariagerasimenko/.deeppavlov/models/ner_rus/char.dict]\n",
      "2022-02-25 17:35:58.478 INFO in 'deeppavlov.models.embedders.fasttext_embedder'['fasttext_embedder'] at line 53: [loading fastText embeddings from `/Users/dariagerasimenko/.deeppavlov/downloads/embeddings/lenta_lower_100.bin`]\n",
      "Warning : `load_model` does not return WordVectorModel or SupervisedModel any more, but a `FastText` object which is very similar.\n"
     ]
    }
   ],
   "source": [
    "from deeppavlov import build_model, configs\n",
    "\n",
    "ner_model = build_model(configs.ner.ner_rus , download=True)\n",
    "ner_model(['Компания « Андэк » , специализирующаяся на решениях для обеспечения безопасности бизнеса , сообщила о том , что Вячеслав Максимов , заместитель генерального директора компании , возглавил направление по оптимизации процессов управления информационной безопасностью '])"
   ]
  },
  {
   "cell_type": "code",
   "execution_count": 1,
   "metadata": {
    "colab": {
     "base_uri": "https://localhost:8080/"
    },
    "id": "MgdzbL3WBF69",
    "outputId": "6ff06371-e584-4fc8-c982-31899ac0bd44"
   },
   "outputs": [
    {
     "name": "stdout",
     "output_type": "stream",
     "text": [
      "Requirement already satisfied: fasttext in /Users/dariagerasimenko/opt/anaconda3/envs/py310/lib/python3.6/site-packages (0.9.2)\n",
      "Requirement already satisfied: setuptools>=0.7.0 in /Users/dariagerasimenko/opt/anaconda3/envs/py310/lib/python3.6/site-packages (from fasttext) (58.0.4)\n",
      "Requirement already satisfied: pybind11>=2.2 in /Users/dariagerasimenko/opt/anaconda3/envs/py310/lib/python3.6/site-packages (from fasttext) (2.9.1)\n",
      "Requirement already satisfied: numpy in /Users/dariagerasimenko/opt/anaconda3/envs/py310/lib/python3.6/site-packages (from fasttext) (1.18.0)\n",
      "Note: you may need to restart the kernel to use updated packages.\n"
     ]
    }
   ],
   "source": [
    "pip install fasttext"
   ]
  },
  {
   "cell_type": "code",
   "execution_count": 2,
   "metadata": {
    "colab": {
     "base_uri": "https://localhost:8080/"
    },
    "id": "-V2QJ3BpBF69",
    "outputId": "28fc0518-85fc-4d93-aadf-cb1c1eeea67d"
   },
   "outputs": [
    {
     "name": "stdout",
     "output_type": "stream",
     "text": [
      "\u001b[33mWARNING: Skipping tensorflow as it is not installed.\u001b[0m\u001b[33m\n",
      "\u001b[0m\u001b[31mERROR: Could not find a version that satisfies the requirement tensorflow==1.14.0 (from versions: 2.2.0rc3, 2.2.0rc4, 2.2.0, 2.2.1, 2.2.2, 2.2.3, 2.3.0rc0, 2.3.0rc1, 2.3.0rc2, 2.3.0, 2.3.1, 2.3.2, 2.3.3, 2.3.4, 2.4.0rc0, 2.4.0rc1, 2.4.0rc2, 2.4.0rc3, 2.4.0rc4, 2.4.0, 2.4.1, 2.4.2, 2.4.3, 2.4.4, 2.5.0rc0, 2.5.0rc1, 2.5.0rc2, 2.5.0rc3, 2.5.0, 2.5.1, 2.5.2, 2.5.3, 2.6.0rc0, 2.6.0rc1, 2.6.0rc2, 2.6.0, 2.6.1, 2.6.2, 2.6.3, 2.7.0rc0, 2.7.0rc1, 2.7.0, 2.7.1, 2.8.0rc0, 2.8.0rc1, 2.8.0)\u001b[0m\u001b[31m\n",
      "\u001b[0m\u001b[31mERROR: No matching distribution found for tensorflow==1.14.0\u001b[0m\u001b[31m\n",
      "\u001b[0m"
     ]
    }
   ],
   "source": [
    "!pip uninstall tensorflow --yes\n",
    "!pip install tensorflow==1.14.0"
   ]
  },
  {
   "cell_type": "markdown",
   "metadata": {
    "id": "ipKDRV2mKcob"
   },
   "source": [
    "## Обрабатываем данные"
   ]
  },
  {
   "cell_type": "code",
   "execution_count": 26,
   "metadata": {
    "id": "91vx_CgEiTYl"
   },
   "outputs": [],
   "source": [
    "#df_1 = df.copy().head(10000)"
   ]
  },
  {
   "cell_type": "code",
   "execution_count": null,
   "metadata": {
    "id": "cM5aynLiKQF6"
   },
   "outputs": [],
   "source": [
    "df['Разметка'] = df['message'].apply(lambda x: ner_model([str(x)]))\n"
   ]
  },
  {
   "cell_type": "code",
   "execution_count": 4,
   "metadata": {
    "colab": {
     "base_uri": "https://localhost:8080/",
     "height": 168
    },
    "id": "6h2GkdNpR3wD",
    "outputId": "0ee91fa5-9c0c-49be-824a-e1e3cb87978f"
   },
   "outputs": [
    {
     "ename": "NameError",
     "evalue": "ignored",
     "output_type": "error",
     "traceback": [
      "\u001b[0;31m---------------------------------------------------------------------------\u001b[0m",
      "\u001b[0;31mNameError\u001b[0m                                 Traceback (most recent call last)",
      "\u001b[0;32m<ipython-input-4-9bb06c409e14>\u001b[0m in \u001b[0;36m<module>\u001b[0;34m()\u001b[0m\n\u001b[0;32m----> 1\u001b[0;31m \u001b[0mdf\u001b[0m\u001b[0;34m[\u001b[0m\u001b[0;34m'message'\u001b[0m\u001b[0;34m]\u001b[0m\u001b[0;34m\u001b[0m\u001b[0;34m\u001b[0m\u001b[0m\n\u001b[0m",
      "\u001b[0;31mNameError\u001b[0m: name 'df' is not defined"
     ]
    }
   ],
   "source": [
    "df['message']"
   ]
  },
  {
   "cell_type": "code",
   "execution_count": 3,
   "metadata": {
    "colab": {
     "base_uri": "https://localhost:8080/",
     "height": 168
    },
    "id": "tJis6FRzMPDt",
    "outputId": "d56829c1-efb6-45bd-e65c-010c414ec1b1"
   },
   "outputs": [
    {
     "ename": "NameError",
     "evalue": "ignored",
     "output_type": "error",
     "traceback": [
      "\u001b[0;31m---------------------------------------------------------------------------\u001b[0m",
      "\u001b[0;31mNameError\u001b[0m                                 Traceback (most recent call last)",
      "\u001b[0;32m<ipython-input-3-6afa9aa8c24e>\u001b[0m in \u001b[0;36m<module>\u001b[0;34m()\u001b[0m\n\u001b[0;32m----> 1\u001b[0;31m \u001b[0mdf\u001b[0m\u001b[0;34m.\u001b[0m\u001b[0mto_csv\u001b[0m\u001b[0;34m(\u001b[0m\u001b[0;34m'df.csv'\u001b[0m\u001b[0;34m)\u001b[0m\u001b[0;34m\u001b[0m\u001b[0;34m\u001b[0m\u001b[0m\n\u001b[0m",
      "\u001b[0;31mNameError\u001b[0m: name 'df' is not defined"
     ]
    }
   ],
   "source": [
    "df.to_csv('df.csv')"
   ]
  }
 ],
 "metadata": {
  "accelerator": "GPU",
  "colab": {
   "collapsed_sections": [],
   "name": "Без названия.ipynb",
   "provenance": []
  },
  "kernelspec": {
   "display_name": "Python 3.5",
   "language": "python",
   "name": "py310"
  },
  "language_info": {
   "codemirror_mode": {
    "name": "ipython",
    "version": 3
   },
   "file_extension": ".py",
   "mimetype": "text/x-python",
   "name": "python",
   "nbconvert_exporter": "python",
   "pygments_lexer": "ipython3",
   "version": "3.6.13"
  }
 },
 "nbformat": 4,
 "nbformat_minor": 1
}
